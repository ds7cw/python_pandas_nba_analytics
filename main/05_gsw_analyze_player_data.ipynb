{
 "cells": [
  {
   "cell_type": "code",
   "execution_count": 76,
   "metadata": {},
   "outputs": [],
   "source": [
    "import pandas as pd\n",
    "pd.set_option('display.max_columns', None)\n",
    "\n",
    "\n",
    "df = pd.read_excel('../data/gsw_box_score_player_stats.xlsx')"
   ]
  },
  {
   "cell_type": "markdown",
   "metadata": {},
   "source": [
    "### Stephen Curry Stats"
   ]
  },
  {
   "cell_type": "code",
   "execution_count": 77,
   "metadata": {},
   "outputs": [
    {
     "data": {
      "text/plain": [
       "1"
      ]
     },
     "execution_count": 77,
     "metadata": {},
     "output_type": "execute_result"
    }
   ],
   "source": [
    "steph_df = df[(df['NAME'] == 'Stephen Curry') & (df['MIN'].notna())]\n",
    "steph_df.NAME.nunique()"
   ]
  },
  {
   "cell_type": "code",
   "execution_count": 78,
   "metadata": {},
   "outputs": [
    {
     "data": {
      "text/html": [
       "<div>\n",
       "<style scoped>\n",
       "    .dataframe tbody tr th:only-of-type {\n",
       "        vertical-align: middle;\n",
       "    }\n",
       "\n",
       "    .dataframe tbody tr th {\n",
       "        vertical-align: top;\n",
       "    }\n",
       "\n",
       "    .dataframe thead th {\n",
       "        text-align: right;\n",
       "    }\n",
       "</style>\n",
       "<table border=\"1\" class=\"dataframe\">\n",
       "  <thead>\n",
       "    <tr style=\"text-align: right;\">\n",
       "      <th></th>\n",
       "      <th>Unnamed: 0</th>\n",
       "      <th>NAME</th>\n",
       "      <th>TEAM</th>\n",
       "      <th>OPP</th>\n",
       "      <th>STATUS</th>\n",
       "      <th>DATE</th>\n",
       "      <th>MIN</th>\n",
       "      <th>FGM</th>\n",
       "      <th>FGA</th>\n",
       "      <th>FG%</th>\n",
       "      <th>3PM</th>\n",
       "      <th>3PA</th>\n",
       "      <th>3P%</th>\n",
       "      <th>FTM</th>\n",
       "      <th>FTA</th>\n",
       "      <th>FT%</th>\n",
       "      <th>OREB</th>\n",
       "      <th>DREB</th>\n",
       "      <th>TREB</th>\n",
       "      <th>AST</th>\n",
       "      <th>STL</th>\n",
       "      <th>BLK</th>\n",
       "      <th>TOV</th>\n",
       "      <th>PF</th>\n",
       "      <th>PTS</th>\n",
       "      <th>+/-</th>\n",
       "    </tr>\n",
       "  </thead>\n",
       "  <tbody>\n",
       "    <tr>\n",
       "      <th>4</th>\n",
       "      <td>4</td>\n",
       "      <td>Stephen Curry</td>\n",
       "      <td>GSW</td>\n",
       "      <td>POR</td>\n",
       "      <td>away</td>\n",
       "      <td>2024-10-23</td>\n",
       "      <td>25:04</td>\n",
       "      <td>4</td>\n",
       "      <td>10</td>\n",
       "      <td>0.400</td>\n",
       "      <td>3</td>\n",
       "      <td>7</td>\n",
       "      <td>0.429</td>\n",
       "      <td>6</td>\n",
       "      <td>6</td>\n",
       "      <td>1.0</td>\n",
       "      <td>0</td>\n",
       "      <td>9</td>\n",
       "      <td>9</td>\n",
       "      <td>10</td>\n",
       "      <td>2</td>\n",
       "      <td>0</td>\n",
       "      <td>2</td>\n",
       "      <td>0</td>\n",
       "      <td>17</td>\n",
       "      <td>23</td>\n",
       "    </tr>\n",
       "    <tr>\n",
       "      <th>33</th>\n",
       "      <td>33</td>\n",
       "      <td>Stephen Curry</td>\n",
       "      <td>GSW</td>\n",
       "      <td>UTA</td>\n",
       "      <td>away</td>\n",
       "      <td>2024-10-25</td>\n",
       "      <td>27:25</td>\n",
       "      <td>7</td>\n",
       "      <td>20</td>\n",
       "      <td>0.350</td>\n",
       "      <td>4</td>\n",
       "      <td>13</td>\n",
       "      <td>0.308</td>\n",
       "      <td>2</td>\n",
       "      <td>2</td>\n",
       "      <td>1.0</td>\n",
       "      <td>0</td>\n",
       "      <td>3</td>\n",
       "      <td>3</td>\n",
       "      <td>4</td>\n",
       "      <td>2</td>\n",
       "      <td>0</td>\n",
       "      <td>3</td>\n",
       "      <td>3</td>\n",
       "      <td>20</td>\n",
       "      <td>22</td>\n",
       "    </tr>\n",
       "    <tr>\n",
       "      <th>75</th>\n",
       "      <td>75</td>\n",
       "      <td>Stephen Curry</td>\n",
       "      <td>GSW</td>\n",
       "      <td>LAC</td>\n",
       "      <td>home</td>\n",
       "      <td>2024-10-27</td>\n",
       "      <td>26:42</td>\n",
       "      <td>6</td>\n",
       "      <td>11</td>\n",
       "      <td>0.545</td>\n",
       "      <td>4</td>\n",
       "      <td>7</td>\n",
       "      <td>0.571</td>\n",
       "      <td>2</td>\n",
       "      <td>2</td>\n",
       "      <td>1.0</td>\n",
       "      <td>0</td>\n",
       "      <td>4</td>\n",
       "      <td>4</td>\n",
       "      <td>6</td>\n",
       "      <td>2</td>\n",
       "      <td>1</td>\n",
       "      <td>6</td>\n",
       "      <td>1</td>\n",
       "      <td>18</td>\n",
       "      <td>2</td>\n",
       "    </tr>\n",
       "  </tbody>\n",
       "</table>\n",
       "</div>"
      ],
      "text/plain": [
       "    Unnamed: 0           NAME TEAM  OPP STATUS        DATE    MIN  FGM  FGA  \\\n",
       "4            4  Stephen Curry  GSW  POR   away  2024-10-23  25:04    4   10   \n",
       "33          33  Stephen Curry  GSW  UTA   away  2024-10-25  27:25    7   20   \n",
       "75          75  Stephen Curry  GSW  LAC   home  2024-10-27  26:42    6   11   \n",
       "\n",
       "      FG%  3PM  3PA    3P%  FTM  FTA  FT%  OREB  DREB  TREB  AST  STL  BLK  \\\n",
       "4   0.400    3    7  0.429    6    6  1.0     0     9     9   10    2    0   \n",
       "33  0.350    4   13  0.308    2    2  1.0     0     3     3    4    2    0   \n",
       "75  0.545    4    7  0.571    2    2  1.0     0     4     4    6    2    1   \n",
       "\n",
       "    TOV  PF  PTS  +/-  \n",
       "4     2   0   17   23  \n",
       "33    3   3   20   22  \n",
       "75    6   1   18    2  "
      ]
     },
     "execution_count": 78,
     "metadata": {},
     "output_type": "execute_result"
    }
   ],
   "source": [
    "steph_df.head(3)"
   ]
  },
  {
   "cell_type": "code",
   "execution_count": 79,
   "metadata": {},
   "outputs": [],
   "source": [
    "def get_best_or_worst_player_stats(stat: str, lowest: bool, other_columns: list, n: int=5):\n",
    "    filtered_games = steph_df.sort_values(by=stat, ascending=lowest).head(n)\n",
    "    print(f\"\\nSteph Curry's average {stat} per game this season: {round(steph_df[stat].mean(),2)}\")\n",
    "    print(f\"Steph Curry's average {stat} based on this {n}-game sample: {filtered_games[stat].mean()}\")\n",
    "    print(filtered_games[['TEAM', 'OPP', 'STATUS', 'DATE', 'MIN', stat] + other_columns].sort_values(stat, ascending=lowest))\n",
    "    return filtered_games"
   ]
  },
  {
   "cell_type": "code",
   "execution_count": 80,
   "metadata": {},
   "outputs": [
    {
     "name": "stdout",
     "output_type": "stream",
     "text": [
      "\n",
      "Steph Curry's average PTS per game this season: 24.34\n",
      "Steph Curry's average PTS based on this 5-game sample: 9.2\n",
      "     TEAM  OPP STATUS        DATE    MIN  PTS    FG%    3P%  FT%\n",
      "661   GSW  MEM   away  2024-12-19  24:22    2  0.000  0.000  1.0\n",
      "725   GSW  IND   home  2024-12-23  35:25   10  0.154  0.222  1.0\n",
      "834   GSW  CLE   home  2024-12-30  29:05   11  0.286  0.273  0.0\n",
      "1729  GSW  SAC   home  2025-03-13  30:16   11  0.444  0.333  1.0\n",
      "220   GSW  CLE   away  2024-11-08  23:46   12  0.500  0.250  1.0\n",
      "\n",
      "Steph Curry's average PTS per game this season: 24.34\n",
      "Steph Curry's average PTS based on this 5-game sample: 41.8\n",
      "     TEAM  OPP STATUS        DATE    MIN  PTS    FG%    3P%    FT%\n",
      "1528  GSW  ORL   away  2025-02-27  34:18   56  0.640  0.632  1.000\n",
      "1632  GSW  BKN   away  2025-03-06  35:36   40  0.600  0.538  1.000\n",
      "753   GSW  LAL   home  2024-12-25  35:37   38  0.583  0.533  1.000\n",
      "1365  GSW  MIL   away  2025-02-10  33:59   38  0.500  0.375  0.889\n",
      "1313  GSW  LAL   away  2025-02-06  37:06   37  0.371  0.300  1.000\n"
     ]
    }
   ],
   "source": [
    "steph_lowest_pts_games = get_best_or_worst_player_stats(stat='PTS', lowest=True, other_columns=['FG%', '3P%', 'FT%'], n=5)\n",
    "steph_lowest_pts_games = get_best_or_worst_player_stats(stat='PTS', lowest=False, other_columns=['FG%', '3P%', 'FT%'], n=5)"
   ]
  },
  {
   "cell_type": "code",
   "execution_count": 81,
   "metadata": {},
   "outputs": [
    {
     "name": "stdout",
     "output_type": "stream",
     "text": [
      "\n",
      "Steph Curry's average 3PM per game this season: 4.43\n",
      "Steph Curry's average 3PM based on this 5-game sample: 1.0\n",
      "     TEAM  OPP STATUS        DATE    MIN  3PM  3PA    3P%  PTS\n",
      "661   GSW  MEM   away  2024-12-19  24:22    0    6  0.000    2\n",
      "220   GSW  CLE   away  2024-11-08  23:46    1    4  0.250   12\n",
      "1246  GSW  PHX   home  2025-01-31  31:13    1    6  0.167   14\n",
      "1102  GSW  SAC   away  2025-01-22  33:50    1    4  0.250   14\n",
      "1272  GSW  ORL   home  2025-02-03  34:18    2   12  0.167   24\n",
      "\n",
      "Steph Curry's average 3PM per game this season: 4.43\n",
      "Steph Curry's average 3PM based on this 5-game sample: 8.8\n",
      "     TEAM  OPP STATUS        DATE    MIN  3PM  3PA    3P%  PTS\n",
      "1528  GSW  ORL   away  2025-02-27  34:18   12   19  0.632   56\n",
      "753   GSW  LAL   home  2024-12-25  35:37    8   15  0.533   38\n",
      "937   GSW  MIA   home  2025-01-07  33:24    8   17  0.471   31\n",
      "1338  GSW  CHI   away  2025-02-08  33:56    8   16  0.500   34\n",
      "860   GSW  PHI   home  2025-01-02  29:49    8    8  1.000   30\n"
     ]
    }
   ],
   "source": [
    "steph_lowest_3pt_games = get_best_or_worst_player_stats(stat='3PM', lowest=True, other_columns=['3PA', '3P%', 'PTS'], n=5)\n",
    "steph_lowest_3pt_games = get_best_or_worst_player_stats(stat='3PM', lowest=False, other_columns=['3PA', '3P%', 'PTS'], n=5)"
   ]
  },
  {
   "cell_type": "markdown",
   "metadata": {},
   "source": [
    "---"
   ]
  }
 ],
 "metadata": {
  "kernelspec": {
   "display_name": ".venv_nba",
   "language": "python",
   "name": "python3"
  },
  "language_info": {
   "codemirror_mode": {
    "name": "ipython",
    "version": 3
   },
   "file_extension": ".py",
   "mimetype": "text/x-python",
   "name": "python",
   "nbconvert_exporter": "python",
   "pygments_lexer": "ipython3",
   "version": "3.11.2"
  }
 },
 "nbformat": 4,
 "nbformat_minor": 2
}
