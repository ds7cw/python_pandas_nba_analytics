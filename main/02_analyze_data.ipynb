{
 "cells": [
  {
   "cell_type": "code",
   "execution_count": 1,
   "metadata": {},
   "outputs": [],
   "source": [
    "import pandas as pd\n",
    "import plotly.express as px\n",
    "import plotly.graph_objects as go\n",
    "pd.set_option('display.max_columns', None)\n",
    "\n",
    "\n",
    "data = pd.read_excel('../data/nba_player_data.xlsx')"
   ]
  },
  {
   "cell_type": "code",
   "execution_count": 21,
   "metadata": {},
   "outputs": [
    {
     "data": {
      "text/html": [
       "<div>\n",
       "<style scoped>\n",
       "    .dataframe tbody tr th:only-of-type {\n",
       "        vertical-align: middle;\n",
       "    }\n",
       "\n",
       "    .dataframe tbody tr th {\n",
       "        vertical-align: top;\n",
       "    }\n",
       "\n",
       "    .dataframe thead th {\n",
       "        text-align: right;\n",
       "    }\n",
       "</style>\n",
       "<table border=\"1\" class=\"dataframe\">\n",
       "  <thead>\n",
       "    <tr style=\"text-align: right;\">\n",
       "      <th></th>\n",
       "      <th>Year</th>\n",
       "      <th>Season_type</th>\n",
       "      <th>PLAYER_ID</th>\n",
       "      <th>PLAYER</th>\n",
       "      <th>TEAM_ID</th>\n",
       "      <th>TEAM</th>\n",
       "      <th>GP</th>\n",
       "      <th>MIN</th>\n",
       "      <th>FGM</th>\n",
       "      <th>FGA</th>\n",
       "      <th>FG_PCT</th>\n",
       "      <th>FG3M</th>\n",
       "      <th>FG3A</th>\n",
       "      <th>FG3_PCT</th>\n",
       "      <th>FTM</th>\n",
       "      <th>FTA</th>\n",
       "      <th>FT_PCT</th>\n",
       "      <th>OREB</th>\n",
       "      <th>DREB</th>\n",
       "      <th>REB</th>\n",
       "      <th>AST</th>\n",
       "      <th>STL</th>\n",
       "      <th>BLK</th>\n",
       "      <th>TOV</th>\n",
       "      <th>PF</th>\n",
       "      <th>PTS</th>\n",
       "      <th>AST_TOV</th>\n",
       "      <th>STL_TOV</th>\n",
       "      <th>season_start_year</th>\n",
       "    </tr>\n",
       "  </thead>\n",
       "  <tbody>\n",
       "    <tr>\n",
       "      <th>6013</th>\n",
       "      <td>2020-21</td>\n",
       "      <td>Regular</td>\n",
       "      <td>1630167</td>\n",
       "      <td>Obi Toppin</td>\n",
       "      <td>1610612752</td>\n",
       "      <td>NYK</td>\n",
       "      <td>62</td>\n",
       "      <td>683</td>\n",
       "      <td>104</td>\n",
       "      <td>209</td>\n",
       "      <td>0.498</td>\n",
       "      <td>26</td>\n",
       "      <td>85</td>\n",
       "      <td>0.306</td>\n",
       "      <td>19</td>\n",
       "      <td>26</td>\n",
       "      <td>0.731</td>\n",
       "      <td>26</td>\n",
       "      <td>112</td>\n",
       "      <td>138</td>\n",
       "      <td>29</td>\n",
       "      <td>17</td>\n",
       "      <td>15</td>\n",
       "      <td>23</td>\n",
       "      <td>55</td>\n",
       "      <td>253</td>\n",
       "      <td>1.26</td>\n",
       "      <td>0.74</td>\n",
       "      <td>2020</td>\n",
       "    </tr>\n",
       "    <tr>\n",
       "      <th>1163</th>\n",
       "      <td>2013-14</td>\n",
       "      <td>Playoffs</td>\n",
       "      <td>2225</td>\n",
       "      <td>Tony Parker</td>\n",
       "      <td>1610612759</td>\n",
       "      <td>SAS</td>\n",
       "      <td>23</td>\n",
       "      <td>719</td>\n",
       "      <td>168</td>\n",
       "      <td>346</td>\n",
       "      <td>0.486</td>\n",
       "      <td>13</td>\n",
       "      <td>35</td>\n",
       "      <td>0.371</td>\n",
       "      <td>51</td>\n",
       "      <td>70</td>\n",
       "      <td>0.729</td>\n",
       "      <td>5</td>\n",
       "      <td>40</td>\n",
       "      <td>45</td>\n",
       "      <td>111</td>\n",
       "      <td>15</td>\n",
       "      <td>2</td>\n",
       "      <td>62</td>\n",
       "      <td>37</td>\n",
       "      <td>400</td>\n",
       "      <td>1.79</td>\n",
       "      <td>0.24</td>\n",
       "      <td>2013</td>\n",
       "    </tr>\n",
       "    <tr>\n",
       "      <th>3090</th>\n",
       "      <td>2016-17</td>\n",
       "      <td>Regular</td>\n",
       "      <td>1626159</td>\n",
       "      <td>Justise Winslow</td>\n",
       "      <td>1610612748</td>\n",
       "      <td>MIA</td>\n",
       "      <td>18</td>\n",
       "      <td>625</td>\n",
       "      <td>80</td>\n",
       "      <td>225</td>\n",
       "      <td>0.356</td>\n",
       "      <td>7</td>\n",
       "      <td>35</td>\n",
       "      <td>0.200</td>\n",
       "      <td>29</td>\n",
       "      <td>47</td>\n",
       "      <td>0.617</td>\n",
       "      <td>23</td>\n",
       "      <td>71</td>\n",
       "      <td>94</td>\n",
       "      <td>66</td>\n",
       "      <td>26</td>\n",
       "      <td>6</td>\n",
       "      <td>33</td>\n",
       "      <td>52</td>\n",
       "      <td>196</td>\n",
       "      <td>2.00</td>\n",
       "      <td>0.79</td>\n",
       "      <td>2016</td>\n",
       "    </tr>\n",
       "    <tr>\n",
       "      <th>3320</th>\n",
       "      <td>2016-17</td>\n",
       "      <td>Playoffs</td>\n",
       "      <td>2733</td>\n",
       "      <td>Shaun Livingston</td>\n",
       "      <td>1610612744</td>\n",
       "      <td>GSW</td>\n",
       "      <td>14</td>\n",
       "      <td>220</td>\n",
       "      <td>34</td>\n",
       "      <td>59</td>\n",
       "      <td>0.576</td>\n",
       "      <td>0</td>\n",
       "      <td>0</td>\n",
       "      <td>0.000</td>\n",
       "      <td>5</td>\n",
       "      <td>7</td>\n",
       "      <td>0.714</td>\n",
       "      <td>10</td>\n",
       "      <td>19</td>\n",
       "      <td>29</td>\n",
       "      <td>20</td>\n",
       "      <td>5</td>\n",
       "      <td>2</td>\n",
       "      <td>10</td>\n",
       "      <td>24</td>\n",
       "      <td>73</td>\n",
       "      <td>2.00</td>\n",
       "      <td>0.50</td>\n",
       "      <td>2016</td>\n",
       "    </tr>\n",
       "    <tr>\n",
       "      <th>2456</th>\n",
       "      <td>2015-16</td>\n",
       "      <td>Regular</td>\n",
       "      <td>201148</td>\n",
       "      <td>Brandan Wright</td>\n",
       "      <td>1610612763</td>\n",
       "      <td>MEM</td>\n",
       "      <td>12</td>\n",
       "      <td>212</td>\n",
       "      <td>35</td>\n",
       "      <td>52</td>\n",
       "      <td>0.673</td>\n",
       "      <td>0</td>\n",
       "      <td>0</td>\n",
       "      <td>0.000</td>\n",
       "      <td>13</td>\n",
       "      <td>24</td>\n",
       "      <td>0.542</td>\n",
       "      <td>14</td>\n",
       "      <td>29</td>\n",
       "      <td>43</td>\n",
       "      <td>6</td>\n",
       "      <td>5</td>\n",
       "      <td>15</td>\n",
       "      <td>10</td>\n",
       "      <td>21</td>\n",
       "      <td>83</td>\n",
       "      <td>0.60</td>\n",
       "      <td>0.50</td>\n",
       "      <td>2015</td>\n",
       "    </tr>\n",
       "  </tbody>\n",
       "</table>\n",
       "</div>"
      ],
      "text/plain": [
       "         Year Season_type  PLAYER_ID            PLAYER     TEAM_ID TEAM  GP  \\\n",
       "6013  2020-21     Regular    1630167        Obi Toppin  1610612752  NYK  62   \n",
       "1163  2013-14    Playoffs       2225       Tony Parker  1610612759  SAS  23   \n",
       "3090  2016-17     Regular    1626159   Justise Winslow  1610612748  MIA  18   \n",
       "3320  2016-17    Playoffs       2733  Shaun Livingston  1610612744  GSW  14   \n",
       "2456  2015-16     Regular     201148    Brandan Wright  1610612763  MEM  12   \n",
       "\n",
       "      MIN  FGM  FGA  FG_PCT  FG3M  FG3A  FG3_PCT  FTM  FTA  FT_PCT  OREB  \\\n",
       "6013  683  104  209   0.498    26    85    0.306   19   26   0.731    26   \n",
       "1163  719  168  346   0.486    13    35    0.371   51   70   0.729     5   \n",
       "3090  625   80  225   0.356     7    35    0.200   29   47   0.617    23   \n",
       "3320  220   34   59   0.576     0     0    0.000    5    7   0.714    10   \n",
       "2456  212   35   52   0.673     0     0    0.000   13   24   0.542    14   \n",
       "\n",
       "      DREB  REB  AST  STL  BLK  TOV  PF  PTS  AST_TOV  STL_TOV  \\\n",
       "6013   112  138   29   17   15   23  55  253     1.26     0.74   \n",
       "1163    40   45  111   15    2   62  37  400     1.79     0.24   \n",
       "3090    71   94   66   26    6   33  52  196     2.00     0.79   \n",
       "3320    19   29   20    5    2   10  24   73     2.00     0.50   \n",
       "2456    29   43    6    5   15   10  21   83     0.60     0.50   \n",
       "\n",
       "      season_start_year  \n",
       "6013               2020  \n",
       "1163               2013  \n",
       "3090               2016  \n",
       "3320               2016  \n",
       "2456               2015  "
      ]
     },
     "execution_count": 21,
     "metadata": {},
     "output_type": "execute_result"
    }
   ],
   "source": [
    "data.sample(5)"
   ]
  },
  {
   "cell_type": "code",
   "execution_count": 10,
   "metadata": {},
   "outputs": [
    {
     "data": {
      "text/plain": [
       "(8835, 28)"
      ]
     },
     "execution_count": 10,
     "metadata": {},
     "output_type": "execute_result"
    }
   ],
   "source": [
    "data.shape"
   ]
  },
  {
   "cell_type": "markdown",
   "metadata": {},
   "source": [
    "Data cleaning & analysis preparation"
   ]
  },
  {
   "cell_type": "code",
   "execution_count": 9,
   "metadata": {},
   "outputs": [],
   "source": [
    "data.drop(columns=['RANK', 'EFF'], inplace=True)"
   ]
  },
  {
   "cell_type": "code",
   "execution_count": 14,
   "metadata": {},
   "outputs": [],
   "source": [
    "data['season_start_year'] = data['Year'].str[:4].astype(int)"
   ]
  },
  {
   "cell_type": "code",
   "execution_count": 19,
   "metadata": {},
   "outputs": [
    {
     "data": {
      "text/plain": [
       "30"
      ]
     },
     "execution_count": 19,
     "metadata": {},
     "output_type": "execute_result"
    }
   ],
   "source": [
    "data['TEAM'].replace(to_replace=['NOP', 'NOH'], value='NO', inplace=True) # use 'NO' for New Orleans\n",
    "data.TEAM.nunique() # there should be 30 unique teams"
   ]
  },
  {
   "cell_type": "code",
   "execution_count": null,
   "metadata": {},
   "outputs": [],
   "source": [
    "data['Season_type'].replace('Regular%20Season', 'Regular', inplace=True)"
   ]
  },
  {
   "cell_type": "code",
   "execution_count": 22,
   "metadata": {},
   "outputs": [],
   "source": [
    "rs_df = data[data['Season_type']=='Regular']\n",
    "playoffs_df = data[data['Season_type']=='Playoffs']"
   ]
  },
  {
   "cell_type": "code",
   "execution_count": 26,
   "metadata": {},
   "outputs": [
    {
     "data": {
      "text/plain": [
       "Index(['Year', 'Season_type', 'PLAYER_ID', 'PLAYER', 'TEAM_ID', 'TEAM', 'GP',\n",
       "       'MIN', 'FGM', 'FGA', 'FG_PCT', 'FG3M', 'FG3A', 'FG3_PCT', 'FTM', 'FTA',\n",
       "       'FT_PCT', 'OREB', 'DREB', 'REB', 'AST', 'STL', 'BLK', 'TOV', 'PF',\n",
       "       'PTS', 'AST_TOV', 'STL_TOV', 'season_start_year'],\n",
       "      dtype='object')"
      ]
     },
     "execution_count": 26,
     "metadata": {},
     "output_type": "execute_result"
    }
   ],
   "source": [
    "data.columns"
   ]
  },
  {
   "cell_type": "code",
   "execution_count": 27,
   "metadata": {},
   "outputs": [],
   "source": [
    "total_cols = ['MIN', 'FGM', 'FGA', 'FG3M', 'FG3A', 'FTM', 'FTA',\n",
    "    'OREB', 'DREB', 'REB', 'AST', 'STL', 'BLK', 'TOV', 'PF', 'PTS',]"
   ]
  }
 ],
 "metadata": {
  "kernelspec": {
   "display_name": ".nba_venv",
   "language": "python",
   "name": "python3"
  },
  "language_info": {
   "codemirror_mode": {
    "name": "ipython",
    "version": 3
   },
   "file_extension": ".py",
   "mimetype": "text/x-python",
   "name": "python",
   "nbconvert_exporter": "python",
   "pygments_lexer": "ipython3",
   "version": "3.12.6"
  }
 },
 "nbformat": 4,
 "nbformat_minor": 2
}
