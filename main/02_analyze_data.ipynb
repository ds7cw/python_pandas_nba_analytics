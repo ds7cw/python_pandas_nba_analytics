{
 "cells": [
  {
   "cell_type": "code",
   "execution_count": 94,
   "metadata": {},
   "outputs": [],
   "source": [
    "import pandas as pd\n",
    "import plotly.express as px\n",
    "import plotly.graph_objects as go\n",
    "pd.set_option('display.max_columns', None)\n",
    "\n",
    "\n",
    "data = pd.read_excel('../data/nba_player_data.xlsx')"
   ]
  },
  {
   "cell_type": "code",
   "execution_count": 95,
   "metadata": {},
   "outputs": [
    {
     "data": {
      "text/html": [
       "<div>\n",
       "<style scoped>\n",
       "    .dataframe tbody tr th:only-of-type {\n",
       "        vertical-align: middle;\n",
       "    }\n",
       "\n",
       "    .dataframe tbody tr th {\n",
       "        vertical-align: top;\n",
       "    }\n",
       "\n",
       "    .dataframe thead th {\n",
       "        text-align: right;\n",
       "    }\n",
       "</style>\n",
       "<table border=\"1\" class=\"dataframe\">\n",
       "  <thead>\n",
       "    <tr style=\"text-align: right;\">\n",
       "      <th></th>\n",
       "      <th>Year</th>\n",
       "      <th>Season_type</th>\n",
       "      <th>PLAYER_ID</th>\n",
       "      <th>RANK</th>\n",
       "      <th>PLAYER</th>\n",
       "      <th>TEAM_ID</th>\n",
       "      <th>TEAM</th>\n",
       "      <th>GP</th>\n",
       "      <th>MIN</th>\n",
       "      <th>FGM</th>\n",
       "      <th>FGA</th>\n",
       "      <th>FG_PCT</th>\n",
       "      <th>FG3M</th>\n",
       "      <th>FG3A</th>\n",
       "      <th>FG3_PCT</th>\n",
       "      <th>FTM</th>\n",
       "      <th>FTA</th>\n",
       "      <th>FT_PCT</th>\n",
       "      <th>OREB</th>\n",
       "      <th>DREB</th>\n",
       "      <th>REB</th>\n",
       "      <th>AST</th>\n",
       "      <th>STL</th>\n",
       "      <th>BLK</th>\n",
       "      <th>TOV</th>\n",
       "      <th>PF</th>\n",
       "      <th>PTS</th>\n",
       "      <th>EFF</th>\n",
       "      <th>AST_TOV</th>\n",
       "      <th>STL_TOV</th>\n",
       "    </tr>\n",
       "  </thead>\n",
       "  <tbody>\n",
       "    <tr>\n",
       "      <th>1983</th>\n",
       "      <td>2014-15</td>\n",
       "      <td>Playoffs</td>\n",
       "      <td>101111</td>\n",
       "      <td>130</td>\n",
       "      <td>Charlie Villanueva</td>\n",
       "      <td>1610612742</td>\n",
       "      <td>DAL</td>\n",
       "      <td>5</td>\n",
       "      <td>43</td>\n",
       "      <td>11</td>\n",
       "      <td>25</td>\n",
       "      <td>0.440</td>\n",
       "      <td>8</td>\n",
       "      <td>19</td>\n",
       "      <td>0.421</td>\n",
       "      <td>0</td>\n",
       "      <td>0</td>\n",
       "      <td>0.000</td>\n",
       "      <td>4</td>\n",
       "      <td>9</td>\n",
       "      <td>13</td>\n",
       "      <td>3</td>\n",
       "      <td>1</td>\n",
       "      <td>1</td>\n",
       "      <td>0</td>\n",
       "      <td>10</td>\n",
       "      <td>30</td>\n",
       "      <td>34</td>\n",
       "      <td>0.00</td>\n",
       "      <td>0.00</td>\n",
       "    </tr>\n",
       "    <tr>\n",
       "      <th>2831</th>\n",
       "      <td>2016-17</td>\n",
       "      <td>Regular%20Season</td>\n",
       "      <td>202083</td>\n",
       "      <td>79</td>\n",
       "      <td>Wesley Matthews</td>\n",
       "      <td>1610612742</td>\n",
       "      <td>DAL</td>\n",
       "      <td>73</td>\n",
       "      <td>2495</td>\n",
       "      <td>333</td>\n",
       "      <td>847</td>\n",
       "      <td>0.393</td>\n",
       "      <td>174</td>\n",
       "      <td>479</td>\n",
       "      <td>0.363</td>\n",
       "      <td>146</td>\n",
       "      <td>179</td>\n",
       "      <td>0.816</td>\n",
       "      <td>18</td>\n",
       "      <td>241</td>\n",
       "      <td>259</td>\n",
       "      <td>210</td>\n",
       "      <td>77</td>\n",
       "      <td>15</td>\n",
       "      <td>102</td>\n",
       "      <td>161</td>\n",
       "      <td>986</td>\n",
       "      <td>898</td>\n",
       "      <td>2.06</td>\n",
       "      <td>0.76</td>\n",
       "    </tr>\n",
       "    <tr>\n",
       "      <th>4489</th>\n",
       "      <td>2018-19</td>\n",
       "      <td>Regular%20Season</td>\n",
       "      <td>203937</td>\n",
       "      <td>286</td>\n",
       "      <td>Kyle Anderson</td>\n",
       "      <td>1610612763</td>\n",
       "      <td>MEM</td>\n",
       "      <td>43</td>\n",
       "      <td>1282</td>\n",
       "      <td>150</td>\n",
       "      <td>276</td>\n",
       "      <td>0.543</td>\n",
       "      <td>9</td>\n",
       "      <td>34</td>\n",
       "      <td>0.265</td>\n",
       "      <td>37</td>\n",
       "      <td>64</td>\n",
       "      <td>0.578</td>\n",
       "      <td>48</td>\n",
       "      <td>203</td>\n",
       "      <td>251</td>\n",
       "      <td>128</td>\n",
       "      <td>54</td>\n",
       "      <td>37</td>\n",
       "      <td>58</td>\n",
       "      <td>112</td>\n",
       "      <td>346</td>\n",
       "      <td>605</td>\n",
       "      <td>2.21</td>\n",
       "      <td>0.93</td>\n",
       "    </tr>\n",
       "    <tr>\n",
       "      <th>6767</th>\n",
       "      <td>2021-22</td>\n",
       "      <td>Regular%20Season</td>\n",
       "      <td>1630631</td>\n",
       "      <td>297</td>\n",
       "      <td>Jose Alvarado</td>\n",
       "      <td>1610612740</td>\n",
       "      <td>NOP</td>\n",
       "      <td>54</td>\n",
       "      <td>834</td>\n",
       "      <td>131</td>\n",
       "      <td>294</td>\n",
       "      <td>0.446</td>\n",
       "      <td>32</td>\n",
       "      <td>110</td>\n",
       "      <td>0.291</td>\n",
       "      <td>36</td>\n",
       "      <td>53</td>\n",
       "      <td>0.679</td>\n",
       "      <td>25</td>\n",
       "      <td>75</td>\n",
       "      <td>100</td>\n",
       "      <td>152</td>\n",
       "      <td>71</td>\n",
       "      <td>7</td>\n",
       "      <td>40</td>\n",
       "      <td>73</td>\n",
       "      <td>330</td>\n",
       "      <td>440</td>\n",
       "      <td>3.80</td>\n",
       "      <td>1.77</td>\n",
       "    </tr>\n",
       "    <tr>\n",
       "      <th>6919</th>\n",
       "      <td>2021-22</td>\n",
       "      <td>Regular%20Season</td>\n",
       "      <td>1630792</td>\n",
       "      <td>449</td>\n",
       "      <td>Malcolm Hill</td>\n",
       "      <td>1610612741</td>\n",
       "      <td>CHI</td>\n",
       "      <td>19</td>\n",
       "      <td>212</td>\n",
       "      <td>24</td>\n",
       "      <td>52</td>\n",
       "      <td>0.462</td>\n",
       "      <td>13</td>\n",
       "      <td>36</td>\n",
       "      <td>0.361</td>\n",
       "      <td>11</td>\n",
       "      <td>14</td>\n",
       "      <td>0.786</td>\n",
       "      <td>11</td>\n",
       "      <td>24</td>\n",
       "      <td>35</td>\n",
       "      <td>8</td>\n",
       "      <td>7</td>\n",
       "      <td>3</td>\n",
       "      <td>3</td>\n",
       "      <td>24</td>\n",
       "      <td>72</td>\n",
       "      <td>91</td>\n",
       "      <td>2.67</td>\n",
       "      <td>2.33</td>\n",
       "    </tr>\n",
       "  </tbody>\n",
       "</table>\n",
       "</div>"
      ],
      "text/plain": [
       "         Year       Season_type  PLAYER_ID  RANK              PLAYER  \\\n",
       "1983  2014-15          Playoffs     101111   130  Charlie Villanueva   \n",
       "2831  2016-17  Regular%20Season     202083    79     Wesley Matthews   \n",
       "4489  2018-19  Regular%20Season     203937   286       Kyle Anderson   \n",
       "6767  2021-22  Regular%20Season    1630631   297       Jose Alvarado   \n",
       "6919  2021-22  Regular%20Season    1630792   449        Malcolm Hill   \n",
       "\n",
       "         TEAM_ID TEAM  GP   MIN  FGM  FGA  FG_PCT  FG3M  FG3A  FG3_PCT  FTM  \\\n",
       "1983  1610612742  DAL   5    43   11   25   0.440     8    19    0.421    0   \n",
       "2831  1610612742  DAL  73  2495  333  847   0.393   174   479    0.363  146   \n",
       "4489  1610612763  MEM  43  1282  150  276   0.543     9    34    0.265   37   \n",
       "6767  1610612740  NOP  54   834  131  294   0.446    32   110    0.291   36   \n",
       "6919  1610612741  CHI  19   212   24   52   0.462    13    36    0.361   11   \n",
       "\n",
       "      FTA  FT_PCT  OREB  DREB  REB  AST  STL  BLK  TOV   PF  PTS  EFF  \\\n",
       "1983    0   0.000     4     9   13    3    1    1    0   10   30   34   \n",
       "2831  179   0.816    18   241  259  210   77   15  102  161  986  898   \n",
       "4489   64   0.578    48   203  251  128   54   37   58  112  346  605   \n",
       "6767   53   0.679    25    75  100  152   71    7   40   73  330  440   \n",
       "6919   14   0.786    11    24   35    8    7    3    3   24   72   91   \n",
       "\n",
       "      AST_TOV  STL_TOV  \n",
       "1983     0.00     0.00  \n",
       "2831     2.06     0.76  \n",
       "4489     2.21     0.93  \n",
       "6767     3.80     1.77  \n",
       "6919     2.67     2.33  "
      ]
     },
     "execution_count": 95,
     "metadata": {},
     "output_type": "execute_result"
    }
   ],
   "source": [
    "data.sample(5)"
   ]
  },
  {
   "cell_type": "code",
   "execution_count": 96,
   "metadata": {},
   "outputs": [
    {
     "data": {
      "text/plain": [
       "(8835, 30)"
      ]
     },
     "execution_count": 96,
     "metadata": {},
     "output_type": "execute_result"
    }
   ],
   "source": [
    "data.shape"
   ]
  },
  {
   "cell_type": "markdown",
   "metadata": {},
   "source": [
    "Data cleaning & analysis preparation"
   ]
  },
  {
   "cell_type": "code",
   "execution_count": 97,
   "metadata": {},
   "outputs": [],
   "source": [
    "data.drop(columns=['RANK', 'EFF'], inplace=True)"
   ]
  },
  {
   "cell_type": "code",
   "execution_count": 98,
   "metadata": {},
   "outputs": [],
   "source": [
    "data['season_start_year'] = data['Year'].str[:4].astype(int)"
   ]
  },
  {
   "cell_type": "code",
   "execution_count": 99,
   "metadata": {},
   "outputs": [
    {
     "data": {
      "text/plain": [
       "30"
      ]
     },
     "execution_count": 99,
     "metadata": {},
     "output_type": "execute_result"
    }
   ],
   "source": [
    "data['TEAM'] = data['TEAM'].replace(to_replace=['NOP', 'NOH'], value='NO') # use 'NO' for New Orleans\n",
    "data.TEAM.nunique() # there should be 30 unique teams"
   ]
  },
  {
   "cell_type": "code",
   "execution_count": 100,
   "metadata": {},
   "outputs": [],
   "source": [
    "data['Season_type'] = data['Season_type'].replace('Regular%20Season', 'Regular')"
   ]
  },
  {
   "cell_type": "code",
   "execution_count": 101,
   "metadata": {},
   "outputs": [],
   "source": [
    "rs_df = data[data['Season_type']=='Regular']\n",
    "playoffs_df = data[data['Season_type']=='Playoffs']"
   ]
  },
  {
   "cell_type": "code",
   "execution_count": 102,
   "metadata": {},
   "outputs": [
    {
     "data": {
      "text/plain": [
       "Index(['Year', 'Season_type', 'PLAYER_ID', 'PLAYER', 'TEAM_ID', 'TEAM', 'GP',\n",
       "       'MIN', 'FGM', 'FGA', 'FG_PCT', 'FG3M', 'FG3A', 'FG3_PCT', 'FTM', 'FTA',\n",
       "       'FT_PCT', 'OREB', 'DREB', 'REB', 'AST', 'STL', 'BLK', 'TOV', 'PF',\n",
       "       'PTS', 'AST_TOV', 'STL_TOV', 'season_start_year'],\n",
       "      dtype='object')"
      ]
     },
     "execution_count": 102,
     "metadata": {},
     "output_type": "execute_result"
    }
   ],
   "source": [
    "data.columns"
   ]
  },
  {
   "cell_type": "code",
   "execution_count": 103,
   "metadata": {},
   "outputs": [],
   "source": [
    "total_cols = ['MIN', 'FGM', 'FGA', 'FG3M', 'FG3A', 'FTM', 'FTA',\n",
    "    'OREB', 'DREB', 'REB', 'AST', 'STL', 'BLK', 'TOV', 'PF', 'PTS',]"
   ]
  },
  {
   "cell_type": "markdown",
   "metadata": {},
   "source": [
    "Which player stats are correlated with each other?"
   ]
  },
  {
   "cell_type": "code",
   "execution_count": 104,
   "metadata": {},
   "outputs": [
    {
     "data": {
      "application/vnd.plotly.v1+json": {
       "config": {
        "plotlyServerURL": "https://plot.ly"
       },
       "data": [
        {
         "coloraxis": "coloraxis",
         "hovertemplate": "x: %{x}<br>y: %{y}<br>color: %{z}<extra></extra>",
         "name": "0",
         "type": "heatmap",
         "x": [
          "MIN",
          "FGM",
          "FGA",
          "FG3M",
          "FG3A",
          "FTM",
          "FTA",
          "OREB",
          "DREB",
          "REB",
          "AST",
          "STL",
          "BLK",
          "TOV",
          "PF",
          "PTS",
          "FG%",
          "3PT%",
          "FT%",
          "FG3A%",
          "PTS/FGA",
          "FG3M/FGM",
          "FTA/FGA",
          "TRU%",
          "AST_TOV"
         ],
         "xaxis": "x",
         "y": [
          "MIN",
          "FGM",
          "FGA",
          "FG3M",
          "FG3A",
          "FTM",
          "FTA",
          "OREB",
          "DREB",
          "REB",
          "AST",
          "STL",
          "BLK",
          "TOV",
          "PF",
          "PTS",
          "FG%",
          "3PT%",
          "FT%",
          "FG3A%",
          "PTS/FGA",
          "FG3M/FGM",
          "FTA/FGA",
          "TRU%",
          "AST_TOV"
         ],
         "yaxis": "y",
         "z": {
          "bdata": "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",
          "dtype": "f8",
          "shape": "25, 25"
         }
        }
       ],
       "layout": {
        "coloraxis": {
         "colorscale": [
          [
           0,
           "#0d0887"
          ],
          [
           0.1111111111111111,
           "#46039f"
          ],
          [
           0.2222222222222222,
           "#7201a8"
          ],
          [
           0.3333333333333333,
           "#9c179e"
          ],
          [
           0.4444444444444444,
           "#bd3786"
          ],
          [
           0.5555555555555556,
           "#d8576b"
          ],
          [
           0.6666666666666666,
           "#ed7953"
          ],
          [
           0.7777777777777778,
           "#fb9f3a"
          ],
          [
           0.8888888888888888,
           "#fdca26"
          ],
          [
           1,
           "#f0f921"
          ]
         ]
        },
        "height": 640,
        "margin": {
         "t": 60
        },
        "template": {
         "data": {
          "bar": [
           {
            "error_x": {
             "color": "#2a3f5f"
            },
            "error_y": {
             "color": "#2a3f5f"
            },
            "marker": {
             "line": {
              "color": "#E5ECF6",
              "width": 0.5
             },
             "pattern": {
              "fillmode": "overlay",
              "size": 10,
              "solidity": 0.2
             }
            },
            "type": "bar"
           }
          ],
          "barpolar": [
           {
            "marker": {
             "line": {
              "color": "#E5ECF6",
              "width": 0.5
             },
             "pattern": {
              "fillmode": "overlay",
              "size": 10,
              "solidity": 0.2
             }
            },
            "type": "barpolar"
           }
          ],
          "carpet": [
           {
            "aaxis": {
             "endlinecolor": "#2a3f5f",
             "gridcolor": "white",
             "linecolor": "white",
             "minorgridcolor": "white",
             "startlinecolor": "#2a3f5f"
            },
            "baxis": {
             "endlinecolor": "#2a3f5f",
             "gridcolor": "white",
             "linecolor": "white",
             "minorgridcolor": "white",
             "startlinecolor": "#2a3f5f"
            },
            "type": "carpet"
           }
          ],
          "choropleth": [
           {
            "colorbar": {
             "outlinewidth": 0,
             "ticks": ""
            },
            "type": "choropleth"
           }
          ],
          "contour": [
           {
            "colorbar": {
             "outlinewidth": 0,
             "ticks": ""
            },
            "colorscale": [
             [
              0,
              "#0d0887"
             ],
             [
              0.1111111111111111,
              "#46039f"
             ],
             [
              0.2222222222222222,
              "#7201a8"
             ],
             [
              0.3333333333333333,
              "#9c179e"
             ],
             [
              0.4444444444444444,
              "#bd3786"
             ],
             [
              0.5555555555555556,
              "#d8576b"
             ],
             [
              0.6666666666666666,
              "#ed7953"
             ],
             [
              0.7777777777777778,
              "#fb9f3a"
             ],
             [
              0.8888888888888888,
              "#fdca26"
             ],
             [
              1,
              "#f0f921"
             ]
            ],
            "type": "contour"
           }
          ],
          "contourcarpet": [
           {
            "colorbar": {
             "outlinewidth": 0,
             "ticks": ""
            },
            "type": "contourcarpet"
           }
          ],
          "heatmap": [
           {
            "colorbar": {
             "outlinewidth": 0,
             "ticks": ""
            },
            "colorscale": [
             [
              0,
              "#0d0887"
             ],
             [
              0.1111111111111111,
              "#46039f"
             ],
             [
              0.2222222222222222,
              "#7201a8"
             ],
             [
              0.3333333333333333,
              "#9c179e"
             ],
             [
              0.4444444444444444,
              "#bd3786"
             ],
             [
              0.5555555555555556,
              "#d8576b"
             ],
             [
              0.6666666666666666,
              "#ed7953"
             ],
             [
              0.7777777777777778,
              "#fb9f3a"
             ],
             [
              0.8888888888888888,
              "#fdca26"
             ],
             [
              1,
              "#f0f921"
             ]
            ],
            "type": "heatmap"
           }
          ],
          "histogram": [
           {
            "marker": {
             "pattern": {
              "fillmode": "overlay",
              "size": 10,
              "solidity": 0.2
             }
            },
            "type": "histogram"
           }
          ],
          "histogram2d": [
           {
            "colorbar": {
             "outlinewidth": 0,
             "ticks": ""
            },
            "colorscale": [
             [
              0,
              "#0d0887"
             ],
             [
              0.1111111111111111,
              "#46039f"
             ],
             [
              0.2222222222222222,
              "#7201a8"
             ],
             [
              0.3333333333333333,
              "#9c179e"
             ],
             [
              0.4444444444444444,
              "#bd3786"
             ],
             [
              0.5555555555555556,
              "#d8576b"
             ],
             [
              0.6666666666666666,
              "#ed7953"
             ],
             [
              0.7777777777777778,
              "#fb9f3a"
             ],
             [
              0.8888888888888888,
              "#fdca26"
             ],
             [
              1,
              "#f0f921"
             ]
            ],
            "type": "histogram2d"
           }
          ],
          "histogram2dcontour": [
           {
            "colorbar": {
             "outlinewidth": 0,
             "ticks": ""
            },
            "colorscale": [
             [
              0,
              "#0d0887"
             ],
             [
              0.1111111111111111,
              "#46039f"
             ],
             [
              0.2222222222222222,
              "#7201a8"
             ],
             [
              0.3333333333333333,
              "#9c179e"
             ],
             [
              0.4444444444444444,
              "#bd3786"
             ],
             [
              0.5555555555555556,
              "#d8576b"
             ],
             [
              0.6666666666666666,
              "#ed7953"
             ],
             [
              0.7777777777777778,
              "#fb9f3a"
             ],
             [
              0.8888888888888888,
              "#fdca26"
             ],
             [
              1,
              "#f0f921"
             ]
            ],
            "type": "histogram2dcontour"
           }
          ],
          "mesh3d": [
           {
            "colorbar": {
             "outlinewidth": 0,
             "ticks": ""
            },
            "type": "mesh3d"
           }
          ],
          "parcoords": [
           {
            "line": {
             "colorbar": {
              "outlinewidth": 0,
              "ticks": ""
             }
            },
            "type": "parcoords"
           }
          ],
          "pie": [
           {
            "automargin": true,
            "type": "pie"
           }
          ],
          "scatter": [
           {
            "fillpattern": {
             "fillmode": "overlay",
             "size": 10,
             "solidity": 0.2
            },
            "type": "scatter"
           }
          ],
          "scatter3d": [
           {
            "line": {
             "colorbar": {
              "outlinewidth": 0,
              "ticks": ""
             }
            },
            "marker": {
             "colorbar": {
              "outlinewidth": 0,
              "ticks": ""
             }
            },
            "type": "scatter3d"
           }
          ],
          "scattercarpet": [
           {
            "marker": {
             "colorbar": {
              "outlinewidth": 0,
              "ticks": ""
             }
            },
            "type": "scattercarpet"
           }
          ],
          "scattergeo": [
           {
            "marker": {
             "colorbar": {
              "outlinewidth": 0,
              "ticks": ""
             }
            },
            "type": "scattergeo"
           }
          ],
          "scattergl": [
           {
            "marker": {
             "colorbar": {
              "outlinewidth": 0,
              "ticks": ""
             }
            },
            "type": "scattergl"
           }
          ],
          "scattermap": [
           {
            "marker": {
             "colorbar": {
              "outlinewidth": 0,
              "ticks": ""
             }
            },
            "type": "scattermap"
           }
          ],
          "scattermapbox": [
           {
            "marker": {
             "colorbar": {
              "outlinewidth": 0,
              "ticks": ""
             }
            },
            "type": "scattermapbox"
           }
          ],
          "scatterpolar": [
           {
            "marker": {
             "colorbar": {
              "outlinewidth": 0,
              "ticks": ""
             }
            },
            "type": "scatterpolar"
           }
          ],
          "scatterpolargl": [
           {
            "marker": {
             "colorbar": {
              "outlinewidth": 0,
              "ticks": ""
             }
            },
            "type": "scatterpolargl"
           }
          ],
          "scatterternary": [
           {
            "marker": {
             "colorbar": {
              "outlinewidth": 0,
              "ticks": ""
             }
            },
            "type": "scatterternary"
           }
          ],
          "surface": [
           {
            "colorbar": {
             "outlinewidth": 0,
             "ticks": ""
            },
            "colorscale": [
             [
              0,
              "#0d0887"
             ],
             [
              0.1111111111111111,
              "#46039f"
             ],
             [
              0.2222222222222222,
              "#7201a8"
             ],
             [
              0.3333333333333333,
              "#9c179e"
             ],
             [
              0.4444444444444444,
              "#bd3786"
             ],
             [
              0.5555555555555556,
              "#d8576b"
             ],
             [
              0.6666666666666666,
              "#ed7953"
             ],
             [
              0.7777777777777778,
              "#fb9f3a"
             ],
             [
              0.8888888888888888,
              "#fdca26"
             ],
             [
              1,
              "#f0f921"
             ]
            ],
            "type": "surface"
           }
          ],
          "table": [
           {
            "cells": {
             "fill": {
              "color": "#EBF0F8"
             },
             "line": {
              "color": "white"
             }
            },
            "header": {
             "fill": {
              "color": "#C8D4E3"
             },
             "line": {
              "color": "white"
             }
            },
            "type": "table"
           }
          ]
         },
         "layout": {
          "annotationdefaults": {
           "arrowcolor": "#2a3f5f",
           "arrowhead": 0,
           "arrowwidth": 1
          },
          "autotypenumbers": "strict",
          "coloraxis": {
           "colorbar": {
            "outlinewidth": 0,
            "ticks": ""
           }
          },
          "colorscale": {
           "diverging": [
            [
             0,
             "#8e0152"
            ],
            [
             0.1,
             "#c51b7d"
            ],
            [
             0.2,
             "#de77ae"
            ],
            [
             0.3,
             "#f1b6da"
            ],
            [
             0.4,
             "#fde0ef"
            ],
            [
             0.5,
             "#f7f7f7"
            ],
            [
             0.6,
             "#e6f5d0"
            ],
            [
             0.7,
             "#b8e186"
            ],
            [
             0.8,
             "#7fbc41"
            ],
            [
             0.9,
             "#4d9221"
            ],
            [
             1,
             "#276419"
            ]
           ],
           "sequential": [
            [
             0,
             "#0d0887"
            ],
            [
             0.1111111111111111,
             "#46039f"
            ],
            [
             0.2222222222222222,
             "#7201a8"
            ],
            [
             0.3333333333333333,
             "#9c179e"
            ],
            [
             0.4444444444444444,
             "#bd3786"
            ],
            [
             0.5555555555555556,
             "#d8576b"
            ],
            [
             0.6666666666666666,
             "#ed7953"
            ],
            [
             0.7777777777777778,
             "#fb9f3a"
            ],
            [
             0.8888888888888888,
             "#fdca26"
            ],
            [
             1,
             "#f0f921"
            ]
           ],
           "sequentialminus": [
            [
             0,
             "#0d0887"
            ],
            [
             0.1111111111111111,
             "#46039f"
            ],
            [
             0.2222222222222222,
             "#7201a8"
            ],
            [
             0.3333333333333333,
             "#9c179e"
            ],
            [
             0.4444444444444444,
             "#bd3786"
            ],
            [
             0.5555555555555556,
             "#d8576b"
            ],
            [
             0.6666666666666666,
             "#ed7953"
            ],
            [
             0.7777777777777778,
             "#fb9f3a"
            ],
            [
             0.8888888888888888,
             "#fdca26"
            ],
            [
             1,
             "#f0f921"
            ]
           ]
          },
          "colorway": [
           "#636efa",
           "#EF553B",
           "#00cc96",
           "#ab63fa",
           "#FFA15A",
           "#19d3f3",
           "#FF6692",
           "#B6E880",
           "#FF97FF",
           "#FECB52"
          ],
          "font": {
           "color": "#2a3f5f"
          },
          "geo": {
           "bgcolor": "white",
           "lakecolor": "white",
           "landcolor": "#E5ECF6",
           "showlakes": true,
           "showland": true,
           "subunitcolor": "white"
          },
          "hoverlabel": {
           "align": "left"
          },
          "hovermode": "closest",
          "mapbox": {
           "style": "light"
          },
          "paper_bgcolor": "white",
          "plot_bgcolor": "#E5ECF6",
          "polar": {
           "angularaxis": {
            "gridcolor": "white",
            "linecolor": "white",
            "ticks": ""
           },
           "bgcolor": "#E5ECF6",
           "radialaxis": {
            "gridcolor": "white",
            "linecolor": "white",
            "ticks": ""
           }
          },
          "scene": {
           "xaxis": {
            "backgroundcolor": "#E5ECF6",
            "gridcolor": "white",
            "gridwidth": 2,
            "linecolor": "white",
            "showbackground": true,
            "ticks": "",
            "zerolinecolor": "white"
           },
           "yaxis": {
            "backgroundcolor": "#E5ECF6",
            "gridcolor": "white",
            "gridwidth": 2,
            "linecolor": "white",
            "showbackground": true,
            "ticks": "",
            "zerolinecolor": "white"
           },
           "zaxis": {
            "backgroundcolor": "#E5ECF6",
            "gridcolor": "white",
            "gridwidth": 2,
            "linecolor": "white",
            "showbackground": true,
            "ticks": "",
            "zerolinecolor": "white"
           }
          },
          "shapedefaults": {
           "line": {
            "color": "#2a3f5f"
           }
          },
          "ternary": {
           "aaxis": {
            "gridcolor": "white",
            "linecolor": "white",
            "ticks": ""
           },
           "baxis": {
            "gridcolor": "white",
            "linecolor": "white",
            "ticks": ""
           },
           "bgcolor": "#E5ECF6",
           "caxis": {
            "gridcolor": "white",
            "linecolor": "white",
            "ticks": ""
           }
          },
          "title": {
           "x": 0.05
          },
          "xaxis": {
           "automargin": true,
           "gridcolor": "white",
           "linecolor": "white",
           "ticks": "",
           "title": {
            "standoff": 15
           },
           "zerolinecolor": "white",
           "zerolinewidth": 2
          },
          "yaxis": {
           "automargin": true,
           "gridcolor": "white",
           "linecolor": "white",
           "ticks": "",
           "title": {
            "standoff": 15
           },
           "zerolinecolor": "white",
           "zerolinewidth": 2
          }
         }
        },
        "width": 640,
        "xaxis": {
         "anchor": "y",
         "constrain": "domain",
         "domain": [
          0,
          1
         ],
         "scaleanchor": "y"
        },
        "yaxis": {
         "anchor": "x",
         "autorange": "reversed",
         "constrain": "domain",
         "domain": [
          0,
          1
         ]
        }
       }
      }
     },
     "metadata": {},
     "output_type": "display_data"
    }
   ],
   "source": [
    "data_per_min = data.groupby(['PLAYER', 'PLAYER_ID', 'Year'])[total_cols].sum().reset_index()\n",
    "for col in data_per_min.columns[4:]:\n",
    "    data_per_min[col] = data_per_min[col] / data_per_min['MIN']\n",
    "\n",
    "data_per_min['FG%'] = data_per_min['FGM'] / data_per_min['FGA']\n",
    "data_per_min['3PT%'] = data_per_min['FG3M'] / data_per_min['FG3A']\n",
    "data_per_min['FT%'] = data_per_min['FTM'] / data_per_min['FTA']\n",
    "data_per_min['FG3A%'] = data_per_min['FG3A'] / data_per_min['FGA']\n",
    "data_per_min['PTS/FGA'] = data_per_min['PTS'] / data_per_min['FGA']\n",
    "data_per_min['FG3M/FGM'] = data_per_min['FG3M'] / data_per_min['FGM']\n",
    "data_per_min['FTA/FGA'] = data_per_min['FTA'] / data_per_min['FGA']\n",
    "data_per_min['TRU%'] = 0.5 * data_per_min['PTS'] / (data_per_min['FGA'] + 0.475 * data_per_min['FTA'])\n",
    "data_per_min['AST_TOV'] = data_per_min['AST'] / data_per_min['TOV']\n",
    "\n",
    "# Only look at players who have recorded at least 50 min of play time in a season\n",
    "data_per_min = data_per_min[data_per_min['MIN']>=50]\n",
    "data_per_min.drop(columns='PLAYER_ID', inplace=True)\n",
    "# data_per_min.head(4)\n",
    "\n",
    "fig = px.imshow(data_per_min.select_dtypes(include=[float, int]).corr(), width=640, height=640)\n",
    "fig.show()"
   ]
  },
  {
   "cell_type": "markdown",
   "metadata": {},
   "source": [
    "---"
   ]
  },
  {
   "cell_type": "markdown",
   "metadata": {},
   "source": [
    "Distribution of minutes played"
   ]
  },
  {
   "cell_type": "code",
   "execution_count": 108,
   "metadata": {},
   "outputs": [
    {
     "data": {
      "application/vnd.plotly.v1+json": {
       "config": {
        "plotlyServerURL": "https://plot.ly"
       },
       "data": [
        {
         "bingroup": "x",
         "histnorm": "percent",
         "hovertemplate": "x=%{x}<br>percent=%{y}<extra></extra>",
         "legendgroup": "",
         "marker": {
          "color": "#636efa",
          "pattern": {
           "shape": ""
          }
         },
         "name": "",
         "orientation": "v",
         "showlegend": false,
         "type": "histogram",
         "x": {
          "bdata": "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",
          "dtype": "i2"
         },
         "xaxis": "x",
         "yaxis": "y"
        }
       ],
       "layout": {
        "barmode": "relative",
        "legend": {
         "tracegroupgap": 0
        },
        "margin": {
         "t": 60
        },
        "template": {
         "data": {
          "bar": [
           {
            "error_x": {
             "color": "#2a3f5f"
            },
            "error_y": {
             "color": "#2a3f5f"
            },
            "marker": {
             "line": {
              "color": "#E5ECF6",
              "width": 0.5
             },
             "pattern": {
              "fillmode": "overlay",
              "size": 10,
              "solidity": 0.2
             }
            },
            "type": "bar"
           }
          ],
          "barpolar": [
           {
            "marker": {
             "line": {
              "color": "#E5ECF6",
              "width": 0.5
             },
             "pattern": {
              "fillmode": "overlay",
              "size": 10,
              "solidity": 0.2
             }
            },
            "type": "barpolar"
           }
          ],
          "carpet": [
           {
            "aaxis": {
             "endlinecolor": "#2a3f5f",
             "gridcolor": "white",
             "linecolor": "white",
             "minorgridcolor": "white",
             "startlinecolor": "#2a3f5f"
            },
            "baxis": {
             "endlinecolor": "#2a3f5f",
             "gridcolor": "white",
             "linecolor": "white",
             "minorgridcolor": "white",
             "startlinecolor": "#2a3f5f"
            },
            "type": "carpet"
           }
          ],
          "choropleth": [
           {
            "colorbar": {
             "outlinewidth": 0,
             "ticks": ""
            },
            "type": "choropleth"
           }
          ],
          "contour": [
           {
            "colorbar": {
             "outlinewidth": 0,
             "ticks": ""
            },
            "colorscale": [
             [
              0,
              "#0d0887"
             ],
             [
              0.1111111111111111,
              "#46039f"
             ],
             [
              0.2222222222222222,
              "#7201a8"
             ],
             [
              0.3333333333333333,
              "#9c179e"
             ],
             [
              0.4444444444444444,
              "#bd3786"
             ],
             [
              0.5555555555555556,
              "#d8576b"
             ],
             [
              0.6666666666666666,
              "#ed7953"
             ],
             [
              0.7777777777777778,
              "#fb9f3a"
             ],
             [
              0.8888888888888888,
              "#fdca26"
             ],
             [
              1,
              "#f0f921"
             ]
            ],
            "type": "contour"
           }
          ],
          "contourcarpet": [
           {
            "colorbar": {
             "outlinewidth": 0,
             "ticks": ""
            },
            "type": "contourcarpet"
           }
          ],
          "heatmap": [
           {
            "colorbar": {
             "outlinewidth": 0,
             "ticks": ""
            },
            "colorscale": [
             [
              0,
              "#0d0887"
             ],
             [
              0.1111111111111111,
              "#46039f"
             ],
             [
              0.2222222222222222,
              "#7201a8"
             ],
             [
              0.3333333333333333,
              "#9c179e"
             ],
             [
              0.4444444444444444,
              "#bd3786"
             ],
             [
              0.5555555555555556,
              "#d8576b"
             ],
             [
              0.6666666666666666,
              "#ed7953"
             ],
             [
              0.7777777777777778,
              "#fb9f3a"
             ],
             [
              0.8888888888888888,
              "#fdca26"
             ],
             [
              1,
              "#f0f921"
             ]
            ],
            "type": "heatmap"
           }
          ],
          "histogram": [
           {
            "marker": {
             "pattern": {
              "fillmode": "overlay",
              "size": 10,
              "solidity": 0.2
             }
            },
            "type": "histogram"
           }
          ],
          "histogram2d": [
           {
            "colorbar": {
             "outlinewidth": 0,
             "ticks": ""
            },
            "colorscale": [
             [
              0,
              "#0d0887"
             ],
             [
              0.1111111111111111,
              "#46039f"
             ],
             [
              0.2222222222222222,
              "#7201a8"
             ],
             [
              0.3333333333333333,
              "#9c179e"
             ],
             [
              0.4444444444444444,
              "#bd3786"
             ],
             [
              0.5555555555555556,
              "#d8576b"
             ],
             [
              0.6666666666666666,
              "#ed7953"
             ],
             [
              0.7777777777777778,
              "#fb9f3a"
             ],
             [
              0.8888888888888888,
              "#fdca26"
             ],
             [
              1,
              "#f0f921"
             ]
            ],
            "type": "histogram2d"
           }
          ],
          "histogram2dcontour": [
           {
            "colorbar": {
             "outlinewidth": 0,
             "ticks": ""
            },
            "colorscale": [
             [
              0,
              "#0d0887"
             ],
             [
              0.1111111111111111,
              "#46039f"
             ],
             [
              0.2222222222222222,
              "#7201a8"
             ],
             [
              0.3333333333333333,
              "#9c179e"
             ],
             [
              0.4444444444444444,
              "#bd3786"
             ],
             [
              0.5555555555555556,
              "#d8576b"
             ],
             [
              0.6666666666666666,
              "#ed7953"
             ],
             [
              0.7777777777777778,
              "#fb9f3a"
             ],
             [
              0.8888888888888888,
              "#fdca26"
             ],
             [
              1,
              "#f0f921"
             ]
            ],
            "type": "histogram2dcontour"
           }
          ],
          "mesh3d": [
           {
            "colorbar": {
             "outlinewidth": 0,
             "ticks": ""
            },
            "type": "mesh3d"
           }
          ],
          "parcoords": [
           {
            "line": {
             "colorbar": {
              "outlinewidth": 0,
              "ticks": ""
             }
            },
            "type": "parcoords"
           }
          ],
          "pie": [
           {
            "automargin": true,
            "type": "pie"
           }
          ],
          "scatter": [
           {
            "fillpattern": {
             "fillmode": "overlay",
             "size": 10,
             "solidity": 0.2
            },
            "type": "scatter"
           }
          ],
          "scatter3d": [
           {
            "line": {
             "colorbar": {
              "outlinewidth": 0,
              "ticks": ""
             }
            },
            "marker": {
             "colorbar": {
              "outlinewidth": 0,
              "ticks": ""
             }
            },
            "type": "scatter3d"
           }
          ],
          "scattercarpet": [
           {
            "marker": {
             "colorbar": {
              "outlinewidth": 0,
              "ticks": ""
             }
            },
            "type": "scattercarpet"
           }
          ],
          "scattergeo": [
           {
            "marker": {
             "colorbar": {
              "outlinewidth": 0,
              "ticks": ""
             }
            },
            "type": "scattergeo"
           }
          ],
          "scattergl": [
           {
            "marker": {
             "colorbar": {
              "outlinewidth": 0,
              "ticks": ""
             }
            },
            "type": "scattergl"
           }
          ],
          "scattermap": [
           {
            "marker": {
             "colorbar": {
              "outlinewidth": 0,
              "ticks": ""
             }
            },
            "type": "scattermap"
           }
          ],
          "scattermapbox": [
           {
            "marker": {
             "colorbar": {
              "outlinewidth": 0,
              "ticks": ""
             }
            },
            "type": "scattermapbox"
           }
          ],
          "scatterpolar": [
           {
            "marker": {
             "colorbar": {
              "outlinewidth": 0,
              "ticks": ""
             }
            },
            "type": "scatterpolar"
           }
          ],
          "scatterpolargl": [
           {
            "marker": {
             "colorbar": {
              "outlinewidth": 0,
              "ticks": ""
             }
            },
            "type": "scatterpolargl"
           }
          ],
          "scatterternary": [
           {
            "marker": {
             "colorbar": {
              "outlinewidth": 0,
              "ticks": ""
             }
            },
            "type": "scatterternary"
           }
          ],
          "surface": [
           {
            "colorbar": {
             "outlinewidth": 0,
             "ticks": ""
            },
            "colorscale": [
             [
              0,
              "#0d0887"
             ],
             [
              0.1111111111111111,
              "#46039f"
             ],
             [
              0.2222222222222222,
              "#7201a8"
             ],
             [
              0.3333333333333333,
              "#9c179e"
             ],
             [
              0.4444444444444444,
              "#bd3786"
             ],
             [
              0.5555555555555556,
              "#d8576b"
             ],
             [
              0.6666666666666666,
              "#ed7953"
             ],
             [
              0.7777777777777778,
              "#fb9f3a"
             ],
             [
              0.8888888888888888,
              "#fdca26"
             ],
             [
              1,
              "#f0f921"
             ]
            ],
            "type": "surface"
           }
          ],
          "table": [
           {
            "cells": {
             "fill": {
              "color": "#EBF0F8"
             },
             "line": {
              "color": "white"
             }
            },
            "header": {
             "fill": {
              "color": "#C8D4E3"
             },
             "line": {
              "color": "white"
             }
            },
            "type": "table"
           }
          ]
         },
         "layout": {
          "annotationdefaults": {
           "arrowcolor": "#2a3f5f",
           "arrowhead": 0,
           "arrowwidth": 1
          },
          "autotypenumbers": "strict",
          "coloraxis": {
           "colorbar": {
            "outlinewidth": 0,
            "ticks": ""
           }
          },
          "colorscale": {
           "diverging": [
            [
             0,
             "#8e0152"
            ],
            [
             0.1,
             "#c51b7d"
            ],
            [
             0.2,
             "#de77ae"
            ],
            [
             0.3,
             "#f1b6da"
            ],
            [
             0.4,
             "#fde0ef"
            ],
            [
             0.5,
             "#f7f7f7"
            ],
            [
             0.6,
             "#e6f5d0"
            ],
            [
             0.7,
             "#b8e186"
            ],
            [
             0.8,
             "#7fbc41"
            ],
            [
             0.9,
             "#4d9221"
            ],
            [
             1,
             "#276419"
            ]
           ],
           "sequential": [
            [
             0,
             "#0d0887"
            ],
            [
             0.1111111111111111,
             "#46039f"
            ],
            [
             0.2222222222222222,
             "#7201a8"
            ],
            [
             0.3333333333333333,
             "#9c179e"
            ],
            [
             0.4444444444444444,
             "#bd3786"
            ],
            [
             0.5555555555555556,
             "#d8576b"
            ],
            [
             0.6666666666666666,
             "#ed7953"
            ],
            [
             0.7777777777777778,
             "#fb9f3a"
            ],
            [
             0.8888888888888888,
             "#fdca26"
            ],
            [
             1,
             "#f0f921"
            ]
           ],
           "sequentialminus": [
            [
             0,
             "#0d0887"
            ],
            [
             0.1111111111111111,
             "#46039f"
            ],
            [
             0.2222222222222222,
             "#7201a8"
            ],
            [
             0.3333333333333333,
             "#9c179e"
            ],
            [
             0.4444444444444444,
             "#bd3786"
            ],
            [
             0.5555555555555556,
             "#d8576b"
            ],
            [
             0.6666666666666666,
             "#ed7953"
            ],
            [
             0.7777777777777778,
             "#fb9f3a"
            ],
            [
             0.8888888888888888,
             "#fdca26"
            ],
            [
             1,
             "#f0f921"
            ]
           ]
          },
          "colorway": [
           "#636efa",
           "#EF553B",
           "#00cc96",
           "#ab63fa",
           "#FFA15A",
           "#19d3f3",
           "#FF6692",
           "#B6E880",
           "#FF97FF",
           "#FECB52"
          ],
          "font": {
           "color": "#2a3f5f"
          },
          "geo": {
           "bgcolor": "white",
           "lakecolor": "white",
           "landcolor": "#E5ECF6",
           "showlakes": true,
           "showland": true,
           "subunitcolor": "white"
          },
          "hoverlabel": {
           "align": "left"
          },
          "hovermode": "closest",
          "mapbox": {
           "style": "light"
          },
          "paper_bgcolor": "white",
          "plot_bgcolor": "#E5ECF6",
          "polar": {
           "angularaxis": {
            "gridcolor": "white",
            "linecolor": "white",
            "ticks": ""
           },
           "bgcolor": "#E5ECF6",
           "radialaxis": {
            "gridcolor": "white",
            "linecolor": "white",
            "ticks": ""
           }
          },
          "scene": {
           "xaxis": {
            "backgroundcolor": "#E5ECF6",
            "gridcolor": "white",
            "gridwidth": 2,
            "linecolor": "white",
            "showbackground": true,
            "ticks": "",
            "zerolinecolor": "white"
           },
           "yaxis": {
            "backgroundcolor": "#E5ECF6",
            "gridcolor": "white",
            "gridwidth": 2,
            "linecolor": "white",
            "showbackground": true,
            "ticks": "",
            "zerolinecolor": "white"
           },
           "zaxis": {
            "backgroundcolor": "#E5ECF6",
            "gridcolor": "white",
            "gridwidth": 2,
            "linecolor": "white",
            "showbackground": true,
            "ticks": "",
            "zerolinecolor": "white"
           }
          },
          "shapedefaults": {
           "line": {
            "color": "#2a3f5f"
           }
          },
          "ternary": {
           "aaxis": {
            "gridcolor": "white",
            "linecolor": "white",
            "ticks": ""
           },
           "baxis": {
            "gridcolor": "white",
            "linecolor": "white",
            "ticks": ""
           },
           "bgcolor": "#E5ECF6",
           "caxis": {
            "gridcolor": "white",
            "linecolor": "white",
            "ticks": ""
           }
          },
          "title": {
           "x": 0.05
          },
          "xaxis": {
           "automargin": true,
           "gridcolor": "white",
           "linecolor": "white",
           "ticks": "",
           "title": {
            "standoff": 15
           },
           "zerolinecolor": "white",
           "zerolinewidth": 2
          },
          "yaxis": {
           "automargin": true,
           "gridcolor": "white",
           "linecolor": "white",
           "ticks": "",
           "title": {
            "standoff": 15
           },
           "zerolinecolor": "white",
           "zerolinewidth": 2
          }
         }
        },
        "xaxis": {
         "anchor": "y",
         "domain": [
          0,
          1
         ],
         "title": {
          "text": "x"
         }
        },
        "yaxis": {
         "anchor": "x",
         "domain": [
          0,
          1
         ],
         "title": {
          "text": "percent"
         }
        }
       }
      }
     },
     "metadata": {},
     "output_type": "display_data"
    }
   ],
   "source": [
    "fig = px.histogram(x=rs_df['MIN'], histnorm='percent')\n",
    "fig.show()"
   ]
  },
  {
   "cell_type": "code",
   "execution_count": null,
   "metadata": {},
   "outputs": [],
   "source": [
    "# Minutes per game\n",
    "def hist_data(df=rs_df, min_MIN=0, min_GP=0):\n",
    "    return df.loc[(df['MIN'] >= min_MIN) & (df['GP'] >= min_GP), 'MIN'] /\\\n",
    "    df.loc[(df['MIN'] >= min_MIN) & (df['GP'] >= min_GP), 'GP']\n"
   ]
  },
  {
   "cell_type": "code",
   "execution_count": 117,
   "metadata": {},
   "outputs": [
    {
     "data": {
      "application/vnd.plotly.v1+json": {
       "config": {
        "plotlyServerURL": "https://plot.ly"
       },
       "data": [
        {
         "histnorm": "percent",
         "name": "RS",
         "opacity": 0.5,
         "type": "histogram",
         "x": {
          "bdata": "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",
          "dtype": "f8"
         },
         "xbins": {
          "end": 46,
          "size": 1,
          "start": 0
         }
        },
        {
         "histnorm": "percent",
         "name": "Playoffs",
         "opacity": 0.5,
         "type": "histogram",
         "x": {
          "bdata": "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",
          "dtype": "f8"
         },
         "xbins": {
          "end": 46,
          "size": 1,
          "start": 0
         }
        }
       ],
       "layout": {
        "barmode": "overlay",
        "template": {
         "data": {
          "bar": [
           {
            "error_x": {
             "color": "#2a3f5f"
            },
            "error_y": {
             "color": "#2a3f5f"
            },
            "marker": {
             "line": {
              "color": "#E5ECF6",
              "width": 0.5
             },
             "pattern": {
              "fillmode": "overlay",
              "size": 10,
              "solidity": 0.2
             }
            },
            "type": "bar"
           }
          ],
          "barpolar": [
           {
            "marker": {
             "line": {
              "color": "#E5ECF6",
              "width": 0.5
             },
             "pattern": {
              "fillmode": "overlay",
              "size": 10,
              "solidity": 0.2
             }
            },
            "type": "barpolar"
           }
          ],
          "carpet": [
           {
            "aaxis": {
             "endlinecolor": "#2a3f5f",
             "gridcolor": "white",
             "linecolor": "white",
             "minorgridcolor": "white",
             "startlinecolor": "#2a3f5f"
            },
            "baxis": {
             "endlinecolor": "#2a3f5f",
             "gridcolor": "white",
             "linecolor": "white",
             "minorgridcolor": "white",
             "startlinecolor": "#2a3f5f"
            },
            "type": "carpet"
           }
          ],
          "choropleth": [
           {
            "colorbar": {
             "outlinewidth": 0,
             "ticks": ""
            },
            "type": "choropleth"
           }
          ],
          "contour": [
           {
            "colorbar": {
             "outlinewidth": 0,
             "ticks": ""
            },
            "colorscale": [
             [
              0,
              "#0d0887"
             ],
             [
              0.1111111111111111,
              "#46039f"
             ],
             [
              0.2222222222222222,
              "#7201a8"
             ],
             [
              0.3333333333333333,
              "#9c179e"
             ],
             [
              0.4444444444444444,
              "#bd3786"
             ],
             [
              0.5555555555555556,
              "#d8576b"
             ],
             [
              0.6666666666666666,
              "#ed7953"
             ],
             [
              0.7777777777777778,
              "#fb9f3a"
             ],
             [
              0.8888888888888888,
              "#fdca26"
             ],
             [
              1,
              "#f0f921"
             ]
            ],
            "type": "contour"
           }
          ],
          "contourcarpet": [
           {
            "colorbar": {
             "outlinewidth": 0,
             "ticks": ""
            },
            "type": "contourcarpet"
           }
          ],
          "heatmap": [
           {
            "colorbar": {
             "outlinewidth": 0,
             "ticks": ""
            },
            "colorscale": [
             [
              0,
              "#0d0887"
             ],
             [
              0.1111111111111111,
              "#46039f"
             ],
             [
              0.2222222222222222,
              "#7201a8"
             ],
             [
              0.3333333333333333,
              "#9c179e"
             ],
             [
              0.4444444444444444,
              "#bd3786"
             ],
             [
              0.5555555555555556,
              "#d8576b"
             ],
             [
              0.6666666666666666,
              "#ed7953"
             ],
             [
              0.7777777777777778,
              "#fb9f3a"
             ],
             [
              0.8888888888888888,
              "#fdca26"
             ],
             [
              1,
              "#f0f921"
             ]
            ],
            "type": "heatmap"
           }
          ],
          "histogram": [
           {
            "marker": {
             "pattern": {
              "fillmode": "overlay",
              "size": 10,
              "solidity": 0.2
             }
            },
            "type": "histogram"
           }
          ],
          "histogram2d": [
           {
            "colorbar": {
             "outlinewidth": 0,
             "ticks": ""
            },
            "colorscale": [
             [
              0,
              "#0d0887"
             ],
             [
              0.1111111111111111,
              "#46039f"
             ],
             [
              0.2222222222222222,
              "#7201a8"
             ],
             [
              0.3333333333333333,
              "#9c179e"
             ],
             [
              0.4444444444444444,
              "#bd3786"
             ],
             [
              0.5555555555555556,
              "#d8576b"
             ],
             [
              0.6666666666666666,
              "#ed7953"
             ],
             [
              0.7777777777777778,
              "#fb9f3a"
             ],
             [
              0.8888888888888888,
              "#fdca26"
             ],
             [
              1,
              "#f0f921"
             ]
            ],
            "type": "histogram2d"
           }
          ],
          "histogram2dcontour": [
           {
            "colorbar": {
             "outlinewidth": 0,
             "ticks": ""
            },
            "colorscale": [
             [
              0,
              "#0d0887"
             ],
             [
              0.1111111111111111,
              "#46039f"
             ],
             [
              0.2222222222222222,
              "#7201a8"
             ],
             [
              0.3333333333333333,
              "#9c179e"
             ],
             [
              0.4444444444444444,
              "#bd3786"
             ],
             [
              0.5555555555555556,
              "#d8576b"
             ],
             [
              0.6666666666666666,
              "#ed7953"
             ],
             [
              0.7777777777777778,
              "#fb9f3a"
             ],
             [
              0.8888888888888888,
              "#fdca26"
             ],
             [
              1,
              "#f0f921"
             ]
            ],
            "type": "histogram2dcontour"
           }
          ],
          "mesh3d": [
           {
            "colorbar": {
             "outlinewidth": 0,
             "ticks": ""
            },
            "type": "mesh3d"
           }
          ],
          "parcoords": [
           {
            "line": {
             "colorbar": {
              "outlinewidth": 0,
              "ticks": ""
             }
            },
            "type": "parcoords"
           }
          ],
          "pie": [
           {
            "automargin": true,
            "type": "pie"
           }
          ],
          "scatter": [
           {
            "fillpattern": {
             "fillmode": "overlay",
             "size": 10,
             "solidity": 0.2
            },
            "type": "scatter"
           }
          ],
          "scatter3d": [
           {
            "line": {
             "colorbar": {
              "outlinewidth": 0,
              "ticks": ""
             }
            },
            "marker": {
             "colorbar": {
              "outlinewidth": 0,
              "ticks": ""
             }
            },
            "type": "scatter3d"
           }
          ],
          "scattercarpet": [
           {
            "marker": {
             "colorbar": {
              "outlinewidth": 0,
              "ticks": ""
             }
            },
            "type": "scattercarpet"
           }
          ],
          "scattergeo": [
           {
            "marker": {
             "colorbar": {
              "outlinewidth": 0,
              "ticks": ""
             }
            },
            "type": "scattergeo"
           }
          ],
          "scattergl": [
           {
            "marker": {
             "colorbar": {
              "outlinewidth": 0,
              "ticks": ""
             }
            },
            "type": "scattergl"
           }
          ],
          "scattermap": [
           {
            "marker": {
             "colorbar": {
              "outlinewidth": 0,
              "ticks": ""
             }
            },
            "type": "scattermap"
           }
          ],
          "scattermapbox": [
           {
            "marker": {
             "colorbar": {
              "outlinewidth": 0,
              "ticks": ""
             }
            },
            "type": "scattermapbox"
           }
          ],
          "scatterpolar": [
           {
            "marker": {
             "colorbar": {
              "outlinewidth": 0,
              "ticks": ""
             }
            },
            "type": "scatterpolar"
           }
          ],
          "scatterpolargl": [
           {
            "marker": {
             "colorbar": {
              "outlinewidth": 0,
              "ticks": ""
             }
            },
            "type": "scatterpolargl"
           }
          ],
          "scatterternary": [
           {
            "marker": {
             "colorbar": {
              "outlinewidth": 0,
              "ticks": ""
             }
            },
            "type": "scatterternary"
           }
          ],
          "surface": [
           {
            "colorbar": {
             "outlinewidth": 0,
             "ticks": ""
            },
            "colorscale": [
             [
              0,
              "#0d0887"
             ],
             [
              0.1111111111111111,
              "#46039f"
             ],
             [
              0.2222222222222222,
              "#7201a8"
             ],
             [
              0.3333333333333333,
              "#9c179e"
             ],
             [
              0.4444444444444444,
              "#bd3786"
             ],
             [
              0.5555555555555556,
              "#d8576b"
             ],
             [
              0.6666666666666666,
              "#ed7953"
             ],
             [
              0.7777777777777778,
              "#fb9f3a"
             ],
             [
              0.8888888888888888,
              "#fdca26"
             ],
             [
              1,
              "#f0f921"
             ]
            ],
            "type": "surface"
           }
          ],
          "table": [
           {
            "cells": {
             "fill": {
              "color": "#EBF0F8"
             },
             "line": {
              "color": "white"
             }
            },
            "header": {
             "fill": {
              "color": "#C8D4E3"
             },
             "line": {
              "color": "white"
             }
            },
            "type": "table"
           }
          ]
         },
         "layout": {
          "annotationdefaults": {
           "arrowcolor": "#2a3f5f",
           "arrowhead": 0,
           "arrowwidth": 1
          },
          "autotypenumbers": "strict",
          "coloraxis": {
           "colorbar": {
            "outlinewidth": 0,
            "ticks": ""
           }
          },
          "colorscale": {
           "diverging": [
            [
             0,
             "#8e0152"
            ],
            [
             0.1,
             "#c51b7d"
            ],
            [
             0.2,
             "#de77ae"
            ],
            [
             0.3,
             "#f1b6da"
            ],
            [
             0.4,
             "#fde0ef"
            ],
            [
             0.5,
             "#f7f7f7"
            ],
            [
             0.6,
             "#e6f5d0"
            ],
            [
             0.7,
             "#b8e186"
            ],
            [
             0.8,
             "#7fbc41"
            ],
            [
             0.9,
             "#4d9221"
            ],
            [
             1,
             "#276419"
            ]
           ],
           "sequential": [
            [
             0,
             "#0d0887"
            ],
            [
             0.1111111111111111,
             "#46039f"
            ],
            [
             0.2222222222222222,
             "#7201a8"
            ],
            [
             0.3333333333333333,
             "#9c179e"
            ],
            [
             0.4444444444444444,
             "#bd3786"
            ],
            [
             0.5555555555555556,
             "#d8576b"
            ],
            [
             0.6666666666666666,
             "#ed7953"
            ],
            [
             0.7777777777777778,
             "#fb9f3a"
            ],
            [
             0.8888888888888888,
             "#fdca26"
            ],
            [
             1,
             "#f0f921"
            ]
           ],
           "sequentialminus": [
            [
             0,
             "#0d0887"
            ],
            [
             0.1111111111111111,
             "#46039f"
            ],
            [
             0.2222222222222222,
             "#7201a8"
            ],
            [
             0.3333333333333333,
             "#9c179e"
            ],
            [
             0.4444444444444444,
             "#bd3786"
            ],
            [
             0.5555555555555556,
             "#d8576b"
            ],
            [
             0.6666666666666666,
             "#ed7953"
            ],
            [
             0.7777777777777778,
             "#fb9f3a"
            ],
            [
             0.8888888888888888,
             "#fdca26"
            ],
            [
             1,
             "#f0f921"
            ]
           ]
          },
          "colorway": [
           "#636efa",
           "#EF553B",
           "#00cc96",
           "#ab63fa",
           "#FFA15A",
           "#19d3f3",
           "#FF6692",
           "#B6E880",
           "#FF97FF",
           "#FECB52"
          ],
          "font": {
           "color": "#2a3f5f"
          },
          "geo": {
           "bgcolor": "white",
           "lakecolor": "white",
           "landcolor": "#E5ECF6",
           "showlakes": true,
           "showland": true,
           "subunitcolor": "white"
          },
          "hoverlabel": {
           "align": "left"
          },
          "hovermode": "closest",
          "mapbox": {
           "style": "light"
          },
          "paper_bgcolor": "white",
          "plot_bgcolor": "#E5ECF6",
          "polar": {
           "angularaxis": {
            "gridcolor": "white",
            "linecolor": "white",
            "ticks": ""
           },
           "bgcolor": "#E5ECF6",
           "radialaxis": {
            "gridcolor": "white",
            "linecolor": "white",
            "ticks": ""
           }
          },
          "scene": {
           "xaxis": {
            "backgroundcolor": "#E5ECF6",
            "gridcolor": "white",
            "gridwidth": 2,
            "linecolor": "white",
            "showbackground": true,
            "ticks": "",
            "zerolinecolor": "white"
           },
           "yaxis": {
            "backgroundcolor": "#E5ECF6",
            "gridcolor": "white",
            "gridwidth": 2,
            "linecolor": "white",
            "showbackground": true,
            "ticks": "",
            "zerolinecolor": "white"
           },
           "zaxis": {
            "backgroundcolor": "#E5ECF6",
            "gridcolor": "white",
            "gridwidth": 2,
            "linecolor": "white",
            "showbackground": true,
            "ticks": "",
            "zerolinecolor": "white"
           }
          },
          "shapedefaults": {
           "line": {
            "color": "#2a3f5f"
           }
          },
          "ternary": {
           "aaxis": {
            "gridcolor": "white",
            "linecolor": "white",
            "ticks": ""
           },
           "baxis": {
            "gridcolor": "white",
            "linecolor": "white",
            "ticks": ""
           },
           "bgcolor": "#E5ECF6",
           "caxis": {
            "gridcolor": "white",
            "linecolor": "white",
            "ticks": ""
           }
          },
          "title": {
           "x": 0.05
          },
          "xaxis": {
           "automargin": true,
           "gridcolor": "white",
           "linecolor": "white",
           "ticks": "",
           "title": {
            "standoff": 15
           },
           "zerolinecolor": "white",
           "zerolinewidth": 2
          },
          "yaxis": {
           "automargin": true,
           "gridcolor": "white",
           "linecolor": "white",
           "ticks": "",
           "title": {
            "standoff": 15
           },
           "zerolinecolor": "white",
           "zerolinewidth": 2
          }
         }
        }
       }
      }
     },
     "metadata": {},
     "output_type": "display_data"
    }
   ],
   "source": [
    "fig = go.Figure()\n",
    "fig.add_trace(go.Histogram(x=hist_data(rs_df, 50, 5), histnorm='percent', name='RS',\n",
    "                           xbins={'start': 0, 'end': 46, 'size': 1}))\n",
    "fig.add_trace(go.Histogram(x=hist_data(playoffs_df, 5, 1), histnorm='percent', name='Playoffs',\n",
    "                           xbins={'start': 0, 'end': 46, 'size': 1}))\n",
    "\n",
    "fig.update_layout(barmode='overlay')\n",
    "fig.update_traces(opacity=0.5)\n",
    "fig.show()"
   ]
  },
  {
   "cell_type": "code",
   "execution_count": null,
   "metadata": {},
   "outputs": [
    {
     "data": {
      "text/plain": [
       "np.float64(0.7418734708144006)"
      ]
     },
     "execution_count": 118,
     "metadata": {},
     "output_type": "execute_result"
    }
   ],
   "source": [
    "((hist_data(rs_df, 50, 5) >=12) & (hist_data(rs_df, 50, 5) <= 34)).mean()"
   ]
  },
  {
   "cell_type": "code",
   "execution_count": null,
   "metadata": {},
   "outputs": [
    {
     "data": {
      "application/vnd.plotly.v1+json": {
       "config": {
        "plotlyServerURL": "https://plot.ly"
       },
       "data": [
        {
         "histnorm": "percent",
         "name": "RS",
         "opacity": 0.5,
         "type": "histogram",
         "x": {
          "bdata": "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",
          "dtype": "f8"
         },
         "xbins": {
          "end": 38,
          "size": 1,
          "start": 0
         }
        },
        {
         "histnorm": "percent",
         "name": "Playoffs",
         "opacity": 0.5,
         "type": "histogram",
         "x": {
          "bdata": "3/SmN73pOUAlSZIkSZI0QEmSJEmSJDJAXkN5DeU1M0C66KKLLrovQFVVVVVV1TxA0UUXXXTRPkAAAAAAAAAxQKK8hvIayi9AwzAMwzAMK0Crqqqqqmo3QGQhC1nIQihAjuM4juM4LUBmZmZmZmYxQDMzMzMzMzFAAAAAAAAAMUDDMAzDMAwnQIYsZCELWSRADMMwDMMwJkAtZCELWcgiQKuqqqqqKjFAq6qqqqpqMEAAAAAAAEAwQFVVVVVVFTBAVVVVVVVVLkB5DeU1lNciQKuqqqqqKixAq6qqqqqqKkBVVVVVVVU6QIwuuuiiiyxAkiRJkiRJNkAAAAAAAAAsQImIiIiIiCRA0UUXXXTRK0AlSZIkSZI0QM/zPM/zPBtAq6qqqqqqJ0Cjiy666KIpQImIiIiIiCJAVVVVVVXVNkCrqqqqqiomQLy7u7u7uyFAAAAAAACAJUAlSZIkSZIYQJqZmZmZmRlAVVVVVVVVNUBVVVVVVVU0QL2G8hrKaxhAq6qqqqoqM0CrqqqqqqoiQAAAAAAAABRAq6qqqqoqMkAAAAAAAAAyQAAAAAAAABxAbtu2bdu2LUC66KKLLroSQAAAAAAAADFAq6qqqqqqMEAbymsor6EUQHTRRRdddCFAq6qqqqqqHEAAAAAAAAAsQAAAAAAAAChAMzMzMzMzEECrqqqqqqoqQFVVVVVVVSpAAAAAAAAAGkC9hvIaymsQQFVVVVVVVSlAq6qqqqqqKEAlSZIkSZIkQAAAAAAAAChAAAAAAAAAKECrqqqqqqonQKuqqqqqqidAVVVVVVVVF0AAAAAAAAAXQJqZmZmZmStAq6qqqqqqJkAAAAAAAAAxQKuqqqqqqhZAAAAAAABAEECrqqqqqqolQKuqqqqqqiVAVVVVVVVVJUDpoosuuugWQFVVVVVVVSRASZIkSZIkIUCamZmZmZkHQO/u7u7u7g5AS0tLS0tLC0AAAAAAAIAsQAAAAAAAACxAHMdxHMdxGEAAAAAAAAAUQAAAAAAAgCpAAAAAAAAAIUBmZmZmZmYkQAAAAAAAgChA0UUXXXTREUAAAAAAAAA4QFVVVVVVVQ9AAAAAAAAAJ0CrqqqqqqoOQAAAAAAAACJAAAAAAACAJkCrqqqqqqocQAAAAAAAgCVAAAAAAAAAJUCrqqqqqqoaQKuqqqqqqhpAAAAAAAAAGkCrqqqqqqoYQBzHcRzHcRBAAAAAAAAAKEAAAAAAAAAYQAAAAAAAgCBAkiRJkiRJEkBu27Zt27YRQAAAAAAAABRAAAAAAAAAFEAAAAAAAAAUQAAAAAAAAB1AchzHcRzH+T8AAAAAAAAdQFVVVVVVVRNAAAAAAAAALEC3bdu2bdv+P83MzMzMzBRAAAAAAAAAGkC8u7u7u7v7PwAAAAAAAClAAAAAAAAAEEAAAAAAAAAAQHTRRRdddAFAVVVVVVVVDUCrqqqqqqoKQAAAAAAAABNAzczMzMzMDEDNzMzMzMwMQAAAAAAAABhAAAAAAAAAAEC66KKLLrr4PxzHcRzHcfw/AAAAAAAAEECamZmZmZkJQAAAAAAAAA5AAAAAAAAADEAAAAAAAAD6PwAAAAAAAApAbtu2bdu2/T8AAAAAAAAQQFVVVVVVVfU/AAAAAAAAFkBVVVVVVVXtP5qZmZmZmQFAq6qqqqqqCkAAAAAAAAD0P6uqqqqqquo/AAAAAAAABEAAAAAAAAACQAAAAAAAAPA/AAAAAAAAIkAAAAAAAAAAQAAAAAAAAPA/AAAAAAAAAECSJEmSJEnyPwAAAAAAABBAVVVVVVVV9T8AAAAAAAD8PwAAAAAAAPg/27Zt27Zt2z8AAAAAAAD4PzMzMzMzM/M/AAAAAAAAAEAAAAAAAAAUQAAAAAAAAPQ/AAAAAAAA8D+amZmZmZnpPwAAAAAAABBAVVVVVVVV9T8AAAAAAADwPwAAAAAAABBAmpmZmZmZ6T8AAAAAAADgPwAAAAAAAPA/MzMzMzMz4z8AAAAAAADgPwAAAAAAAPA/mpmZmZmZ2T8AAAAAAADwPxzHcRzHccw/AAAAAAAA8D8AAAAAAAAAAAAAAAAAAAAAAAAAAAAAAAAAAAAAAAAAAAAAAAAAAAAAAAAAAAAAAAAAAAAAAAAAAAAAAAAAAAAAAAAAAAAAAAAbymsor6E9QGZmZmZmZjtA8xrKayivOkBDeQ3lNZQ2QBaykIUsZDFAZCELWchCMEDNzMzMzMwxQAtZyEIWsixAyEIWspCFLECe2Imd2Ik3QM3MzMzMzC1AL7rooosuOkBeQ3kN5TUuQDaU11BeQytAT+zETuzEM0Crqqqqqio1QOmiiy666DZAXkN5DeU1KEDIQhaykIUiQIYsZCELWSJAL7rooosuM0CvobyG8homQB4eHh4eHihAO7ETO7ETL0AAAAAAAIAiQEYXXXTRRTBAbCivobyGIkAAAAAAAAAtQNmJndiJnSpAIQtZyEIWHkDTm970pjcdQLdt27Zt2zdAXXTRRRddLkBVVVVVVVUrQFVVVVVV1TpAAAAAAAAAN0AXXXTRRRctQAAAAAAAADpARhdddNFFK0BJkiRJkiQ1QAAAAAAAACpA27Zt27ZtNEBmZmZmZmYrQNu2bdu2bTNAkiRJkiRJM0BJkiRJkiQzQJqZmZmZmRlAsRM7sRM7I0Cc3vSmN70VQE/sxE7sxCJAkiRJkiRJMUBVVVVVVVUzQFVVVVVVVSNA27Zt27ZtMEDHcRzHcRwZQG7btm3bti9AxU7sxE7sIEAcx3Ecx3EYQAAAAAAAACRAq6qqqqoqMkBsKK+hvIYWQAAAAAAAgCBAbtu2bdu2K0DHcRzHcRwVQLdt27Zt2ypAkiRJkiRJKkAcx3Ecx3EUQGZmZmZmZhJAMzMzMzMzMkBJkiRJkiQpQCVJkiRJkihAbtu2bdu2J0CrqqqqqqobQLdt27Zt2yZAAAAAAACAM0AAAAAAAAAmQKuqqqqqqhlAbtu2bdu2JUDKayivobwOQLdt27Zt2yRAJUmSJEmSJECrqqqqqqoXQJIkSZIkSSRAAAAAAAAAJEDHcRzHcRwPQKuqqqqqqiZAMzMzMzMzK0BmZmZmZmYqQGZmZmZmZipAt23btm3bIkBu27Zt27YhQDaU11BeQwlAmpmZmZmZF0AAAAAAAIAdQLdt27Zt2yBAJUmSJEmSIECSJEmSJEkgQKuqqqqqqjJA3t3d3d3dDUDbtm3btm0fQNu2bdu2bR9AAAAAAAAAJkBEREREREQMQM3MzMzMzCRAVVVVVVVVIUBJkiRJkiQdQE/sxE7sxA5AMzMzMzMzI0CXlpaWlpYGQAAAAAAAACdAq6qqqqqqHkAAAAAAAIAmQG7btm3bthlAAAAAAAAAEEBJkiRJkiQZQAAAAAAAABhAjC666KKLDkCrqqqqqqoaQBdddNFFFw1AAAAAAAAABEAAAAAAAAAKQAAAAAAAgCNAAAAAAAAAI0CH8hrKayj/P6uqqqqqqhhAAAAAAACAAkAAAAAAAAAIQFVVVVVVVRdAAAAAAAAAFEDFTuzETuwEQDMzMzMzMwtAAAAAAAAAIUAAAAAAAAAWQA8PDw8PD/8/kiRJkiRJAkCSJEmSJEkSQEYXXXTRRQdAAAAAAAAAH0CrqqqqqqoKQAAAAAAAAA1Ao4suuuii8z8AAAAAAAAEQJqZmZmZmQFASZIkSZIkCUAAAAAAAAAIQG7btm3btgVAVVVVVVVVGUCjiy666KL7PyVJkiRJkgRA27Zt27ZtA0AAAAAAAADwP7rooosuuvg/mpmZmZmZCUBVVVVVVVUBQAAAAAAAAAZAVVVVVVVV/T8AAAAAAAAEQAAAAAAAAPA/JUmSJEmS9D8AAAAAAAAIQFVVVVVVVQVAAAAAAAAAAECSJEmSJEnyP5IkSZIkSfI/AAAAAAAAEEAAAAAAAAD8PwAAAAAAAAxAq6qqqqqqAkAAAAAAAAD4PzMzMzMzM/M/27Zt27Zt6z8AAAAAAAAEQAAAAAAAAOA/AAAAAAAA8D9VVVVVVVXlP1VVVVVVVfU/AAAAAAAA8D+amZmZmZnpPzMzMzMzM+M/VVVVVVVV5T8AAAAAAADwPxzHcRzHcbw/AAAAAAAAAAAAAAAAAAAAAAAAAAAAAAAAAAAAAAAAAAAAAAAAAAAAAAAAAAAAAAAAAAAAAAAAAAAAAAAAAAAAAAAAAAAAAAAAAAAAAAAAAAAAAAAAAAAAAAAAAAAAAAAAAAAAAAAAAAAAAAAAAAAAAAAAAAAAAAAAzczMzMwMPkCSJEmSJEk8QC0tLS0tLTtA6Hme53meMkAAAAAAAIA5QNu2bdu2bStAWlpaWlpaMECrqqqqquo2QAAAAAAA0DBAVVVVVVUVNkAAAAAAAAAzQFVVVVVVVTRAAAAAAABgLkBmZmZmZmY3QAAAAAAAIC1AAAAAAADgLECrqqqqqqopQPHw8PDw8CpAWlpaWlpaKkDP8zzP8zwlQDEMwzAMwyRAuuiiiy66M0AzMzMzMzMlQG7btm3bti1AMzMzMzMzI0B4eHh4eHgmQEmSJEmSJCpAmpmZmZkZIkDbtm3btm0pQFpaWlpaWiRARhdddNFFL0BaWlpaWloiQJIkSZIkSSZAjC666KKLKkAzMzMzMzMtQAAAAAAAACJAzczMzMzMLECamZmZmZkcQJIkSZIkSTRAVVVVVVXVJUAAAAAAAAA6QAAAAAAAgD9At23btm3bMUDNzMzMzMwoQNu2bdu2bTFAVVVVVVXVM0Bu27Zt27YgQAAAAAAAwCxAzczMzMzMNUCamZmZmZk1QCVJkiRJkh5AMzMzMzMzNUAAAAAAAAAUQPQ8z/M8zxNAAAAAAAAAJEAAAAAAAIAwQNFFF1100SFAq6qqqqqqL0DKayivobwSQKuqqqqqqh1AZmZmZmZmEUAAAAAAAMAVQAAAAAAAADFASZIkSZIkJ0AAAAAAAEA0QJqZmZmZmR9AZmZmZmZmHkBu27Zt27YlQAAAAAAAAB5AAAAAAACAMkCrqqqqqqooQFVVVVVVVShAq6qqqqqqJ0BmZmZmZmYsQJIkSZIkSSRAAAAAAAAADEAAAAAAAIAxQAAAAAAAACdAAAAAAAAAF0AXXXTRRRcZQDMzMzMzMxtAAAAAAAAAJkBmZmZmZmYaQCVJkiRJkiJA6aKLLrroFkDNzMzMzMwQQAAAAAAAACVAq6qqqqqqJECamZmZmZknQCVJkiRJkiBA09LS0tLSCkAAAAAAAIAsQGZmZmZmZiZAAAAAAAAAIEAAAAAAAAASQAAAAAAAACJAq6qqqqqqIUDx8PDw8PAIQFVVVVVVVSFAAAAAAACAKUBmZmZmZmYkQC+66KKLLhJAAAAAAACAKEAAAAAAAIAoQAAAAAAAgChAAAAAAAAAJ0AAAAAAAIAmQAAAAAAAgCVAAAAAAACAJUBGF1100UUPQAAAAAAAACVAzczMzMzMEEDbtm3btm0HQAAAAAAAgCRA2Ymd2ImdCECrqqqqqqoaQAAAAAAAACRAq6qqqqqqGkAzMzMzMzMfQAAAAAAAABpAAAAAAACAI0AzMzMzMzMfQDMzMzMzMw9A6aKLLrroCkCamZmZmZkNQAAAAAAAgCFAAAAAAAAAIUAAAAAAAAAWQGZmZmZmZgpAAAAAAAAAGEAAAAAAAAAeQAAAAAAAAB1AAAAAAAAAHEDNzMzMzMwEQM3MzMzMzBRAAAAAAAAAGEDbtm3btm0LQAAAAAAAAAdAAAAAAAAAFUAAAAAAAAAUQFVVVVVVVRlAAAAAAAAAI0BVVVVVVVUZQAAAAAAAABJAAAAAAAAADkAAAAAAAAAAQAAAAAAAAABAVVVVVVVV9T8AAAAAAAAGQAAAAAAAAAZAVVVVVVVVDUAAAAAAAAAUQAAAAAAAACRAF1100UUX7T8AAAAAAAAEQAAAAAAAAPQ/AAAAAAAAAkAAAAAAAAAIQAAAAAAAAPA/VVVVVVVVBUBVVVVVVVX1PwAAAAAAAABAAAAAAAAA/D8AAAAAAAD8P2ZmZmZmZvY/AAAAAAAACEAAAAAAAAAYQAAAAAAAAAhA27Zt27Zt6z+rqqqqqqr6P6uqqqqqqvo/q6qqqqqq+j8AAAAAAAAUQAAAAAAAAPQ/RhdddNFF1z9VVVVVVVX1PwAAAAAAAABAmpmZmZmZ6T8AAAAAAADwP1VVVVVVVfU/AAAAAAAA8D8zMzMzMzPjPwAAAAAAANg/AAAAAAAACEAAAAAAAADgP5qZmZmZmdk/AAAAAAAAAEAAAAAAAAAAQFVVVVVVVdU/VVVVVVVVxT8AAAAAAAAAAAAAAAAAAAAAAAAAAAAAAAAAAAAAAAAAAAAAAAAAAAAAAAAAAAAAAAAAAAAAAAAAAAAAAAAAQDhAkiRJkiRJOkDP8zzP8zw5QDmO4ziOYzxAAAAAAAAAOkDHcRzHcRw5QGZmZmZm5jRAmpmZmZkZM0BOb3rTm94uQNu2bdu2bTVAzczMzMxMLUB00UUXXXQ6QMMwDMMwDCdAAAAAAACAMEB00UUXXXQ0QAAAAAAAgDZAZmZmZmbmNUAAAAAAAAAiQAAAAAAAAChAAAAAAADAIUBVVVVVVVUgQJIkSZIkSTtAJUmSJEmSKkCO4ziO4zgkQDMzMzMzsyFAAAAAAAAAIUA5juM4juMiQJIkSZIkSShAMzMzMzOzMEAAAAAAAIArQEYXXXTRRS1Abtu2bdu2NkCamZmZmZkeQHIcx3EcxyBAq6qqqqoqOEAAAAAAAAAtQKuqqqqqqhpAzczMzMzMKkBVVVVVVVUWQJqZmZmZmTpApze96U1vFkAzMzMzMzMZQJqZmZmZmRhAAAAAAAAAJkAAAAAAAAAoQM3MzMzMzCdAZmZmZmZmJ0DT0tLS0tIaQG7btm3bthVAF1100UUXI0BVVVVVVVUxQM3MzMzMzCRAmpmZmZmZJEBmZmZmZmY0QF100UUXXRJAjuM4juM4FkAAAAAAAMA3QEmSJEmSJCtAJUmSJEmSKkBDFrKQhSwQQCVJkiRJkhpAFDuxEzuxG0C3bdu2bdsoQDMzMzMzMyFAAAAAAAAAK0BJkiRJkiQnQFVVVVVVVSpAMzMzMzMzD0AAAAAAAAAcQKOLLrroohtAAAAAAAAALkAAAAAAAAAoQCVJkiRJkiRAAAAAAADAMUBVVVVVVVUnQKuqqqqqqgpAjuM4juM4DkAAAAAAAMAwQM3MzMzMzBpAZmZmZmZmKkAAAAAAAIAQQGZmZmZmZhpAAAAAAAAAGkAAAAAAAAAqQKuqqqqqqiRAL7rooosuFkBVVVVVVVUkQAAAAAAAgC5AAAAAAAAALkBJkiRJkiQhQLdt27Zt2yBAmpmZmZmZF0CamZmZmZkXQDMzMzMzMxdAAAAAAAAALUCSJEmSJEkgQAAAAAAAACNAzczMzMzMJkAAAAAAAIAsQFVVVVVVVSJAt23btm3bHkAAAAAAAAAqQM3MzMzMzCRAAAAAAAAAKkAAAAAAAAAhQCVJkiRJkhxAOY7jOI7jFEDNzMzMzMwiQAAAAAAAgCZAmpmZmZmZIUBJkiRJkiQZQAAAAAAAgCVAq6qqqqqqCkAAAAAAAAAEQDMzMzMzMx9AZmZmZmZmDkBJkiRJkiQFQAAAAAAAgCJAJUmSJEmSFEAAAAAAAAAcQGZmZmZmZhpAZmZmZmZmGkAAAAAAAAAgQKuqqqqqqhRAq6qqqqqqCkAAAAAAAAAIQAAAAAAAAB5AMzMzMzMzF0BddNFFF10EQAAAAAAAABtAAAAAAAAAG0AAAAAAAAAZQNu2bdu2bQtA27Zt27ZtC0AAAAAAAAAYQFVVVVVVVQVAMzMzMzMzE0CSJEmSJEn6P6uqqqqqqg5AZmZmZmZmAkCamZmZmZkRQJqZmZmZmRFAzczMzMzMEECrqqqqqqoCQNPS0tLS0vI/2Ymd2Imd+D9yHMdxHMcBQAAAAAAAABNAAAAAAAAAE0AAAAAAAAAyQM3MzMzMzPw/zczMzMzMDEAAAAAAAAAYQCIiIiIiIvI/mpmZmZmZCUAAAAAAAAAQQJIkSZIkSQJAVVVVVVVVBUAAAAAAAAAOQAAAAAAAABRAYid2Yid28j8AAAAAAAAMQDmO4ziO4/g/AAAAAAAAGEAAAAAAAAAYQFVVVVVVVQ1AVVVVVVVVDUAAAAAAAAAEQM3MzMzMzPw/AAAAAAAAAkAAAAAAAAASQAAAAAAAAAJAAAAAAAAAAkDNzMzMzMz8PwAAAAAAAPA/mpmZmZmZ6T+amZmZmZn5P5qZmZmZmek/VVVVVVVV9T9VVVVVVVX1P1VVVVVVVfU/AAAAAAAA/D8AAAAAAAAIQAAAAAAAAOA/AAAAAAAA+D8AAAAAAADwPzMzMzMzM/M/MzMzMzMz8z8AAAAAAADkP6uqqqqqquo/AAAAAAAABEAAAAAAAADwP1VVVVVVVfU/AAAAAAAAAEAAAAAAAAAAQAAAAAAAAPA/AAAAAAAA+D8AAAAAAAD4P1VVVVVVVeU/AAAAAAAA4D+amZmZmZnZPwAAAAAAAOA/AAAAAAAAAAAAAAAAAAAAAAAAAAAAAAAAAAAAAAAAAAAAAAAAAAAAAAAAAAAAAAAAAAAAAAAAAAAAAAAAAAAAAKuqqqqqakBADw8PDw8PPEA5juM4juM5QImIiIiIiDxAdmIndmInO0BEREREREQ3QKuqqqqqqjtAip3YiZ3YOEB00UUXXXQ8QFVVVVVV1TBAjuM4juO4MEDHcRzHcRwuQBdddNFFFzhAAAAAAACAMEAAAAAAAAAuQI7jOI7jOCtAZmZmZmZmNkAeHh4eHh4qQDMzMzMzs0JAkiRJkiRJOUBVVVVVVVUiQAAAAAAAoCRAERERERERJUDsxE7sxE4oQHZiJ3ZiJyhAjuM4juM4IUBVVVVVVdU4QKuqqqqqqjhAq6qqqqqqOEAcx3Ecx3EgQFVVVVVVVThAx3Ecx3EcIECamZmZmZksQNFFF1100SlA0UUXXXTRKUAXXXTRRRcpQKuqqqqqqjZAAAAAAADAL0AAAAAAAIAvQAAAAAAAQC9AAAAAAAAAH0AAAAAAAMAeQC+66KKLLiZAdNFFF110JUAXXXTRRRclQFVVVVVVVTNAAAAAAADAHEAUO7ETO7EhQGZmZmZmZiZAAAAAAAAAPEAAAAAAAMA7QAAAAAAAQBtAt23btm3bLkAAAAAAAIAaQFVVVVVVVRdAdmIndmInIEBVVVVVVVUnQMdxHMdxHCdAuuiiiy66IkDRRRdddNEhQIqd2Imd2B1Al5aWlpaWFkAAAAAAAMAXQAAAAAAAgDZAAAAAAAAALkAAAAAAAAAkQFVVVVVVVR1ASZIkSZIkKUAAAAAAAAAtQAAAAAAAABRAL7rooosuHkAiIiIiIiIWQJqZmZmZmR9AVVVVVVVVKkBVVVVVVVUqQFVVVVVVVRFAq6qqqqqqKUCJiIiIiIgUQOLh4eHh4RFAVVVVVVVVKUBpaWlpaWkRQLdt27Zt2xRA0UUXXXTRGUBVVVVVVVUXQAAAAAAAADFAVVVVVVVVJkCSJEmSJEkiQAAAAAAAADBA6aKLLrroFkDpoosuuugWQFVVVVVVVTRAREREREREEEBEREREREQQQAAAAAAAACRAq6qqqqqqI0AzMzMzMzMnQNu2bdu2bQ9AVVVVVVVVIkAAAAAAAAAiQAAAAAAAABhAmpmZmZmZJUCSJEmSJEkeQFVVVVVVVSFAJ3ZiJ3ZiD0CrqqqqqqogQAAAAAAAABRAmpmZmZmZI0AAAAAAAAAoQAAAAAAAACBAAAAAAAAAKEBmZmZmZmYiQJIkSZIkSRpAq6qqqqqqHkAAAAAAAAAOQFVVVVVVVR1AVVVVVVVVHUCrqqqqqqoMQAAAAAAAgCVAzczMzMzMEEAAAAAAAIAkQKuqqqqqqhpAAAAAAAAAIEAAAAAAAAAaQJIkSZIkSRZAT+zETuzEBkAlSZIkSZIEQHZiJ3ZiJwZAVVVVVVVVJ0BVVVVVVVUXQDMzMzMzMwtAkiRJkiRJEkBGF1100UUHQAAAAAAAAB1AAAAAAAAAHUAAAAAAAAAdQAAAAAAAABtAVVVVVVVVEUAAAAAAAAAUQI7jOI7jOAZAAAAAAAAAFEAzMzMzMzMTQAAAAAAAACBAMzMzMzMzE0AAAAAAAAAQQJ7YiZ3Yif0/AAAAAAAAJ0Acx3Ecx3EEQKuqqqqqqg5AAAAAAAAAFkAAAAAAAAAWQAAAAAAAAAVAAAAAAAAACECrqqqqqqoKQFVVVVVVVQlAAAAAAAAAEkAAAAAAAAARQKuqqqqqqgZAmpmZmZmZ+T+amZmZmZkJQAAAAAAAABRAAAAAAAAA+D8AAAAAAAAEQAAAAAAAAABAZmZmZmZmBkCrqqqqqqoSQGZmZmZmZgZAAAAAAAAAAEAAAAAAAAAQQAAAAAAAAABAq6qqqqqq+j8AAAAAAADoPwAAAAAAAAJAAAAAAAAA+D+amZmZmZnpPwAAAAAAAPw/q6qqqqqqAkCrqqqqqqoCQAAAAAAAAAxAAAAAAAAACEAAAAAAAAAAQAAAAAAAAABAAAAAAAAAFEAAAAAAAAD0P6uqqqqqqvo/AAAAAAAA8D8AAAAAAAD0PwAAAAAAAARAq6qqqqqq+j8AAAAAAAAAQAAAAAAAAABAAAAAAAAAAEAAAAAAAAAAQAAAAAAAAPg/AAAAAAAACEAAAAAAAADwPwAAAAAAAPA/AAAAAAAA+D8AAAAAAADQP1VVVVVVVeU/AAAAAAAAAEBVVVVVVVXlP1VVVVVVVeU/AAAAAAAA0D+amZmZmZnJP1VVVVVVVdU/AAAAAAAAAAAAAAAAAAAAAAAAAAAAAAAAAAAAAAAAAAAAAAAAAAAAAAAAAAAAAAAAAAAAAAAAQUA9z/M8z/M8QJeWlpaWljxA6Hme53meM0CJiIiIiIg5QJTXUF5DeTJAAAAAAAAAMkAiIiIiIiI1QPQ8z/M8zy1AlNdQXkN5MECU11BeQ3kvQMdxHMdxHD5AXXTRRRddOEDT0tLS0tIuQHkN5TWU1yhAMzMzMzOzNkBiGIZhGIYlQGlpaWlpaSlAq6qqqqqqN0BddNFFF10hQDMzMzMzMzJAjC666KKLIEBu27Zt27Y5QFVVVVVVVT1AvYbyGsprIkBmZmZmZmYxQG7btm3btjhAMzMzMzMzMUAAAAAAAGA1QOmiiy666B5AzczMzMxMMEAXXXTRRRctQG7btm3btjZAAAAAAAAAOkDEw8PDw8MhQIiHh4eHhyFAq6qqqqqqOECamZmZmZkjQDMzMzMzMy1AXXTRRRddKkCrqqqqqqoaQKuqqqqqKjdAAAAAAAAALkDNzMzMzMwpQERERERERCBAmpmZmZmZN0B5DeU1lNcYQAAAAAAAABhAAAAAAAAAJEAtLS0tLS0ZQIwuuuiiiyJAq6qqqqqqJkAAAAAAAEA5QDMzMzMzMyNAMzMzMzMzE0BJkiRJkiQrQJqZmZmZmSJAmpmZmZmZMkCrqqqqqqokQGlpaWlpaRVAKK+hvIbyEkC3bdu2bdsoQLdt27Zt2yhAt23btm3bKEBmZmZmZmYhQDMzMzMzMyFAGIZhGIZhEECKndiJndgZQAAAAAAAACxAmpmZmZmZMECO4ziO4zgiQA8PDw8PDxNAMzMzMzMzIECamZmZmZkvQCVJkiRJkiZAmpmZmZmZL0CamZmZmZkfQCVJkiRJkiZAXXTRRRddHEBmZmZmZmYuQAAAAAAAgDJAt23btm3bJECrqqqqqqonQGZmZmZmZixAx3Ecx3EcH0AAAAAAAAAkQAAAAAAAQDFAzczMzMzMKkBmZmZmZmYaQAAAAAAAACpAq6qqqqqqJUCamZmZmZkpQAAAAAAAACVAzczMzMzMKEDbtm3btm0hQGZmZmZmZihAjuM4juM4CkCamZmZmZknQKuqqqqqqiNAq6qqqqqqIkAAAAAAAAAWQEYXXXTRRRNAVVVVVVVVIUDNzMzMzMwEQGZmZmZmZhRAAAAAAAAAJEByHMdxHMcVQJqZmZmZmSNAAAAAAACAJ0AAAAAAAAAiQMdxHMdxHBNAq6qqqqqqHEDNzMzMzMwgQFVVVVVVVRtAS0tLS0tLA0DRRRdddNENQAAAAAAAACBAMzMzMzMzH0AzMzMzMzMfQKuqqqqqqhhAt23btm3bEkBVVVVVVVUNQAAAAAAAABZAZmZmZmZmGkAeHh4eHh7+P4wuuuiiiwZAq6qqqqqqFEDNzMzMzMwYQAAAAAAAABRAAAAAAAAAGEAzMzMzMzMXQKuqqqqqqiJAAAAAAAAAHECamZmZmZkVQAAAAAAAAApAzczMzMzMFECO4ziO4zgGQAAAAAAAABlAAAAAAAAAEECe2Imd2In9P2ZmZmZmZhJAzczMzMzMEEAAAAAAAAAFQAAAAAAAACNAZmZmZmZm/j8AAAAAAAAjQKOLLrroovs/btu2bdu2BUAlSZIkSZIEQDMzMzMzMwtAAAAAAAAAEUAzMzMzMzMLQDMzMzMzMwtA27Zt27ZtA0AAAAAAAAAgQAAAAAAAABBAAAAAAAAA8D8AAAAAAAD6P3TRRRdddPE/AAAAAAAA+D8AAAAAAAAAQAAAAAAAAABAAAAAAAAABkAAAAAAAAAWQEmSJEmSJPk/t23btm3b9j8AAAAAAAACQJIkSZIkSfI/AAAAAAAAEEBVVVVVVVX1P6uqqqqqqgJAq6qqqqqqAkCrqqqqqqryPwAAAAAAABhAAAAAAAAAAEC3bdu2bdvmP6uqqqqqqvo/AAAAAAAA8D9VVVVVVVXVP1VVVVVVVeU/AAAAAAAA8D8AAAAAAADwPwAAAAAAAAhAAAAAAAAA6D8AAAAAAADwPwAAAAAAAABAAAAAAAAA8D9VVVVVVVXVPwAAAAAAAPA/AAAAAAAAAEAAAAAAAADgP5IkSZIkSdI/VVVVVVVV5T9VVVVVVVXVP5qZmZmZmck/AAAAAAAAAAAAAAAAAAAAAAAAAAAAgD5AL7rooosuPEBVVVVVVfUyQG7btm3btjRAAAAAAADgOkAAAAAAALA4QAAAAAAAIEBAiYiIiIiIOUBVVVVVVRUuQEmSJEmSJDlAo4suuuiiP0CSJEmSJEk1QIwuuuiiiypA7+7u7u7uMECrqqqqqmozQFVVVVVV1SJAAAAAAADAIkAvuuiiiy40QOh5nud5niNAVVVVVVVVK0CSJEmSJEktQNu2bdu2bSxA0UUXXXTRMUAAAAAAAAAgQFVVVVVVVTVAAAAAAAAAMUAAAAAAAAAvQAAAAAAAwCZAERERERERJ0BmZmZmZmYmQFVVVVVV1StAq6qqqqqqG0BVVVVVVdUqQAAAAAAAwCNAAAAAAAAANkAhC1nIQhYaQBiGYRiGYRxAmpmZmZmZPEAAAAAAAAA0QBzHcRzHcS5AAAAAAADAIEAAAAAAAAAjQKuqqqqqqjVASZIkSZIkIkByHMdxHMcrQHIcx3EcxytAuuiiiy66JkBVVVVVVVUrQFVVVVVV1TNAAAAAAACAHUDNzMzMzMw2QEmSJEmSJCBAVVVVVVVVMkAAAAAAAEAbQHTRRRdddCNAZmZmZmZmNUCSJEmSJEkuQAAAAAAAADVAMzMzMzMzG0BmZmZmZmYzQM3MzMzMzBhAkiRJkiRJGkAAAAAAAAAqQAAAAAAAgBZAL7rooosuEEDHcRzHcRwjQOmiiy666B5AL7rooosuHkBVVVVVVVUrQJIkSZIkSSZAzczMzMzMLkBmZmZmZmYuQNu2bdu2bSVA27Zt27ZtFUCamZmZmZkdQDMzMzMzMy1AAAAAAAAAMkC1tLS0tLQQQAAAAAAAwDFAmpmZmZmZK0AAAAAAAAAIQAAAAAAAACZAZmZmZmZmKkBGF1100UUXQJqZmZmZmSlAkiRJkiRJEkDNzMzMzMwoQAAAAAAAgB5AAAAAAACALkAAAAAAAAAuQJqZmZmZmSdAq6qqqqqqI0CamZmZmZknQDMzMzMzMydAchzHcRzHGUAAAAAAAIAsQM3MzMzMzCZAZmZmZmZmFkBmZmZmZmYmQGZmZmZmZiZAAAAAAAAAJkAAAAAAAIAqQDMzMzMzMyVAUV5DeQ3lBUBJkiRJkiQdQAAAAAAAgDhAAAAAAAAAKECrqqqqqqoeQF100UUXXRBAmpmZmZmZIUAAAAAAAIAFQAAAAAAAACVA3t3d3d3dBUDbtm3btm0XQAAAAAAAABBAXXTRRRddDEAAAAAAAIAjQEmSJEmSJBVA27Zt27ZtE0AAAAAAAAAhQAAAAAAAAAFAZmZmZmZmGkBmZmZmZmYaQGZmZmZmZhpAmpmZmZmZGUAAAAAAAAAfQAAAAAAAAB9AAAAAAAAAHkAAAAAAAAANQAAAAAAAABxAt23btm3bDkDNzMzMzMwUQCVJkiRJkgxAAAAAAAAAGUAAAAAAAAAUQAAAAAAAABhAAAAAAAAAEEAzMzMzMzMTQAAAAAAAACBAVVVVVVVVBUAzMzMzMzMTQJqZmZmZmRFASZIkSZIk+T8AAAAAAAAWQIwuuuiii/4/AAAAAAAAFEA5juM4juMAQAAAAAAAAANAAAAAAAAAE0BmZmZmZmYOQM3MzMzMzAxAmpmZmZmZCUBVVVVVVVUVQJqZmZmZmfk/AAAAAAAADkCrqqqqqqoCQKuqqqqqqhJAAAAAAAAACkDNzMzMzMwEQFVVVVVVVRFAVVVVVVVVAUDbtm3btm37PwAAAAAAAAhAmpmZmZmZAUAAAAAAAAAEQKuqqqqqqgpAAAAAAAAABEAAAAAAAAASQAAAAAAAAPI/AAAAAAAACEAAAAAAAAAAQAAAAAAAAABAmpmZmZmZ6T8AAAAAAAAMQGZmZmZmZvY/MzMzMzMz8z8AAAAAAAAAQAAAAAAAAPA/q6qqqqqq+j+3bdu2bdvmP6uqqqqqquo/q6qqqqqq+j+rqqqqqqr6PxdddNFFF90/AAAAAAAA9D8AAAAAAAD0P3Icx3Ecx+E/AAAAAAAABECamZmZmZnpPwAAAAAAAABAVVVVVVVV9T8AAAAAAAAAQAAAAAAAAOg/MzMzMzMz4z9VVVVVVVXlPwAAAAAAANA/AAAAAAAAAEBVVVVVVVXlP1VVVVVVVeU/AAAAAAAAAEAAAAAAAAAAAAAAAAAAAAAAAAAAAAAAAAAAAAAAAAAAAAAAAAAAAAAAAAAAAAAAAABu27Zt27Y7QOh5nud5njtAbCivobyGOkDP8zzP8zw2QL2G8hrKazhAtbS0tLS0OUDEw8PDw8M1QLETO7ETOzxAVVVVVVWVPUCivIbyGsoxQHqe53me5y9ApqWlpaWlM0APDw8PDw8zQLETO7ETOzRASZIkSZIkQkAAAAAAAAAoQPHw8PDw8CxAVVVVVVVVJ0Crqqqqqqo6QNu2bdu2bSVANpTXUF5DJ0Cjiy666KIzQMprKK+hvCZAep7neZ7nI0BVVVVVVVUxQM3MzMzMTDRAuuiiiy66MUAAAAAAAAAxQAAAAAAAAD9Ar6G8hvIaIkD0PM/zPM8fQJ7YiZ3YiSlAo4suuuiiLUCamZmZmZkvQJ7YiZ3YiSdA4uHh4eHhIUAAAAAAAAAgQJIkSZIkSTVAuuiiiy66KkAAAAAAAOAhQAAAAAAA4DFAAAAAAAAAPECrqqqqqionQIZhGIZhGBpAxU7sxE7sJEBVVVVVVVUmQJeWlpaWlh5A6Hme53meF0CSJEmSJEkxQAAAAAAAAD5AdmIndmInIkC3bdu2bdswQG7btm3btjBAMzMzMzMzN0DpoosuuugkQJIkSZIkSTBAVVVVVVXVMUAAAAAAAAAuQFVVVVVVVSdAx3Ecx3EcF0Bu27Zt27YdQDmO4ziO4yZAzczMzMzMM0AAAAAAAEA4QAAAAAAAACNAq6qqqqqqH0CJiIiIiIgYQAAAAAAAgDVAr6G8hvIaEkDEw8PDw8MTQGZmZmZmZjBAAAAAAABANEAAAAAAAAA0QIZhGIZhGA5A7MRO7MROGECrqqqqqqopQGZmZmZmZi5AAAAAAAAAKUCrqqqqqqooQM3MzMzMzBxAZmZmZmZmLECrqqqqqqo3QJIkSZIkSSRAAAAAAADAMUDFTuzETuwUQAAAAAAAwDBAZmZmZmZmKkBmZmZmZmYaQAAAAAAAABhAmpmZmZmZKUCSJEmSJEkiQAAAAAAAADBAAAAAAACAL0AAAAAAAIAvQM3MzMzMzBhAVVVVVVVVJEAAAAAAAAAoQKuqqqqqqhNAJUmSJEmSIEAAAAAAAAAtQAAAAAAAABNAAAAAAAAAFkAAAAAAAIArQJqZmZmZmSVAL7rooosuEkAAAAAAAAAZQAAAAAAAAChAMzMzMzMzI0Ce2Imd2IkNQB4eHh4eHgZAkiRJkiRJGkDlNZTXUF4DQAAAAAAAABBAq6qqqqqqHEAAAAAAAAAlQFVVVVVVVRtA27Zt27ZtB0AAAAAAAIAkQKuqqqqqqhpAAAAAAAAAEECSJEmSJEkWQFVVVVVVVQlAmpmZmZmZHUAAAAAAAAAcQDMzMzMzMxtAAAAAAACAMEAAAAAAAAAfQM3MzMzMzAhAAAAAAAAAHUAAAAAAAAAcQAAAAAAAABtAMzMzMzMzE0AAAAAAAAAXQGZmZmZmZhJAd3d3d3d39z8AAAAAAAAWQAAAAAAAAAhAip3YiZ3Y+T8AAAAAAAAVQM3MzMzMzBBAAAAAAAAAAEAAAAAAAAAUQAAAAAAAABNAVVVVVVVVGUAAAAAAAAAQQFVVVVVVVQVAq6qqqqqqEkCrqqqqqqoSQKuqqqqqqhJAq6qqqqqqAkBmZmZmZmYGQAAAAAAAABxAVVVVVVVVEUBVVVVVVVURQFVVVVVVVQFAVVVVVVVVEUAAAAAAAAAQQNu2bdu2bfs/AAAAAAAAAEAAAAAAAAAEQLdt27Zt2/Y/t23btm3b9j8AAAAAAAAIQAAAAAAAABJAAAAAAAAA+D+SJEmSJEnyPwAAAAAAABBAmpmZmZmZ+T8AAAAAAAAMQKuqqqqqqgJAAAAAAAAA/D8AAAAAAAAMQKuqqqqqqgJAAAAAAAAAAEAAAAAAAAAAQAAAAAAAAPg/AAAAAAAAAEAAAAAAAAD4PwAAAAAAAARAVVVVVVVV9T8AAAAAAAAAQAAAAAAAAABAVVVVVVVV9T9VVVVVVVX1PxQ7sRM7sdM/AAAAAAAA6D8AAAAAAAAIQAAAAAAAAAhAMzMzMzMz4z8AAAAAAAAIQAAAAAAAAOg/AAAAAAAA+D9VVVVVVVXlPwAAAAAAAPA/AAAAAAAA8D8AAAAAAADwPwAAAAAAAOA/AAAAAAAAAAAAAAAAAAAAAAAAAAAAAAAADMMwDMMwPkDRRRdddFE7QFnIQhaykDdAUV5DeQ3lOkAAAAAAANA8QAAAAAAAIEFAhixkIQtZMUAzMzMzMzMzQIwuuuiiiy9AoryG8hrKMUBddNFFF10+QGZmZmZmJkBAF1100UUXPEDf9KY3vekpQM3MzMzMzD1AAAAAAADANUDHcRzHcRwsQHIcx3EcxytAt23btm3bQUAvuuiiiy4mQIwuuuiiiyVAvYbyGsprKECrqqqqqqopQFVVVVVV1TJAq6qqqqoqQUCjiy666KIiQKuqqqqqqjZAF1100UUXMkDHcRzHcRwmQIwuuuiiizFAjuM4juM4NEDHcRzHcRwkQJqZmZmZmSFAZmZmZmZmMUAYhmEYhmEgQHTRRRdddC1AOL3pTW96G0CamZmZmZk+QK+hvIbyGiBAMzMzMzMzPkAAAAAAAAA+QA3lNZTXUB5AVVVVVVXVJ0BVVVVVVVU3QDmO4ziO4x5AZmZmZmZmK0BVVVVVVVUmQDMzMzMzMxpAzczMzMzMOUCrqqqqqqo0QIwuuuiiiyZAAAAAAAAAMUBddNFFF10kQDMzMzMzMyZAAAAAAAAAIkAtLS0tLS0ZQAAAAAAAADFAkYUsZCELEUBmZmZmZmYzQKuqqqqqqh9AAAAAAAAAM0CamZmZmZkiQGZmZmZmZiJAkiRJkiRJKkCrqqqqqqouQAAAAAAAADJAzczMzMzMMUBmZmZmZmYxQKOLLrroog9Aq6qqqqqqLEAAAAAAAAAcQGZmZmZmZhZAiIeHh4eHE0BVVVVVVVUqQM3MzMzMzC5AVVVVVVVVGUAAAAAAAAAuQKuqqqqqqihAmpmZmZmZLUAlSZIkSZIkQM3MzMzMzCxAAAAAAAAALEAzMzMzMzMrQAAAAAAAADBAAAAAAAAAEkAAAAAAAAAVQAAAAAAAAC9AmpmZmZmZJ0AAAAAAAAAtQHIcx3EcxxlAAAAAAAAAHECrqqqqqqoSQKuqqqqqqhJAAAAAAAAAIECrqqqqqqoiQMVO7MRO7BBAmpmZmZmZJUCamZmZmZkVQJIkSZIkSR5AVVVVVVVVEUDNzMzMzMwkQAAAAAAAgClAq6qqqqqqEEBVVVVVVVUgQFVVVVVVVTBAVVVVVVVVBUAAAAAAAIAnQAAAAAAAACJAmpmZmZmZIUDNzMzMzMwgQKuqqqqqqhJAAAAAAACAJEAAAAAAAIAkQAAAAAAAABpAVVVVVVVVKUBVVVVVVVUZQAAAAAAAgCJA6aKLLrroCkBJkiRJkiQVQJqZmZmZmR1AAAAAAACAIkAAAAAAAAAiQFVVVVVVVRdAdNFFF110CUAzMzMzMzMbQAAAAAAAACFA27Zt27ZtE0BVVVVVVVUNQAAAAAAAABZAmpmZmZmZGUAAAAAAAAAAQJqZmZmZmRlAmpmZmZmZGUDNzMzMzMwYQM3MzMzMzBhAAAAAAAAABEAzMzMzMzMXQGZmZmZmZhZAzczMzMzMFEAAAAAAAAAaQAAAAAAAABlAAAAAAAAAFEAAAAAAAAAXQGZmZmZmZhJAmpmZmZmZAUAAAAAAAAAQQG7btm3btgVAVVVVVVVVGUAAAAAAAAATQAAAAAAAACJA27Zt27ZtA0AzMzMzMzMLQDMzMzMzMwtA27Zt27Zt8z8AAAAAAAABQJqZmZmZmQlAmpmZmZmZCUAAAAAAAAAOQAAAAAAAAAhAAAAAAAAACEAAAAAAAAAEQF100UUXXfQ/MzMzMzMzA0CamZmZmZkBQAAAAAAAAABAAAAAAAAAAEAAAAAAAAAUQAAAAAAAAAJAAAAAAAAA8D92Yid2YifmP5qZmZmZmfk/VVVVVVVVBUAAAAAAAAAAQJIkSZIkSfI/kiRJkiRJ8j9mZmZmZmbmPwAAAAAAAPA/q6qqqqqqAkAAAAAAAAD4PwAAAAAAAPA/AAAAAAAACEDbtm3btm3rPzMzMzMzM/M/MzMzMzMz8z8zMzMzMzPzPwAAAAAAAABAAAAAAAAA9D8AAAAAAAAEQKuqqqqqquo/AAAAAAAA5D+rqqqqqqr6P6uqqqqqquo/q6qqqqqq+j8AAAAAAADkP3Icx3Ecx+E/mpmZmZmZ6T8AAAAAAAAAQFVVVVVVVfU/VVVVVVVV5T9VVVVVVVX1P1VVVVVVVfU/AAAAAAAA8D8cx3Ecx3HcPwAAAAAAAPg/AAAAAAAA8D8AAAAAAAAAQAAAAAAAAOA/AAAAAAAA8D9VVVVVVVXlPwAAAAAAAOA/AAAAAAAA4D8AAAAAAADgPwAAAAAAAAAAAAAAAAAAAAAAAAAAAAAAAAAAAAAAAAAAAAAAAAAAAAAAAAAAAAAAAAAAAAAAAAAAAAAAAAAAAAAAAAAAAAAAAAAAAAAAAAAAAAAAAAAAAAAAAAAAAAAAAAAAAAAAAAAAAAAAAACgOUBddNFFF107QFVVVVVVFTdAq6qqqqqqP0BpaWlpaWk7QIwuuuiiCzNA5DiO4ziONUCrqqqqqqo/QHTRRRdd9DBAAAAAAACAMEC3bdu2bdsuQCELWchCFihA5DiO4ziOLUBVVVVVVVUsQAAAAAAAwDRAx3Ecx3EcO0CamZmZmZk3QMVO7MRO7DFAzczMzMxMN0BVVVVVVRUzQJ7YiZ3YiTFAAAAAAADAMkBVVVVVVZUyQBzHcRzHcSdAAAAAAABAIUCrqqqqquowQJGFLGQhCyFAchzHcRzHJUDHcRzHcRwlQDMzMzMzMylAVVVVVVXVLkAAAAAAAAAgQNmJndiJnSpAAAAAAAAAO0BGF1100UUtQDMzMzMzMyVAHMdxHMdxIUAAAAAAAAA/QAAAAAAAgDlAq6qqqqoqOUCrqqqqqqooQAAAAAAAACBA5DiO4ziOH0Ce2Imd2IklQFVVVVVV1TZAq6qqqqoqNkBVVVVVVdU1QNPS0tLS0h5Aq6qqqqoqJUCrqqqqqiolQBdddNFFFxdAT+zETuzEIkAAAAAAAAAjQAAAAAAAABNAVVVVVVVVIkAAAAAAAAAyQDMzMzMzMzVAAAAAAACAMUAAAAAAAEA6QM3MzMzMzDRAVVVVVVVVMUCrqqqqqiohQJTXUF5DeRVAq6qqqqqqIEBmZmZmZmYzQKuqqqqqqi5AAAAAAAAALUAAAAAAAEA1QAAAAAAAwBRAAAAAAAAAG0AAAAAAAAAaQDMzMzMzMx9AzczMzMzMLkAAAAAAAEAzQOLh4eHh4RFAq6qqqqqqGECO4ziO4zgQQGIndmIndhZAAAAAAAAAKEAAAAAAAAAYQAAAAAAAAChAAAAAAAAALECamZmZmZkrQAAAAAAAQBFAmpmZmZmZK0CamZmZmZkbQFVVVVVVVSZAAAAAAAAAJkBVVVVVVVUlQFVVVVVVVSRAAAAAAAAAFECamZmZmZknQHIcx3EcxwlAVVVVVVVVE0AAAAAAAAAtQAAAAAAAgCxAAAAAAAAALEBmZmZmZmYWQKuqqqqqqiJAAAAAAACAK0BVVVVVVVUiQFVVVVVVVSJA2Ymd2ImdEEAzMzMzMzMlQJIkSZIkSQ5AVVVVVVVVEUBmZmZmZmYkQAAAAAAAACFAAAAAAACAKUAAAAAAAAAgQM3MzMzMzCJAZmZmZmZmIkBmZmZmZmYiQFVVVVVVVQ1A7+7u7u7uBkDNzMzMzMwgQAAAAAAAACVAAAAAAAAAJUBmZmZmZmYgQLETO7ETOwlAchzHcRzHEUCrqqqqqqoYQFVVVVVVVRdAAAAAAAAAFkAAAAAAAAAAQJqZmZmZmQlAzczMzMzMGECrqqqqqqoUQAAAAAAAABhAAAAAAAAALUA5juM4juMIQAAAAAAAAAhAVVVVVVVVEUDNzMzMzMwUQAAAAAAAABlAjuM4juM4BkCO4ziO4zgGQAAAAAAAABlAAAAAAAAAEEAzMzMzMzMTQNu2bdu2bQtAq6qqqqqq/j+66KKLLroAQAAAAAAAAPc/AAAAAAAAJkAAAAAAAAAMQM3MzMzMzBBAAAAAAAAAEEAAAAAAAAAQQAAAAAAAABBAq6qqqqqqCkByHMdxHMcBQGZmZmZmZg5AZmZmZmZmDkAAAAAAAAAIQAAAAAAAAAhAAAAAAAAADkCrqqqqqqoCQAAAAAAAAPw/btu2bdu2/T8AAAAAAADwP5qZmZmZmek/AAAAAAAAEEBJkiRJkiT5P1VVVVVVVf0/SZIkSZIk6T/kOI7jOI7zP6uqqqqqqgpAAAAAAAAAFEAAAAAAAADyPwAAAAAAAPI/AAAAAAAA+D8AAAAAAAAQQAAAAAAAAABAHMdxHMdx7D8AAAAAAAD8P6uqqqqqqgJAZmZmZmZm9j85juM4juPoPzMzMzMzM/M/AAAAAAAAGEAAAAAAAADwP7dt27Zt2+Y/t23btm3b5j8AAAAAAAAUQLdt27Zt2+Y/AAAAAAAA5D8AAAAAAAD0PwAAAAAAAARAVVVVVVVV9T8AAAAAAAAAQAAAAAAAAABAAAAAAAAAAEAAAAAAAADgP5qZmZmZmek/AAAAAAAA8D8AAAAAAAD4PwAAAAAAAPg/VVVVVVVV5T8AAAAAAADQPwAAAAAAAPA/HMdxHMdxvD9VVVVVVVXVPwAAAAAAAAAAAAAAAAAAAAAAAAAAAAAAAAAAAAAAAAAAAAAAAAAAAAAAAAAAAAAAAAAAAAAAAAAAAAAAAAAAPkDpoosuuug6QGZmZmZmJjtAmpmZmZkZOkBmZmZmZqY2QN/0pje96TFAYid2Yid2PkAAAAAAAIA4QF100UUX3UBAAAAAAACQNkAAAAAAAAA9QNFFF1100TtAzczMzMzMLUD1pje96U0pQF100UUXXSlAAAAAAADgMEAzMzMzM7MqQDMzMzMzsypAAAAAAACAKkCe2Imd2IkyQAAAAAAAAChAoryG8hrKJ0CMLrrooos0QEYXXXTRRTRAFDuxEzuxMEALWchCFrIiQAAAAAAAoCpAq6qqqqqqN0AzMzMzMzMlQKc3velNbyJARhdddNFFM0AAAAAAAAAiQAAAAAAAYChA27Zt27ZtO0Crqqqqqio9QIwuuuiiiy5AmpmZmZmZMECamZmZmZk/QJqZmZmZmR5AAAAAAACAN0BmZmZmZmYbQM3MzMzMzCpA2Ymd2ImdJECamZmZmZkaQAAAAAAAADNAmpmZmZmZOEDNzMzMzMw3QAAAAAAAgB1AmpmZmZmZN0AzMzMzMzM3QAAAAAAAADdA27Zt27ZtMEC66KKLLrokQFVVVVVV1SJAzczMzMzMNUAAAAAAAAAyQJqZmZmZmTRAq6qqqqqqMEAAAAAAAAAzQAAAAAAAgDdAMzMzMzMzMkDNzMzMzMwxQLdt27Zt2yhAo4suuuiiH0CKndiJndgZQFVVVVVVVRtAZmZmZmZmEECrqqqqqqoqQNmJndiJnRhAAAAAAAAAHEBEREREREQUQAAAAAAAAC5A27Zt27ZtJUAAAAAAAAAuQAAAAAAAgDJAAAAAAAAAIkCKndiJndgVQNFFF1100RlA0UUXXXTRGUBVVVVVVVU3QFVVVVVVVRdAZmZmZmZmEkAAAAAAAEBBQKuqqqqqqiZA27Zt27ZtI0AAAAAAAIAwQJIkSZIkSSJAAAAAAAAAJUDzGsprKK8JQKuqqqqqqgpAAAAAAAAAKEAzMzMzMzMnQJIkSZIkSSBAo4suuuiiE0AzMzMzMzMlQFVVVVVVVSFAZmZmZmZmJECMLrrooosSQKuqqqqqqiBAJUmSJEmSHECamZmZmZkjQDMzMzMzMyNAdNFFF110EUAzMzMzMzMTQAAAAAAAAChAzczMzMzMIkBiGIZhGIYBQGZmZmZmZiJAHMdxHMdxFECSJEmSJEkaQAAAAAAAAB5AMzMzMzMzIUAlSZIkSZIYQAAAAAAAACVAzczMzMzMIEBmZmZmZmYQQGZmZmZmZiBAAAAAAAAAGkAzMzMzMzMfQM3MzMzMzBxAAAAAAAAAGEC66KKLLroIQDMzMzMzMxtAMzMzMzMzC0AAAAAAAAAhQAAAAAAAAAhAmpmZmZmZGUCamZmZmZkJQAAAAAAAABhAAAAAAAAAAEAAAAAAAAALQAAAAAAAABJAVVVVVVVVEUBVVVVVVVUhQAAAAAAAABlAq6qqqqqqIEAAAAAAAAAYQKuqqqqqqg5AkiRJkiRJCkAAAAAAAAAnQJqZmZmZmRFAVVVVVVVVDUBVVVVVVVX9P7dt27Zt2wZAAAAAAAAAFEBu27Zt27YFQAAAAAAAAANAAAAAAAAAAUAAAAAAAAABQJqZmZmZmQlAVVVVVVVVBUDHcRzHcRz3PwAAAAAAAChAAAAAAAAAGEBVVVVVVVX9PwAAAAAAAARAAAAAAAAA9D8AAAAAAADwPwAAAAAAAAJAAAAAAAAA+D9VVVVVVVUFQAAAAAAAABBAVVVVVVVV9T8AAAAAAAD8PwAAAAAAAPw/AAAAAAAA/D8AAAAAAAAIQAAAAAAAAAhAq6qqqqqq6j8AAAAAAAD0PwAAAAAAAPQ/AAAAAAAABEAAAAAAAAAEQAAAAAAAAPA/AAAAAAAA8D8AAAAAAAD0PwAAAAAAAABAmpmZmZmZ6T8AAAAAAADgPwAAAAAAAOg/AAAAAAAA4D8AAAAAAADYPwAAAAAAAOA/AAAAAAAACEBVVVVVVVXlPwAAAAAAAABAAAAAAAAA8D9VVVVVVVXlPwAAAAAAAOA/AAAAAAAA4D8AAAAAAADwP5IkSZIkSdI/AAAAAAAA4D8AAAAAAAAAAAAAAAAAAAAAAAAAAAAAAAAAAAAAAAAAAAAAAAAAAAAAAAAAAAAAAAAAAAAAAAAAAAAAAAAAAAAAAAAAAAAAAAAAAAAAAAAAAAAAAAAAAAAAAAAAAAAAAAAAAAAAAAAAAAAAAAAAAAAAAAAAAAAAAABddNFFF908QKOLLrroIjZAAAAAAAAAOUBRXkN5DeU3QAAAAAAAkDtAFDuxEzsxQECXlpaWlpY1QKuqqqqqqjxAymsor6G8MEAAAAAAABAzQDMzMzMzMz5AmpmZmZmZPUAAAAAAAAAxQAAAAAAAACpAq6qqqqqqMkDEw8PDw8MtQA3lNZTXUCpAVVVVVVWVNEBP7MRO7MQxQC+66KKLLiJAiIeHh4eHJ0AAAAAAAIBAQOmiiy666CFAAAAAAABgKEAAAAAAAAAwQDuxEzuxEy1AAAAAAACAL0AAAAAAAAA7QFVVVVVVVS9AMzMzMzOzMkDEw8PDw8MlQCIiIiIiIihAVVVVVVXVPUDx8PDw8PAkQAAAAAAAICZADeU1lNdQIkAzMzMzMzMnQKuqqqqqqixA27Zt27ZtH0AzMzMzMzMvQKuqqqqqqjhAAAAAAAAAJkDNzMzMzMw7QM3MzMzMzDtAjuM4juM4LkC3bdu2bdsyQKuqqqqqKjVAAAAAAABAP0DzGsprKK8ZQAAAAAAAgDNAAAAAAAAAHUAAAAAAAAAjQJqZmZmZmTZAL7rooosuJEAAAAAAAIA7QMVO7MRO7CBA0UUXXXTRE0AAAAAAAMA6QGZmZmZmZiVAq6qqqqqqMUDbtm3btm0tQPMaymsorxVAAAAAAACAMECrqqqqqiowQKuqqqqqKiBAq6qqqqqqLUC1tLS0tLQUQGZmZmZmZiFAJUmSJEmSKEDNzMzMzMwwQM3MzMzMzDBAeQ3lNZTXEEBVVVVVVVUqQKuqqqqqqilAAAAAAADAMUBmZmZmZmYsQAAAAAAAADFAAAAAAACAMEAAAAAAAAAWQJqZmZmZmRlAEREREREREUDNzMzMzMwYQFVVVVVVVRRA27Zt27ZtEUAzMzMzMzMnQAAAAAAAAC1AAAAAAACALEBmZmZmZmYOQKuqqqqqqiJAHMdxHMdxGEAAAAAAAAAiQKuqqqqqqiFAkiRJkiRJHkAAAAAAAAAqQAAAAAAAgClAVVVVVVVVIECe2Imd2IkNQM3MzMzMzCJAOY7jOI7jFEAAAAAAAAAnQG7btm3bthlAmpmZmZmZEUBJkiRJkiQZQEmSJEmSJBlAGIZhGIZhAEDNzMzMzMwQQAAAAAAAABxAAAAAAAAADEAAAAAAAAAIQDMzMzMzMx9AVVVVVVVVGUBVVVVVVVUZQJqZmZmZmR1AJUmSJEmSFEAAAAAAAAAiQFVVVVVVVQdAZmZmZmZmCkAAAAAAAAAgQAAAAAAAACBAAAAAAAAAH0AlSZIkSZIQQGZmZmZmZhZAZmZmZmZmBkAAAAAAAAASQKuqqqqqqhBAAAAAAAAAGUAAAAAAAAAYQDMzMzMzMxNAAAAAAAAAKEAAAAAAAAAWQKuqqqqqqgJAAAAAAAAAFEBVVVVVVVUJQAAAAAAAABhAzczMzMzM/D+rqqqqqqoGQKuqqqqqqgZAq6qqqqqqFkCrqqqqqqoGQJqZmZmZmfk/AAAAAAAACEAAAAAAAAD4PwAAAAAAAAxAzczMzMzM9D/NzMzMzMwEQG7btm3btv0/MzMzMzMzA0AAAAAAAAAYQAAAAAAAAPg/mpmZmZmZ8T9VVVVVVVUNQFVVVVVVVQ1AVVVVVVVVDUBJkiRJkiT5PwAAAAAAABZAAAAAAAAAAkDNzMzMzMz8PwAAAAAAAPg/AAAAAAAAAEAcx3Ecx3HsPwAAAAAAAPA/ZmZmZmZm9j8AAAAAAAAMQGZmZmZmZvY/AAAAAAAA/D+rqqqqqqoCQAAAAAAAAPw/q6qqqqqq8j8AAAAAAAAIQAAAAAAAAAhAntiJndiJ3T8zMzMzMzPzP6uqqqqqqvo/AAAAAAAABEAAAAAAAAD0P6uqqqqqqvo/AAAAAAAAAEBVVVVVVVX1PwAAAAAAAPA/VVVVVVVV9T9VVVVVVVXlP5IkSZIkSeI/kiRJkiRJ4j9VVVVVVVX1PwAAAAAAAPA/AAAAAAAA6D8AAAAAAAAIQFVVVVVVVeU/AAAAAAAA8D8AAAAAAAAAQFVVVVVVVeU/AAAAAAAA4D8AAAAAAADgP1VVVVVVVdU/AAAAAAAA0D8AAAAAAAAAAAAAAAAAAAAAAAAAAAAAAAAAAAAAAAAAAAAAAAAAAAAAAAAAAAAAAAAAAAAAAAAAAAAAAAAAAAAAAAAAAAAAAAAAAAAAAAAAAAAAAAAAAAAA",
          "dtype": "f8"
         },
         "xbins": {
          "end": 38,
          "size": 1,
          "start": 0
         }
        }
       ],
       "layout": {
        "barmode": "overlay",
        "template": {
         "data": {
          "bar": [
           {
            "error_x": {
             "color": "#2a3f5f"
            },
            "error_y": {
             "color": "#2a3f5f"
            },
            "marker": {
             "line": {
              "color": "#E5ECF6",
              "width": 0.5
             },
             "pattern": {
              "fillmode": "overlay",
              "size": 10,
              "solidity": 0.2
             }
            },
            "type": "bar"
           }
          ],
          "barpolar": [
           {
            "marker": {
             "line": {
              "color": "#E5ECF6",
              "width": 0.5
             },
             "pattern": {
              "fillmode": "overlay",
              "size": 10,
              "solidity": 0.2
             }
            },
            "type": "barpolar"
           }
          ],
          "carpet": [
           {
            "aaxis": {
             "endlinecolor": "#2a3f5f",
             "gridcolor": "white",
             "linecolor": "white",
             "minorgridcolor": "white",
             "startlinecolor": "#2a3f5f"
            },
            "baxis": {
             "endlinecolor": "#2a3f5f",
             "gridcolor": "white",
             "linecolor": "white",
             "minorgridcolor": "white",
             "startlinecolor": "#2a3f5f"
            },
            "type": "carpet"
           }
          ],
          "choropleth": [
           {
            "colorbar": {
             "outlinewidth": 0,
             "ticks": ""
            },
            "type": "choropleth"
           }
          ],
          "contour": [
           {
            "colorbar": {
             "outlinewidth": 0,
             "ticks": ""
            },
            "colorscale": [
             [
              0,
              "#0d0887"
             ],
             [
              0.1111111111111111,
              "#46039f"
             ],
             [
              0.2222222222222222,
              "#7201a8"
             ],
             [
              0.3333333333333333,
              "#9c179e"
             ],
             [
              0.4444444444444444,
              "#bd3786"
             ],
             [
              0.5555555555555556,
              "#d8576b"
             ],
             [
              0.6666666666666666,
              "#ed7953"
             ],
             [
              0.7777777777777778,
              "#fb9f3a"
             ],
             [
              0.8888888888888888,
              "#fdca26"
             ],
             [
              1,
              "#f0f921"
             ]
            ],
            "type": "contour"
           }
          ],
          "contourcarpet": [
           {
            "colorbar": {
             "outlinewidth": 0,
             "ticks": ""
            },
            "type": "contourcarpet"
           }
          ],
          "heatmap": [
           {
            "colorbar": {
             "outlinewidth": 0,
             "ticks": ""
            },
            "colorscale": [
             [
              0,
              "#0d0887"
             ],
             [
              0.1111111111111111,
              "#46039f"
             ],
             [
              0.2222222222222222,
              "#7201a8"
             ],
             [
              0.3333333333333333,
              "#9c179e"
             ],
             [
              0.4444444444444444,
              "#bd3786"
             ],
             [
              0.5555555555555556,
              "#d8576b"
             ],
             [
              0.6666666666666666,
              "#ed7953"
             ],
             [
              0.7777777777777778,
              "#fb9f3a"
             ],
             [
              0.8888888888888888,
              "#fdca26"
             ],
             [
              1,
              "#f0f921"
             ]
            ],
            "type": "heatmap"
           }
          ],
          "histogram": [
           {
            "marker": {
             "pattern": {
              "fillmode": "overlay",
              "size": 10,
              "solidity": 0.2
             }
            },
            "type": "histogram"
           }
          ],
          "histogram2d": [
           {
            "colorbar": {
             "outlinewidth": 0,
             "ticks": ""
            },
            "colorscale": [
             [
              0,
              "#0d0887"
             ],
             [
              0.1111111111111111,
              "#46039f"
             ],
             [
              0.2222222222222222,
              "#7201a8"
             ],
             [
              0.3333333333333333,
              "#9c179e"
             ],
             [
              0.4444444444444444,
              "#bd3786"
             ],
             [
              0.5555555555555556,
              "#d8576b"
             ],
             [
              0.6666666666666666,
              "#ed7953"
             ],
             [
              0.7777777777777778,
              "#fb9f3a"
             ],
             [
              0.8888888888888888,
              "#fdca26"
             ],
             [
              1,
              "#f0f921"
             ]
            ],
            "type": "histogram2d"
           }
          ],
          "histogram2dcontour": [
           {
            "colorbar": {
             "outlinewidth": 0,
             "ticks": ""
            },
            "colorscale": [
             [
              0,
              "#0d0887"
             ],
             [
              0.1111111111111111,
              "#46039f"
             ],
             [
              0.2222222222222222,
              "#7201a8"
             ],
             [
              0.3333333333333333,
              "#9c179e"
             ],
             [
              0.4444444444444444,
              "#bd3786"
             ],
             [
              0.5555555555555556,
              "#d8576b"
             ],
             [
              0.6666666666666666,
              "#ed7953"
             ],
             [
              0.7777777777777778,
              "#fb9f3a"
             ],
             [
              0.8888888888888888,
              "#fdca26"
             ],
             [
              1,
              "#f0f921"
             ]
            ],
            "type": "histogram2dcontour"
           }
          ],
          "mesh3d": [
           {
            "colorbar": {
             "outlinewidth": 0,
             "ticks": ""
            },
            "type": "mesh3d"
           }
          ],
          "parcoords": [
           {
            "line": {
             "colorbar": {
              "outlinewidth": 0,
              "ticks": ""
             }
            },
            "type": "parcoords"
           }
          ],
          "pie": [
           {
            "automargin": true,
            "type": "pie"
           }
          ],
          "scatter": [
           {
            "fillpattern": {
             "fillmode": "overlay",
             "size": 10,
             "solidity": 0.2
            },
            "type": "scatter"
           }
          ],
          "scatter3d": [
           {
            "line": {
             "colorbar": {
              "outlinewidth": 0,
              "ticks": ""
             }
            },
            "marker": {
             "colorbar": {
              "outlinewidth": 0,
              "ticks": ""
             }
            },
            "type": "scatter3d"
           }
          ],
          "scattercarpet": [
           {
            "marker": {
             "colorbar": {
              "outlinewidth": 0,
              "ticks": ""
             }
            },
            "type": "scattercarpet"
           }
          ],
          "scattergeo": [
           {
            "marker": {
             "colorbar": {
              "outlinewidth": 0,
              "ticks": ""
             }
            },
            "type": "scattergeo"
           }
          ],
          "scattergl": [
           {
            "marker": {
             "colorbar": {
              "outlinewidth": 0,
              "ticks": ""
             }
            },
            "type": "scattergl"
           }
          ],
          "scattermap": [
           {
            "marker": {
             "colorbar": {
              "outlinewidth": 0,
              "ticks": ""
             }
            },
            "type": "scattermap"
           }
          ],
          "scattermapbox": [
           {
            "marker": {
             "colorbar": {
              "outlinewidth": 0,
              "ticks": ""
             }
            },
            "type": "scattermapbox"
           }
          ],
          "scatterpolar": [
           {
            "marker": {
             "colorbar": {
              "outlinewidth": 0,
              "ticks": ""
             }
            },
            "type": "scatterpolar"
           }
          ],
          "scatterpolargl": [
           {
            "marker": {
             "colorbar": {
              "outlinewidth": 0,
              "ticks": ""
             }
            },
            "type": "scatterpolargl"
           }
          ],
          "scatterternary": [
           {
            "marker": {
             "colorbar": {
              "outlinewidth": 0,
              "ticks": ""
             }
            },
            "type": "scatterternary"
           }
          ],
          "surface": [
           {
            "colorbar": {
             "outlinewidth": 0,
             "ticks": ""
            },
            "colorscale": [
             [
              0,
              "#0d0887"
             ],
             [
              0.1111111111111111,
              "#46039f"
             ],
             [
              0.2222222222222222,
              "#7201a8"
             ],
             [
              0.3333333333333333,
              "#9c179e"
             ],
             [
              0.4444444444444444,
              "#bd3786"
             ],
             [
              0.5555555555555556,
              "#d8576b"
             ],
             [
              0.6666666666666666,
              "#ed7953"
             ],
             [
              0.7777777777777778,
              "#fb9f3a"
             ],
             [
              0.8888888888888888,
              "#fdca26"
             ],
             [
              1,
              "#f0f921"
             ]
            ],
            "type": "surface"
           }
          ],
          "table": [
           {
            "cells": {
             "fill": {
              "color": "#EBF0F8"
             },
             "line": {
              "color": "white"
             }
            },
            "header": {
             "fill": {
              "color": "#C8D4E3"
             },
             "line": {
              "color": "white"
             }
            },
            "type": "table"
           }
          ]
         },
         "layout": {
          "annotationdefaults": {
           "arrowcolor": "#2a3f5f",
           "arrowhead": 0,
           "arrowwidth": 1
          },
          "autotypenumbers": "strict",
          "coloraxis": {
           "colorbar": {
            "outlinewidth": 0,
            "ticks": ""
           }
          },
          "colorscale": {
           "diverging": [
            [
             0,
             "#8e0152"
            ],
            [
             0.1,
             "#c51b7d"
            ],
            [
             0.2,
             "#de77ae"
            ],
            [
             0.3,
             "#f1b6da"
            ],
            [
             0.4,
             "#fde0ef"
            ],
            [
             0.5,
             "#f7f7f7"
            ],
            [
             0.6,
             "#e6f5d0"
            ],
            [
             0.7,
             "#b8e186"
            ],
            [
             0.8,
             "#7fbc41"
            ],
            [
             0.9,
             "#4d9221"
            ],
            [
             1,
             "#276419"
            ]
           ],
           "sequential": [
            [
             0,
             "#0d0887"
            ],
            [
             0.1111111111111111,
             "#46039f"
            ],
            [
             0.2222222222222222,
             "#7201a8"
            ],
            [
             0.3333333333333333,
             "#9c179e"
            ],
            [
             0.4444444444444444,
             "#bd3786"
            ],
            [
             0.5555555555555556,
             "#d8576b"
            ],
            [
             0.6666666666666666,
             "#ed7953"
            ],
            [
             0.7777777777777778,
             "#fb9f3a"
            ],
            [
             0.8888888888888888,
             "#fdca26"
            ],
            [
             1,
             "#f0f921"
            ]
           ],
           "sequentialminus": [
            [
             0,
             "#0d0887"
            ],
            [
             0.1111111111111111,
             "#46039f"
            ],
            [
             0.2222222222222222,
             "#7201a8"
            ],
            [
             0.3333333333333333,
             "#9c179e"
            ],
            [
             0.4444444444444444,
             "#bd3786"
            ],
            [
             0.5555555555555556,
             "#d8576b"
            ],
            [
             0.6666666666666666,
             "#ed7953"
            ],
            [
             0.7777777777777778,
             "#fb9f3a"
            ],
            [
             0.8888888888888888,
             "#fdca26"
            ],
            [
             1,
             "#f0f921"
            ]
           ]
          },
          "colorway": [
           "#636efa",
           "#EF553B",
           "#00cc96",
           "#ab63fa",
           "#FFA15A",
           "#19d3f3",
           "#FF6692",
           "#B6E880",
           "#FF97FF",
           "#FECB52"
          ],
          "font": {
           "color": "#2a3f5f"
          },
          "geo": {
           "bgcolor": "white",
           "lakecolor": "white",
           "landcolor": "#E5ECF6",
           "showlakes": true,
           "showland": true,
           "subunitcolor": "white"
          },
          "hoverlabel": {
           "align": "left"
          },
          "hovermode": "closest",
          "mapbox": {
           "style": "light"
          },
          "paper_bgcolor": "white",
          "plot_bgcolor": "#E5ECF6",
          "polar": {
           "angularaxis": {
            "gridcolor": "white",
            "linecolor": "white",
            "ticks": ""
           },
           "bgcolor": "#E5ECF6",
           "radialaxis": {
            "gridcolor": "white",
            "linecolor": "white",
            "ticks": ""
           }
          },
          "scene": {
           "xaxis": {
            "backgroundcolor": "#E5ECF6",
            "gridcolor": "white",
            "gridwidth": 2,
            "linecolor": "white",
            "showbackground": true,
            "ticks": "",
            "zerolinecolor": "white"
           },
           "yaxis": {
            "backgroundcolor": "#E5ECF6",
            "gridcolor": "white",
            "gridwidth": 2,
            "linecolor": "white",
            "showbackground": true,
            "ticks": "",
            "zerolinecolor": "white"
           },
           "zaxis": {
            "backgroundcolor": "#E5ECF6",
            "gridcolor": "white",
            "gridwidth": 2,
            "linecolor": "white",
            "showbackground": true,
            "ticks": "",
            "zerolinecolor": "white"
           }
          },
          "shapedefaults": {
           "line": {
            "color": "#2a3f5f"
           }
          },
          "ternary": {
           "aaxis": {
            "gridcolor": "white",
            "linecolor": "white",
            "ticks": ""
           },
           "baxis": {
            "gridcolor": "white",
            "linecolor": "white",
            "ticks": ""
           },
           "bgcolor": "#E5ECF6",
           "caxis": {
            "gridcolor": "white",
            "linecolor": "white",
            "ticks": ""
           }
          },
          "title": {
           "x": 0.05
          },
          "xaxis": {
           "automargin": true,
           "gridcolor": "white",
           "linecolor": "white",
           "ticks": "",
           "title": {
            "standoff": 15
           },
           "zerolinecolor": "white",
           "zerolinewidth": 2
          },
          "yaxis": {
           "automargin": true,
           "gridcolor": "white",
           "linecolor": "white",
           "ticks": "",
           "title": {
            "standoff": 15
           },
           "zerolinecolor": "white",
           "zerolinewidth": 2
          }
         }
        }
       }
      }
     },
     "metadata": {},
     "output_type": "display_data"
    }
   ],
   "source": [
    "# Points per game\n",
    "def hist_data(df=rs_df, min_MIN=0, min_GP=0):\n",
    "    return df.loc[(df['MIN'] >= min_MIN) & (df['GP'] >= min_GP), 'PTS'] /\\\n",
    "    df.loc[(df['MIN'] >= min_MIN) & (df['GP'] >= min_GP), 'GP']\n",
    "\n",
    "\n",
    "fig = go.Figure()\n",
    "fig.add_trace(go.Histogram(x=hist_data(rs_df, 50, 5), histnorm='percent', name='RS',\n",
    "                           xbins={'start': 0, 'end': 38, 'size': 1}))\n",
    "fig.add_trace(go.Histogram(x=hist_data(playoffs_df, 5, 1), histnorm='percent', name='Playoffs',\n",
    "                           xbins={'start': 0, 'end': 38, 'size': 1}))\n",
    "\n",
    "fig.update_layout(barmode='overlay')\n",
    "fig.update_traces(opacity=0.5)\n",
    "fig.show()"
   ]
  },
  {
   "cell_type": "markdown",
   "metadata": {},
   "source": [
    "---"
   ]
  }
 ],
 "metadata": {
  "kernelspec": {
   "display_name": ".nba_venv",
   "language": "python",
   "name": "python3"
  },
  "language_info": {
   "codemirror_mode": {
    "name": "ipython",
    "version": 3
   },
   "file_extension": ".py",
   "mimetype": "text/x-python",
   "name": "python",
   "nbconvert_exporter": "python",
   "pygments_lexer": "ipython3",
   "version": "3.12.6"
  }
 },
 "nbformat": 4,
 "nbformat_minor": 2
}
