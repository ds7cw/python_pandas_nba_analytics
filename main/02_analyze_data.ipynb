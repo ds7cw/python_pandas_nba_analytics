{
 "cells": [
  {
   "cell_type": "code",
   "execution_count": 2,
   "metadata": {},
   "outputs": [],
   "source": [
    "import pandas as pd\n",
    "import plotly.express as px\n",
    "import plotly.graph_objects as go\n",
    "pd.set_option('display.max_columns', None)\n",
    "\n",
    "\n",
    "data = pd.read_excel('../data/nba_player_data.xlsx')"
   ]
  },
  {
   "cell_type": "code",
   "execution_count": 3,
   "metadata": {},
   "outputs": [
    {
     "data": {
      "text/html": [
       "<div>\n",
       "<style scoped>\n",
       "    .dataframe tbody tr th:only-of-type {\n",
       "        vertical-align: middle;\n",
       "    }\n",
       "\n",
       "    .dataframe tbody tr th {\n",
       "        vertical-align: top;\n",
       "    }\n",
       "\n",
       "    .dataframe thead th {\n",
       "        text-align: right;\n",
       "    }\n",
       "</style>\n",
       "<table border=\"1\" class=\"dataframe\">\n",
       "  <thead>\n",
       "    <tr style=\"text-align: right;\">\n",
       "      <th></th>\n",
       "      <th>Year</th>\n",
       "      <th>Season_type</th>\n",
       "      <th>PLAYER_ID</th>\n",
       "      <th>RANK</th>\n",
       "      <th>PLAYER</th>\n",
       "      <th>TEAM_ID</th>\n",
       "      <th>TEAM</th>\n",
       "      <th>GP</th>\n",
       "      <th>MIN</th>\n",
       "      <th>FGM</th>\n",
       "      <th>FGA</th>\n",
       "      <th>FG_PCT</th>\n",
       "      <th>FG3M</th>\n",
       "      <th>FG3A</th>\n",
       "      <th>FG3_PCT</th>\n",
       "      <th>FTM</th>\n",
       "      <th>FTA</th>\n",
       "      <th>FT_PCT</th>\n",
       "      <th>OREB</th>\n",
       "      <th>DREB</th>\n",
       "      <th>REB</th>\n",
       "      <th>AST</th>\n",
       "      <th>STL</th>\n",
       "      <th>BLK</th>\n",
       "      <th>TOV</th>\n",
       "      <th>PF</th>\n",
       "      <th>PTS</th>\n",
       "      <th>EFF</th>\n",
       "      <th>AST_TOV</th>\n",
       "      <th>STL_TOV</th>\n",
       "    </tr>\n",
       "  </thead>\n",
       "  <tbody>\n",
       "    <tr>\n",
       "      <th>1503</th>\n",
       "      <td>2014-15</td>\n",
       "      <td>Regular%20Season</td>\n",
       "      <td>203903</td>\n",
       "      <td>142</td>\n",
       "      <td>Jordan Clarkson</td>\n",
       "      <td>1610612747</td>\n",
       "      <td>LAL</td>\n",
       "      <td>59</td>\n",
       "      <td>1476</td>\n",
       "      <td>267</td>\n",
       "      <td>596</td>\n",
       "      <td>0.448</td>\n",
       "      <td>38</td>\n",
       "      <td>121</td>\n",
       "      <td>0.314</td>\n",
       "      <td>131</td>\n",
       "      <td>158</td>\n",
       "      <td>0.829</td>\n",
       "      <td>56</td>\n",
       "      <td>135</td>\n",
       "      <td>191</td>\n",
       "      <td>206</td>\n",
       "      <td>51</td>\n",
       "      <td>12</td>\n",
       "      <td>96</td>\n",
       "      <td>109</td>\n",
       "      <td>703</td>\n",
       "      <td>711</td>\n",
       "      <td>2.15</td>\n",
       "      <td>0.53</td>\n",
       "    </tr>\n",
       "    <tr>\n",
       "      <th>6492</th>\n",
       "      <td>2021-22</td>\n",
       "      <td>Regular%20Season</td>\n",
       "      <td>203944</td>\n",
       "      <td>22</td>\n",
       "      <td>Julius Randle</td>\n",
       "      <td>1610612752</td>\n",
       "      <td>NYK</td>\n",
       "      <td>72</td>\n",
       "      <td>2544</td>\n",
       "      <td>512</td>\n",
       "      <td>1246</td>\n",
       "      <td>0.411</td>\n",
       "      <td>120</td>\n",
       "      <td>390</td>\n",
       "      <td>0.308</td>\n",
       "      <td>303</td>\n",
       "      <td>401</td>\n",
       "      <td>0.756</td>\n",
       "      <td>125</td>\n",
       "      <td>591</td>\n",
       "      <td>716</td>\n",
       "      <td>370</td>\n",
       "      <td>53</td>\n",
       "      <td>39</td>\n",
       "      <td>245</td>\n",
       "      <td>205</td>\n",
       "      <td>1447</td>\n",
       "      <td>1548</td>\n",
       "      <td>1.51</td>\n",
       "      <td>0.22</td>\n",
       "    </tr>\n",
       "    <tr>\n",
       "      <th>241</th>\n",
       "      <td>2012-13</td>\n",
       "      <td>Regular%20Season</td>\n",
       "      <td>203085</td>\n",
       "      <td>242</td>\n",
       "      <td>Austin Rivers</td>\n",
       "      <td>1610612740</td>\n",
       "      <td>NOH</td>\n",
       "      <td>61</td>\n",
       "      <td>1418</td>\n",
       "      <td>145</td>\n",
       "      <td>390</td>\n",
       "      <td>0.372</td>\n",
       "      <td>28</td>\n",
       "      <td>86</td>\n",
       "      <td>0.326</td>\n",
       "      <td>59</td>\n",
       "      <td>108</td>\n",
       "      <td>0.546</td>\n",
       "      <td>16</td>\n",
       "      <td>93</td>\n",
       "      <td>109</td>\n",
       "      <td>127</td>\n",
       "      <td>26</td>\n",
       "      <td>9</td>\n",
       "      <td>74</td>\n",
       "      <td>122</td>\n",
       "      <td>377</td>\n",
       "      <td>280</td>\n",
       "      <td>1.72</td>\n",
       "      <td>0.35</td>\n",
       "    </tr>\n",
       "    <tr>\n",
       "      <th>4529</th>\n",
       "      <td>2018-19</td>\n",
       "      <td>Regular%20Season</td>\n",
       "      <td>203920</td>\n",
       "      <td>325</td>\n",
       "      <td>Khem Birch</td>\n",
       "      <td>1610612753</td>\n",
       "      <td>ORL</td>\n",
       "      <td>50</td>\n",
       "      <td>643</td>\n",
       "      <td>91</td>\n",
       "      <td>151</td>\n",
       "      <td>0.603</td>\n",
       "      <td>0</td>\n",
       "      <td>1</td>\n",
       "      <td>0.000</td>\n",
       "      <td>58</td>\n",
       "      <td>83</td>\n",
       "      <td>0.699</td>\n",
       "      <td>79</td>\n",
       "      <td>111</td>\n",
       "      <td>190</td>\n",
       "      <td>38</td>\n",
       "      <td>18</td>\n",
       "      <td>29</td>\n",
       "      <td>20</td>\n",
       "      <td>72</td>\n",
       "      <td>240</td>\n",
       "      <td>410</td>\n",
       "      <td>1.90</td>\n",
       "      <td>0.90</td>\n",
       "    </tr>\n",
       "    <tr>\n",
       "      <th>8235</th>\n",
       "      <td>2023-24</td>\n",
       "      <td>Regular%20Season</td>\n",
       "      <td>1631204</td>\n",
       "      <td>187</td>\n",
       "      <td>Marcus Sasser</td>\n",
       "      <td>1610612765</td>\n",
       "      <td>DET</td>\n",
       "      <td>71</td>\n",
       "      <td>1351</td>\n",
       "      <td>219</td>\n",
       "      <td>512</td>\n",
       "      <td>0.428</td>\n",
       "      <td>90</td>\n",
       "      <td>240</td>\n",
       "      <td>0.375</td>\n",
       "      <td>58</td>\n",
       "      <td>66</td>\n",
       "      <td>0.879</td>\n",
       "      <td>11</td>\n",
       "      <td>114</td>\n",
       "      <td>125</td>\n",
       "      <td>236</td>\n",
       "      <td>44</td>\n",
       "      <td>12</td>\n",
       "      <td>90</td>\n",
       "      <td>103</td>\n",
       "      <td>586</td>\n",
       "      <td>612</td>\n",
       "      <td>2.62</td>\n",
       "      <td>0.49</td>\n",
       "    </tr>\n",
       "  </tbody>\n",
       "</table>\n",
       "</div>"
      ],
      "text/plain": [
       "         Year       Season_type  PLAYER_ID  RANK           PLAYER     TEAM_ID  \\\n",
       "1503  2014-15  Regular%20Season     203903   142  Jordan Clarkson  1610612747   \n",
       "6492  2021-22  Regular%20Season     203944    22    Julius Randle  1610612752   \n",
       "241   2012-13  Regular%20Season     203085   242    Austin Rivers  1610612740   \n",
       "4529  2018-19  Regular%20Season     203920   325       Khem Birch  1610612753   \n",
       "8235  2023-24  Regular%20Season    1631204   187    Marcus Sasser  1610612765   \n",
       "\n",
       "     TEAM  GP   MIN  FGM   FGA  FG_PCT  FG3M  FG3A  FG3_PCT  FTM  FTA  FT_PCT  \\\n",
       "1503  LAL  59  1476  267   596   0.448    38   121    0.314  131  158   0.829   \n",
       "6492  NYK  72  2544  512  1246   0.411   120   390    0.308  303  401   0.756   \n",
       "241   NOH  61  1418  145   390   0.372    28    86    0.326   59  108   0.546   \n",
       "4529  ORL  50   643   91   151   0.603     0     1    0.000   58   83   0.699   \n",
       "8235  DET  71  1351  219   512   0.428    90   240    0.375   58   66   0.879   \n",
       "\n",
       "      OREB  DREB  REB  AST  STL  BLK  TOV   PF   PTS   EFF  AST_TOV  STL_TOV  \n",
       "1503    56   135  191  206   51   12   96  109   703   711     2.15     0.53  \n",
       "6492   125   591  716  370   53   39  245  205  1447  1548     1.51     0.22  \n",
       "241     16    93  109  127   26    9   74  122   377   280     1.72     0.35  \n",
       "4529    79   111  190   38   18   29   20   72   240   410     1.90     0.90  \n",
       "8235    11   114  125  236   44   12   90  103   586   612     2.62     0.49  "
      ]
     },
     "execution_count": 3,
     "metadata": {},
     "output_type": "execute_result"
    }
   ],
   "source": [
    "data.sample(5)"
   ]
  },
  {
   "cell_type": "code",
   "execution_count": 4,
   "metadata": {},
   "outputs": [
    {
     "data": {
      "text/plain": [
       "(8835, 30)"
      ]
     },
     "execution_count": 4,
     "metadata": {},
     "output_type": "execute_result"
    }
   ],
   "source": [
    "data.shape"
   ]
  },
  {
   "cell_type": "markdown",
   "metadata": {},
   "source": [
    "Data cleaning & analysis preparation"
   ]
  },
  {
   "cell_type": "code",
   "execution_count": 5,
   "metadata": {},
   "outputs": [],
   "source": [
    "data.drop(columns=['RANK', 'EFF'], inplace=True)"
   ]
  },
  {
   "cell_type": "code",
   "execution_count": 6,
   "metadata": {},
   "outputs": [],
   "source": [
    "data['season_start_year'] = data['Year'].str[:4].astype(int)"
   ]
  },
  {
   "cell_type": "code",
   "execution_count": 7,
   "metadata": {},
   "outputs": [
    {
     "name": "stderr",
     "output_type": "stream",
     "text": [
      "C:\\Users\\delya\\AppData\\Local\\Temp\\ipykernel_18316\\582994501.py:1: FutureWarning: A value is trying to be set on a copy of a DataFrame or Series through chained assignment using an inplace method.\n",
      "The behavior will change in pandas 3.0. This inplace method will never work because the intermediate object on which we are setting values always behaves as a copy.\n",
      "\n",
      "For example, when doing 'df[col].method(value, inplace=True)', try using 'df.method({col: value}, inplace=True)' or df[col] = df[col].method(value) instead, to perform the operation inplace on the original object.\n",
      "\n",
      "\n",
      "  data['TEAM'].replace(to_replace=['NOP', 'NOH'], value='NO', inplace=True) # use 'NO' for New Orleans\n"
     ]
    },
    {
     "data": {
      "text/plain": [
       "30"
      ]
     },
     "execution_count": 7,
     "metadata": {},
     "output_type": "execute_result"
    }
   ],
   "source": [
    "data['TEAM'].replace(to_replace=['NOP', 'NOH'], value='NO', inplace=True) # use 'NO' for New Orleans\n",
    "data.TEAM.nunique() # there should be 30 unique teams"
   ]
  },
  {
   "cell_type": "code",
   "execution_count": null,
   "metadata": {},
   "outputs": [],
   "source": [
    "data['Season_type'].replace('Regular%20Season', 'Regular', inplace=True)"
   ]
  },
  {
   "cell_type": "code",
   "execution_count": 9,
   "metadata": {},
   "outputs": [],
   "source": [
    "rs_df = data[data['Season_type']=='Regular']\n",
    "playoffs_df = data[data['Season_type']=='Playoffs']"
   ]
  },
  {
   "cell_type": "code",
   "execution_count": 10,
   "metadata": {},
   "outputs": [
    {
     "data": {
      "text/plain": [
       "Index(['Year', 'Season_type', 'PLAYER_ID', 'PLAYER', 'TEAM_ID', 'TEAM', 'GP',\n",
       "       'MIN', 'FGM', 'FGA', 'FG_PCT', 'FG3M', 'FG3A', 'FG3_PCT', 'FTM', 'FTA',\n",
       "       'FT_PCT', 'OREB', 'DREB', 'REB', 'AST', 'STL', 'BLK', 'TOV', 'PF',\n",
       "       'PTS', 'AST_TOV', 'STL_TOV', 'season_start_year'],\n",
       "      dtype='object')"
      ]
     },
     "execution_count": 10,
     "metadata": {},
     "output_type": "execute_result"
    }
   ],
   "source": [
    "data.columns"
   ]
  },
  {
   "cell_type": "code",
   "execution_count": 11,
   "metadata": {},
   "outputs": [],
   "source": [
    "total_cols = ['MIN', 'FGM', 'FGA', 'FG3M', 'FG3A', 'FTM', 'FTA',\n",
    "    'OREB', 'DREB', 'REB', 'AST', 'STL', 'BLK', 'TOV', 'PF', 'PTS',]"
   ]
  },
  {
   "cell_type": "markdown",
   "metadata": {},
   "source": [
    "Which player stats are correlated with each other?"
   ]
  },
  {
   "cell_type": "code",
   "execution_count": 39,
   "metadata": {},
   "outputs": [
    {
     "data": {
      "application/vnd.plotly.v1+json": {
       "config": {
        "plotlyServerURL": "https://plot.ly"
       },
       "data": [
        {
         "coloraxis": "coloraxis",
         "hovertemplate": "x: %{x}<br>y: %{y}<br>color: %{z}<extra></extra>",
         "name": "0",
         "type": "heatmap",
         "x": [
          "MIN",
          "FGM",
          "FGA",
          "FG3M",
          "FG3A",
          "FTM",
          "FTA",
          "OREB",
          "DREB",
          "REB",
          "AST",
          "STL",
          "BLK",
          "TOV",
          "PF",
          "PTS",
          "FG%",
          "3PT%",
          "FT%",
          "FG3A%",
          "PTS/FGA",
          "FG3M/FGM",
          "FTA/FGA",
          "TRU%",
          "AST_TOV"
         ],
         "xaxis": "x",
         "y": [
          "MIN",
          "FGM",
          "FGA",
          "FG3M",
          "FG3A",
          "FTM",
          "FTA",
          "OREB",
          "DREB",
          "REB",
          "AST",
          "STL",
          "BLK",
          "TOV",
          "PF",
          "PTS",
          "FG%",
          "3PT%",
          "FT%",
          "FG3A%",
          "PTS/FGA",
          "FG3M/FGM",
          "FTA/FGA",
          "TRU%",
          "AST_TOV"
         ],
         "yaxis": "y",
         "z": {
          "bdata": "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",
          "dtype": "f8",
          "shape": "25, 25"
         }
        }
       ],
       "layout": {
        "coloraxis": {
         "colorscale": [
          [
           0,
           "#0d0887"
          ],
          [
           0.1111111111111111,
           "#46039f"
          ],
          [
           0.2222222222222222,
           "#7201a8"
          ],
          [
           0.3333333333333333,
           "#9c179e"
          ],
          [
           0.4444444444444444,
           "#bd3786"
          ],
          [
           0.5555555555555556,
           "#d8576b"
          ],
          [
           0.6666666666666666,
           "#ed7953"
          ],
          [
           0.7777777777777778,
           "#fb9f3a"
          ],
          [
           0.8888888888888888,
           "#fdca26"
          ],
          [
           1,
           "#f0f921"
          ]
         ]
        },
        "height": 640,
        "margin": {
         "t": 60
        },
        "template": {
         "data": {
          "bar": [
           {
            "error_x": {
             "color": "#2a3f5f"
            },
            "error_y": {
             "color": "#2a3f5f"
            },
            "marker": {
             "line": {
              "color": "#E5ECF6",
              "width": 0.5
             },
             "pattern": {
              "fillmode": "overlay",
              "size": 10,
              "solidity": 0.2
             }
            },
            "type": "bar"
           }
          ],
          "barpolar": [
           {
            "marker": {
             "line": {
              "color": "#E5ECF6",
              "width": 0.5
             },
             "pattern": {
              "fillmode": "overlay",
              "size": 10,
              "solidity": 0.2
             }
            },
            "type": "barpolar"
           }
          ],
          "carpet": [
           {
            "aaxis": {
             "endlinecolor": "#2a3f5f",
             "gridcolor": "white",
             "linecolor": "white",
             "minorgridcolor": "white",
             "startlinecolor": "#2a3f5f"
            },
            "baxis": {
             "endlinecolor": "#2a3f5f",
             "gridcolor": "white",
             "linecolor": "white",
             "minorgridcolor": "white",
             "startlinecolor": "#2a3f5f"
            },
            "type": "carpet"
           }
          ],
          "choropleth": [
           {
            "colorbar": {
             "outlinewidth": 0,
             "ticks": ""
            },
            "type": "choropleth"
           }
          ],
          "contour": [
           {
            "colorbar": {
             "outlinewidth": 0,
             "ticks": ""
            },
            "colorscale": [
             [
              0,
              "#0d0887"
             ],
             [
              0.1111111111111111,
              "#46039f"
             ],
             [
              0.2222222222222222,
              "#7201a8"
             ],
             [
              0.3333333333333333,
              "#9c179e"
             ],
             [
              0.4444444444444444,
              "#bd3786"
             ],
             [
              0.5555555555555556,
              "#d8576b"
             ],
             [
              0.6666666666666666,
              "#ed7953"
             ],
             [
              0.7777777777777778,
              "#fb9f3a"
             ],
             [
              0.8888888888888888,
              "#fdca26"
             ],
             [
              1,
              "#f0f921"
             ]
            ],
            "type": "contour"
           }
          ],
          "contourcarpet": [
           {
            "colorbar": {
             "outlinewidth": 0,
             "ticks": ""
            },
            "type": "contourcarpet"
           }
          ],
          "heatmap": [
           {
            "colorbar": {
             "outlinewidth": 0,
             "ticks": ""
            },
            "colorscale": [
             [
              0,
              "#0d0887"
             ],
             [
              0.1111111111111111,
              "#46039f"
             ],
             [
              0.2222222222222222,
              "#7201a8"
             ],
             [
              0.3333333333333333,
              "#9c179e"
             ],
             [
              0.4444444444444444,
              "#bd3786"
             ],
             [
              0.5555555555555556,
              "#d8576b"
             ],
             [
              0.6666666666666666,
              "#ed7953"
             ],
             [
              0.7777777777777778,
              "#fb9f3a"
             ],
             [
              0.8888888888888888,
              "#fdca26"
             ],
             [
              1,
              "#f0f921"
             ]
            ],
            "type": "heatmap"
           }
          ],
          "histogram": [
           {
            "marker": {
             "pattern": {
              "fillmode": "overlay",
              "size": 10,
              "solidity": 0.2
             }
            },
            "type": "histogram"
           }
          ],
          "histogram2d": [
           {
            "colorbar": {
             "outlinewidth": 0,
             "ticks": ""
            },
            "colorscale": [
             [
              0,
              "#0d0887"
             ],
             [
              0.1111111111111111,
              "#46039f"
             ],
             [
              0.2222222222222222,
              "#7201a8"
             ],
             [
              0.3333333333333333,
              "#9c179e"
             ],
             [
              0.4444444444444444,
              "#bd3786"
             ],
             [
              0.5555555555555556,
              "#d8576b"
             ],
             [
              0.6666666666666666,
              "#ed7953"
             ],
             [
              0.7777777777777778,
              "#fb9f3a"
             ],
             [
              0.8888888888888888,
              "#fdca26"
             ],
             [
              1,
              "#f0f921"
             ]
            ],
            "type": "histogram2d"
           }
          ],
          "histogram2dcontour": [
           {
            "colorbar": {
             "outlinewidth": 0,
             "ticks": ""
            },
            "colorscale": [
             [
              0,
              "#0d0887"
             ],
             [
              0.1111111111111111,
              "#46039f"
             ],
             [
              0.2222222222222222,
              "#7201a8"
             ],
             [
              0.3333333333333333,
              "#9c179e"
             ],
             [
              0.4444444444444444,
              "#bd3786"
             ],
             [
              0.5555555555555556,
              "#d8576b"
             ],
             [
              0.6666666666666666,
              "#ed7953"
             ],
             [
              0.7777777777777778,
              "#fb9f3a"
             ],
             [
              0.8888888888888888,
              "#fdca26"
             ],
             [
              1,
              "#f0f921"
             ]
            ],
            "type": "histogram2dcontour"
           }
          ],
          "mesh3d": [
           {
            "colorbar": {
             "outlinewidth": 0,
             "ticks": ""
            },
            "type": "mesh3d"
           }
          ],
          "parcoords": [
           {
            "line": {
             "colorbar": {
              "outlinewidth": 0,
              "ticks": ""
             }
            },
            "type": "parcoords"
           }
          ],
          "pie": [
           {
            "automargin": true,
            "type": "pie"
           }
          ],
          "scatter": [
           {
            "fillpattern": {
             "fillmode": "overlay",
             "size": 10,
             "solidity": 0.2
            },
            "type": "scatter"
           }
          ],
          "scatter3d": [
           {
            "line": {
             "colorbar": {
              "outlinewidth": 0,
              "ticks": ""
             }
            },
            "marker": {
             "colorbar": {
              "outlinewidth": 0,
              "ticks": ""
             }
            },
            "type": "scatter3d"
           }
          ],
          "scattercarpet": [
           {
            "marker": {
             "colorbar": {
              "outlinewidth": 0,
              "ticks": ""
             }
            },
            "type": "scattercarpet"
           }
          ],
          "scattergeo": [
           {
            "marker": {
             "colorbar": {
              "outlinewidth": 0,
              "ticks": ""
             }
            },
            "type": "scattergeo"
           }
          ],
          "scattergl": [
           {
            "marker": {
             "colorbar": {
              "outlinewidth": 0,
              "ticks": ""
             }
            },
            "type": "scattergl"
           }
          ],
          "scattermap": [
           {
            "marker": {
             "colorbar": {
              "outlinewidth": 0,
              "ticks": ""
             }
            },
            "type": "scattermap"
           }
          ],
          "scattermapbox": [
           {
            "marker": {
             "colorbar": {
              "outlinewidth": 0,
              "ticks": ""
             }
            },
            "type": "scattermapbox"
           }
          ],
          "scatterpolar": [
           {
            "marker": {
             "colorbar": {
              "outlinewidth": 0,
              "ticks": ""
             }
            },
            "type": "scatterpolar"
           }
          ],
          "scatterpolargl": [
           {
            "marker": {
             "colorbar": {
              "outlinewidth": 0,
              "ticks": ""
             }
            },
            "type": "scatterpolargl"
           }
          ],
          "scatterternary": [
           {
            "marker": {
             "colorbar": {
              "outlinewidth": 0,
              "ticks": ""
             }
            },
            "type": "scatterternary"
           }
          ],
          "surface": [
           {
            "colorbar": {
             "outlinewidth": 0,
             "ticks": ""
            },
            "colorscale": [
             [
              0,
              "#0d0887"
             ],
             [
              0.1111111111111111,
              "#46039f"
             ],
             [
              0.2222222222222222,
              "#7201a8"
             ],
             [
              0.3333333333333333,
              "#9c179e"
             ],
             [
              0.4444444444444444,
              "#bd3786"
             ],
             [
              0.5555555555555556,
              "#d8576b"
             ],
             [
              0.6666666666666666,
              "#ed7953"
             ],
             [
              0.7777777777777778,
              "#fb9f3a"
             ],
             [
              0.8888888888888888,
              "#fdca26"
             ],
             [
              1,
              "#f0f921"
             ]
            ],
            "type": "surface"
           }
          ],
          "table": [
           {
            "cells": {
             "fill": {
              "color": "#EBF0F8"
             },
             "line": {
              "color": "white"
             }
            },
            "header": {
             "fill": {
              "color": "#C8D4E3"
             },
             "line": {
              "color": "white"
             }
            },
            "type": "table"
           }
          ]
         },
         "layout": {
          "annotationdefaults": {
           "arrowcolor": "#2a3f5f",
           "arrowhead": 0,
           "arrowwidth": 1
          },
          "autotypenumbers": "strict",
          "coloraxis": {
           "colorbar": {
            "outlinewidth": 0,
            "ticks": ""
           }
          },
          "colorscale": {
           "diverging": [
            [
             0,
             "#8e0152"
            ],
            [
             0.1,
             "#c51b7d"
            ],
            [
             0.2,
             "#de77ae"
            ],
            [
             0.3,
             "#f1b6da"
            ],
            [
             0.4,
             "#fde0ef"
            ],
            [
             0.5,
             "#f7f7f7"
            ],
            [
             0.6,
             "#e6f5d0"
            ],
            [
             0.7,
             "#b8e186"
            ],
            [
             0.8,
             "#7fbc41"
            ],
            [
             0.9,
             "#4d9221"
            ],
            [
             1,
             "#276419"
            ]
           ],
           "sequential": [
            [
             0,
             "#0d0887"
            ],
            [
             0.1111111111111111,
             "#46039f"
            ],
            [
             0.2222222222222222,
             "#7201a8"
            ],
            [
             0.3333333333333333,
             "#9c179e"
            ],
            [
             0.4444444444444444,
             "#bd3786"
            ],
            [
             0.5555555555555556,
             "#d8576b"
            ],
            [
             0.6666666666666666,
             "#ed7953"
            ],
            [
             0.7777777777777778,
             "#fb9f3a"
            ],
            [
             0.8888888888888888,
             "#fdca26"
            ],
            [
             1,
             "#f0f921"
            ]
           ],
           "sequentialminus": [
            [
             0,
             "#0d0887"
            ],
            [
             0.1111111111111111,
             "#46039f"
            ],
            [
             0.2222222222222222,
             "#7201a8"
            ],
            [
             0.3333333333333333,
             "#9c179e"
            ],
            [
             0.4444444444444444,
             "#bd3786"
            ],
            [
             0.5555555555555556,
             "#d8576b"
            ],
            [
             0.6666666666666666,
             "#ed7953"
            ],
            [
             0.7777777777777778,
             "#fb9f3a"
            ],
            [
             0.8888888888888888,
             "#fdca26"
            ],
            [
             1,
             "#f0f921"
            ]
           ]
          },
          "colorway": [
           "#636efa",
           "#EF553B",
           "#00cc96",
           "#ab63fa",
           "#FFA15A",
           "#19d3f3",
           "#FF6692",
           "#B6E880",
           "#FF97FF",
           "#FECB52"
          ],
          "font": {
           "color": "#2a3f5f"
          },
          "geo": {
           "bgcolor": "white",
           "lakecolor": "white",
           "landcolor": "#E5ECF6",
           "showlakes": true,
           "showland": true,
           "subunitcolor": "white"
          },
          "hoverlabel": {
           "align": "left"
          },
          "hovermode": "closest",
          "mapbox": {
           "style": "light"
          },
          "paper_bgcolor": "white",
          "plot_bgcolor": "#E5ECF6",
          "polar": {
           "angularaxis": {
            "gridcolor": "white",
            "linecolor": "white",
            "ticks": ""
           },
           "bgcolor": "#E5ECF6",
           "radialaxis": {
            "gridcolor": "white",
            "linecolor": "white",
            "ticks": ""
           }
          },
          "scene": {
           "xaxis": {
            "backgroundcolor": "#E5ECF6",
            "gridcolor": "white",
            "gridwidth": 2,
            "linecolor": "white",
            "showbackground": true,
            "ticks": "",
            "zerolinecolor": "white"
           },
           "yaxis": {
            "backgroundcolor": "#E5ECF6",
            "gridcolor": "white",
            "gridwidth": 2,
            "linecolor": "white",
            "showbackground": true,
            "ticks": "",
            "zerolinecolor": "white"
           },
           "zaxis": {
            "backgroundcolor": "#E5ECF6",
            "gridcolor": "white",
            "gridwidth": 2,
            "linecolor": "white",
            "showbackground": true,
            "ticks": "",
            "zerolinecolor": "white"
           }
          },
          "shapedefaults": {
           "line": {
            "color": "#2a3f5f"
           }
          },
          "ternary": {
           "aaxis": {
            "gridcolor": "white",
            "linecolor": "white",
            "ticks": ""
           },
           "baxis": {
            "gridcolor": "white",
            "linecolor": "white",
            "ticks": ""
           },
           "bgcolor": "#E5ECF6",
           "caxis": {
            "gridcolor": "white",
            "linecolor": "white",
            "ticks": ""
           }
          },
          "title": {
           "x": 0.05
          },
          "xaxis": {
           "automargin": true,
           "gridcolor": "white",
           "linecolor": "white",
           "ticks": "",
           "title": {
            "standoff": 15
           },
           "zerolinecolor": "white",
           "zerolinewidth": 2
          },
          "yaxis": {
           "automargin": true,
           "gridcolor": "white",
           "linecolor": "white",
           "ticks": "",
           "title": {
            "standoff": 15
           },
           "zerolinecolor": "white",
           "zerolinewidth": 2
          }
         }
        },
        "width": 640,
        "xaxis": {
         "anchor": "y",
         "constrain": "domain",
         "domain": [
          0,
          1
         ],
         "scaleanchor": "y"
        },
        "yaxis": {
         "anchor": "x",
         "autorange": "reversed",
         "constrain": "domain",
         "domain": [
          0,
          1
         ]
        }
       }
      }
     },
     "metadata": {},
     "output_type": "display_data"
    }
   ],
   "source": [
    "data_per_min = data.groupby(['PLAYER', 'PLAYER_ID', 'Year'])[total_cols].sum().reset_index()\n",
    "for col in data_per_min.columns[4:]:\n",
    "    data_per_min[col] = data_per_min[col] / data_per_min['MIN']\n",
    "\n",
    "data_per_min['FG%'] = data_per_min['FGM'] / data_per_min['FGA']\n",
    "data_per_min['3PT%'] = data_per_min['FG3M'] / data_per_min['FG3A']\n",
    "data_per_min['FT%'] = data_per_min['FTM'] / data_per_min['FTA']\n",
    "data_per_min['FG3A%'] = data_per_min['FG3A'] / data_per_min['FGA']\n",
    "data_per_min['PTS/FGA'] = data_per_min['PTS'] / data_per_min['FGA']\n",
    "data_per_min['FG3M/FGM'] = data_per_min['FG3M'] / data_per_min['FGM']\n",
    "data_per_min['FTA/FGA'] = data_per_min['FTA'] / data_per_min['FGA']\n",
    "data_per_min['TRU%'] = 0.5 * data_per_min['PTS'] / (data_per_min['FGA'] + 0.475 * data_per_min['FTA'])\n",
    "data_per_min['AST_TOV'] = data_per_min['AST'] / data_per_min['TOV']\n",
    "\n",
    "# Only look at players who have recorded at least 50 min of play time in a season\n",
    "data_per_min = data_per_min[data_per_min['MIN']>=50]\n",
    "data_per_min.drop(columns='PLAYER_ID', inplace=True)\n",
    "# data_per_min.head(4)\n",
    "\n",
    "fig = px.imshow(data_per_min.select_dtypes(include=[float, int]).corr(), width=640, height=640)\n",
    "fig.show()"
   ]
  },
  {
   "cell_type": "markdown",
   "metadata": {},
   "source": [
    "---"
   ]
  }
 ],
 "metadata": {
  "kernelspec": {
   "display_name": ".nba_venv",
   "language": "python",
   "name": "python3"
  },
  "language_info": {
   "codemirror_mode": {
    "name": "ipython",
    "version": 3
   },
   "file_extension": ".py",
   "mimetype": "text/x-python",
   "name": "python",
   "nbconvert_exporter": "python",
   "pygments_lexer": "ipython3",
   "version": "3.12.6"
  }
 },
 "nbformat": 4,
 "nbformat_minor": 2
}
