{
 "cells": [
  {
   "cell_type": "markdown",
   "metadata": {},
   "source": [
    "## GSW Points Per Quarter Data"
   ]
  },
  {
   "cell_type": "code",
   "execution_count": 3,
   "metadata": {},
   "outputs": [],
   "source": [
    "import pandas as pd\n",
    "pd.set_option('display.max_columns', None)\n",
    "\n",
    "\n",
    "df = pd.read_excel('../data/gsw_box_score_team_stats.xlsx')"
   ]
  },
  {
   "cell_type": "code",
   "execution_count": 4,
   "metadata": {},
   "outputs": [],
   "source": [
    "gsw_all_games_df = df[df['TEAM'] == 'GSW']"
   ]
  },
  {
   "cell_type": "code",
   "execution_count": 5,
   "metadata": {},
   "outputs": [
    {
     "name": "stdout",
     "output_type": "stream",
     "text": [
      "Q1: 27.44 PPG\n",
      "Q2: 27.54 PPG\n",
      "Q3: 30.33 PPG\n",
      "Q4: 28.29 PPG\n"
     ]
    }
   ],
   "source": [
    "def show_quarters_ppg(data):\n",
    "    for i in range(1, 5):\n",
    "        print(f\"Q{i}: {round(data[f'Q{i}'].mean(), 2)} PPG\")\n",
    "\n",
    "show_quarters_ppg(gsw_all_games_df) # All GSW games"
   ]
  },
  {
   "cell_type": "code",
   "execution_count": 6,
   "metadata": {},
   "outputs": [
    {
     "name": "stdout",
     "output_type": "stream",
     "text": [
      "Q1: 27.83 PPG\n",
      "Q2: 27.37 PPG\n",
      "Q3: 30.41 PPG\n",
      "Q4: 26.68 PPG\n"
     ]
    }
   ],
   "source": [
    "gsw_all_home_games_df = gsw_all_games_df[gsw_all_games_df['STATUS'] == 'home']\n",
    "show_quarters_ppg(gsw_all_home_games_df) # All GSW home games"
   ]
  },
  {
   "cell_type": "markdown",
   "metadata": {},
   "source": [
    "GSW score more points in the 1st quarter when they are at home."
   ]
  },
  {
   "cell_type": "code",
   "execution_count": 7,
   "metadata": {},
   "outputs": [
    {
     "name": "stdout",
     "output_type": "stream",
     "text": [
      "Q1: 27.05 PPG\n",
      "Q2: 27.71 PPG\n",
      "Q3: 30.24 PPG\n",
      "Q4: 29.9 PPG\n"
     ]
    }
   ],
   "source": [
    "gsw_all_away_games_df = gsw_all_games_df[gsw_all_games_df['STATUS'] == 'away']\n",
    "show_quarters_ppg(gsw_all_away_games_df) # All GSW away games"
   ]
  },
  {
   "cell_type": "markdown",
   "metadata": {},
   "source": [
    "GSW score more points in the 4th quarter when they are on the road."
   ]
  },
  {
   "cell_type": "code",
   "execution_count": 8,
   "metadata": {},
   "outputs": [],
   "source": [
    "JIMMY_TRADE = '2025-02-08'\n",
    "gsw_df_pre_jimmy = gsw_all_games_df[gsw_all_games_df['DATE'] < JIMMY_TRADE]\n",
    "gsw_df_with_jimmy = gsw_all_games_df[gsw_all_games_df['DATE'] >= JIMMY_TRADE]"
   ]
  },
  {
   "cell_type": "code",
   "execution_count": 9,
   "metadata": {},
   "outputs": [
    {
     "name": "stdout",
     "output_type": "stream",
     "text": [
      "Q1: 26.31 PPG\n",
      "Q2: 27.08 PPG\n",
      "Q3: 30.16 PPG\n",
      "Q4: 27.8 PPG\n"
     ]
    }
   ],
   "source": [
    "show_quarters_ppg(gsw_df_pre_jimmy) # GSW games before Jimmy Butler trade"
   ]
  },
  {
   "cell_type": "code",
   "execution_count": 10,
   "metadata": {},
   "outputs": [
    {
     "name": "stdout",
     "output_type": "stream",
     "text": [
      "Q1: 29.29 PPG\n",
      "Q2: 28.29 PPG\n",
      "Q3: 30.61 PPG\n",
      "Q4: 29.1 PPG\n"
     ]
    }
   ],
   "source": [
    "show_quarters_ppg(gsw_df_with_jimmy) # GSW games since Jimmy Butler trade"
   ]
  },
  {
   "cell_type": "code",
   "execution_count": 11,
   "metadata": {},
   "outputs": [
    {
     "name": "stdout",
     "output_type": "stream",
     "text": [
      "Q1: 30.0 PPG\n",
      "Q2: 27.77 PPG\n",
      "Q3: 30.23 PPG\n",
      "Q4: 26.46 PPG\n"
     ]
    }
   ],
   "source": [
    "show_quarters_ppg(gsw_df_with_jimmy[gsw_df_with_jimmy['STATUS'] == 'home']) # GSW home games since Jimmy Butler trade"
   ]
  },
  {
   "cell_type": "code",
   "execution_count": 12,
   "metadata": {},
   "outputs": [
    {
     "name": "stdout",
     "output_type": "stream",
     "text": [
      "Q1: 28.78 PPG\n",
      "Q2: 28.67 PPG\n",
      "Q3: 30.89 PPG\n",
      "Q4: 31.0 PPG\n"
     ]
    }
   ],
   "source": [
    "show_quarters_ppg(gsw_df_with_jimmy[gsw_df_with_jimmy['STATUS'] == 'away']) # GSW away games since Jimmy Butler trade"
   ]
  },
  {
   "cell_type": "markdown",
   "metadata": {},
   "source": [
    "---"
   ]
  },
  {
   "cell_type": "code",
   "execution_count": 13,
   "metadata": {},
   "outputs": [
    {
     "name": "stdout",
     "output_type": "stream",
     "text": [
      "GSW's record at home is 24 wins and 17 losses\n"
     ]
    }
   ],
   "source": [
    "home_wins = gsw_all_home_games_df[gsw_all_home_games_df['W/L']=='W'].shape[0]\n",
    "home_losses = gsw_all_home_games_df[gsw_all_home_games_df['W/L']=='L'].shape[0]\n",
    "print(f\"GSW's record at home is {home_wins} wins and {home_losses} losses\")"
   ]
  },
  {
   "cell_type": "code",
   "execution_count": 14,
   "metadata": {},
   "outputs": [
    {
     "name": "stdout",
     "output_type": "stream",
     "text": [
      "GSW's record on the road is 24 wins and 17 losses\n"
     ]
    }
   ],
   "source": [
    "away_wins = gsw_all_away_games_df[gsw_all_away_games_df['W/L']=='W'].shape[0]\n",
    "away_losses = gsw_all_away_games_df[gsw_all_away_games_df['W/L']=='L'].shape[0]\n",
    "print(f\"GSW's record on the road is {away_wins} wins and {away_losses} losses\")"
   ]
  },
  {
   "cell_type": "markdown",
   "metadata": {},
   "source": [
    "---"
   ]
  },
  {
   "cell_type": "code",
   "execution_count": 15,
   "metadata": {},
   "outputs": [],
   "source": [
    "opp_all_games_df = df[df['TEAM'] != 'GSW']"
   ]
  },
  {
   "cell_type": "code",
   "execution_count": 16,
   "metadata": {},
   "outputs": [],
   "source": [
    "def get_highest_lowest_opp_quarter_pts(q_num: int, lowest: bool) -> None:\n",
    "    highest_lowest_str = 'Lowest' if lowest else 'Highest'\n",
    "    opp_quarter_pts = opp_all_games_df.sort_values(by=f'Q{q_num}', ascending=lowest).head(5)\n",
    "    print(f'\\nQuarter {q_num} {highest_lowest_str} PTS scored by opponent team against GSW')\n",
    "    print(opp_quarter_pts[['TEAM', 'STATUS', 'DATE', f'Q{q_num}', 'W/L']])"
   ]
  },
  {
   "cell_type": "code",
   "execution_count": 17,
   "metadata": {},
   "outputs": [
    {
     "name": "stdout",
     "output_type": "stream",
     "text": [
      "\n",
      "Quarter 1 Highest PTS scored by opponent team against GSW\n",
      "    TEAM STATUS        DATE  Q1 W/L\n",
      "48   DAL   away  2024-12-15  46   W\n",
      "152  DEN   away  2025-04-04  44   L\n",
      "141  ATL   home  2025-03-22  40   W\n",
      "34   OKC   away  2024-11-27  39   W\n",
      "17   CLE   home  2024-11-08  39   W\n",
      "\n",
      "Quarter 1 Lowest PTS scored by opponent team against GSW\n",
      "    TEAM STATUS        DATE  Q1 W/L\n",
      "79   MIN   home  2025-01-15  12   L\n",
      "53   MIN   home  2024-12-21  15   L\n",
      "31   SAS   home  2024-11-23  17   W\n",
      "114  CHA   away  2025-02-25  18   L\n",
      "112  DAL   away  2025-02-23  18   L\n"
     ]
    }
   ],
   "source": [
    "get_highest_lowest_opp_quarter_pts(q_num=1, lowest=False)\n",
    "get_highest_lowest_opp_quarter_pts(q_num=1, lowest=True)"
   ]
  },
  {
   "cell_type": "code",
   "execution_count": 18,
   "metadata": {},
   "outputs": [
    {
     "name": "stdout",
     "output_type": "stream",
     "text": [
      "\n",
      "Quarter 2 Highest PTS scored by opponent team against GSW\n",
      "    TEAM STATUS        DATE  Q2 W/L\n",
      "17   CLE   home  2024-11-08  44   W\n",
      "68   SAC   away  2025-01-05  39   W\n",
      "60   PHX   away  2024-12-28  38   L\n",
      "103  CHI   home  2025-02-08  38   L\n",
      "119  PHI   home  2025-03-01  37   W\n",
      "\n",
      "Quarter 2 Lowest PTS scored by opponent team against GSW\n",
      "    TEAM STATUS        DATE  Q2 W/L\n",
      "15   BOS   home  2024-11-06  16   L\n",
      "152  DEN   away  2025-04-04  16   L\n",
      "136  MIL   away  2025-03-18  17   L\n",
      "96   ORL   away  2025-02-03  17   L\n",
      "161  POR   home  2025-04-11  17   L\n"
     ]
    }
   ],
   "source": [
    "get_highest_lowest_opp_quarter_pts(q_num=2, lowest=False)\n",
    "get_highest_lowest_opp_quarter_pts(q_num=2, lowest=True)"
   ]
  },
  {
   "cell_type": "code",
   "execution_count": 19,
   "metadata": {},
   "outputs": [
    {
     "name": "stdout",
     "output_type": "stream",
     "text": [
      "\n",
      "Quarter 3 Highest PTS scored by opponent team against GSW\n",
      "    TEAM STATUS        DATE  Q3 W/L\n",
      "128  POR   away  2025-03-10  43   L\n",
      "82   BOS   away  2025-01-20  43   W\n",
      "15   BOS   home  2024-11-06  41   L\n",
      "51   MEM   home  2024-12-19  40   W\n",
      "53   MIN   home  2024-12-21  38   L\n",
      "\n",
      "Quarter 3 Lowest PTS scored by opponent team against GSW\n",
      "    TEAM STATUS        DATE  Q3 W/L\n",
      "86   CHI   away  2025-01-23  16   L\n",
      "157  PHX   home  2025-04-08  18   L\n",
      "37   PHX   home  2024-11-30  19   W\n",
      "25   LAC   home  2024-11-18  19   W\n",
      "161  POR   home  2025-04-11  20   L\n"
     ]
    }
   ],
   "source": [
    "get_highest_lowest_opp_quarter_pts(q_num=3, lowest=False)\n",
    "get_highest_lowest_opp_quarter_pts(q_num=3, lowest=True)"
   ]
  },
  {
   "cell_type": "code",
   "execution_count": 20,
   "metadata": {},
   "outputs": [
    {
     "name": "stdout",
     "output_type": "stream",
     "text": [
      "\n",
      "Quarter 4 Highest PTS scored by opponent team against GSW\n",
      "    TEAM STATUS        DATE  Q4 W/L\n",
      "99   UTA   home  2025-02-05  44   W\n",
      "32   BKN   away  2024-11-25  41   W\n",
      "22   MEM   away  2024-11-15  40   L\n",
      "11   HOU   home  2024-11-02  39   L\n",
      "151  LAL   home  2025-04-03  39   L\n",
      "\n",
      "Quarter 4 Lowest PTS scored by opponent team against GSW\n",
      "    TEAM STATUS        DATE  Q4 W/L\n",
      "145  NOP   home  2025-03-28  13   L\n",
      "3    UTA   home  2024-10-25  16   L\n",
      "44   MIN   away  2024-12-08  16   L\n",
      "103  CHI   home  2025-02-08  17   L\n",
      "136  MIL   away  2025-03-18  17   L\n"
     ]
    }
   ],
   "source": [
    "get_highest_lowest_opp_quarter_pts(q_num=4, lowest=False)\n",
    "get_highest_lowest_opp_quarter_pts(q_num=4, lowest=True)"
   ]
  },
  {
   "cell_type": "markdown",
   "metadata": {},
   "source": [
    "---"
   ]
  },
  {
   "cell_type": "markdown",
   "metadata": {},
   "source": [
    "### Show games where GSW were down going into Q4, but won the game"
   ]
  },
  {
   "cell_type": "code",
   "execution_count": 26,
   "metadata": {},
   "outputs": [
    {
     "name": "stdout",
     "output_type": "stream",
     "text": [
      "GSW df shape (82, 30); expected games: 82\n",
      "OPP df shape (82, 30); expected games: 82\n"
     ]
    }
   ],
   "source": [
    "gsw_all_games_df = df[df['TEAM'] == 'GSW']\n",
    "opp_all_games_df = df[df['TEAM'] != 'GSW']\n",
    "\n",
    "print(f\"GSW df shape {gsw_all_games_df.shape}; expected games: 82\")\n",
    "print(f\"OPP df shape {opp_all_games_df.shape}; expected games: 82\")"
   ]
  },
  {
   "cell_type": "code",
   "execution_count": 36,
   "metadata": {},
   "outputs": [
    {
     "data": {
      "text/html": [
       "<div>\n",
       "<style scoped>\n",
       "    .dataframe tbody tr th:only-of-type {\n",
       "        vertical-align: middle;\n",
       "    }\n",
       "\n",
       "    .dataframe tbody tr th {\n",
       "        vertical-align: top;\n",
       "    }\n",
       "\n",
       "    .dataframe thead th {\n",
       "        text-align: right;\n",
       "    }\n",
       "</style>\n",
       "<table border=\"1\" class=\"dataframe\">\n",
       "  <thead>\n",
       "    <tr style=\"text-align: right;\">\n",
       "      <th></th>\n",
       "      <th>Unnamed: 0_GSW</th>\n",
       "      <th>TEAM_GSW</th>\n",
       "      <th>OPP_GSW</th>\n",
       "      <th>STATUS_GSW</th>\n",
       "      <th>DATE</th>\n",
       "      <th>MIN_GSW</th>\n",
       "      <th>FGM_GSW</th>\n",
       "      <th>FGA_GSW</th>\n",
       "      <th>FG%_GSW</th>\n",
       "      <th>3PM_GSW</th>\n",
       "      <th>3PA_GSW</th>\n",
       "      <th>3P%_GSW</th>\n",
       "      <th>FTM_GSW</th>\n",
       "      <th>FTA_GSW</th>\n",
       "      <th>FT%_GSW</th>\n",
       "      <th>OREB_GSW</th>\n",
       "      <th>DREB_GSW</th>\n",
       "      <th>TREB_GSW</th>\n",
       "      <th>AST_GSW</th>\n",
       "      <th>STL_GSW</th>\n",
       "      <th>BLK_GSW</th>\n",
       "      <th>TOV_GSW</th>\n",
       "      <th>PF_GSW</th>\n",
       "      <th>PTS_GSW</th>\n",
       "      <th>+/-_GSW</th>\n",
       "      <th>Q1_GSW</th>\n",
       "      <th>Q2_GSW</th>\n",
       "      <th>Q3_GSW</th>\n",
       "      <th>Q4_GSW</th>\n",
       "      <th>W/L_GSW</th>\n",
       "      <th>Unnamed: 0_OPP</th>\n",
       "      <th>TEAM_OPP</th>\n",
       "      <th>OPP_OPP</th>\n",
       "      <th>STATUS_OPP</th>\n",
       "      <th>MIN_OPP</th>\n",
       "      <th>FGM_OPP</th>\n",
       "      <th>FGA_OPP</th>\n",
       "      <th>FG%_OPP</th>\n",
       "      <th>3PM_OPP</th>\n",
       "      <th>3PA_OPP</th>\n",
       "      <th>3P%_OPP</th>\n",
       "      <th>FTM_OPP</th>\n",
       "      <th>FTA_OPP</th>\n",
       "      <th>FT%_OPP</th>\n",
       "      <th>OREB_OPP</th>\n",
       "      <th>DREB_OPP</th>\n",
       "      <th>TREB_OPP</th>\n",
       "      <th>AST_OPP</th>\n",
       "      <th>STL_OPP</th>\n",
       "      <th>BLK_OPP</th>\n",
       "      <th>TOV_OPP</th>\n",
       "      <th>PF_OPP</th>\n",
       "      <th>PTS_OPP</th>\n",
       "      <th>+/-_OPP</th>\n",
       "      <th>Q1_OPP</th>\n",
       "      <th>Q2_OPP</th>\n",
       "      <th>Q3_OPP</th>\n",
       "      <th>Q4_OPP</th>\n",
       "      <th>W/L_OPP</th>\n",
       "    </tr>\n",
       "  </thead>\n",
       "  <tbody>\n",
       "    <tr>\n",
       "      <th>0</th>\n",
       "      <td>0</td>\n",
       "      <td>GSW</td>\n",
       "      <td>POR</td>\n",
       "      <td>away</td>\n",
       "      <td>2024-10-23</td>\n",
       "      <td>240:00</td>\n",
       "      <td>48</td>\n",
       "      <td>93</td>\n",
       "      <td>0.516</td>\n",
       "      <td>20</td>\n",
       "      <td>48</td>\n",
       "      <td>0.417</td>\n",
       "      <td>24</td>\n",
       "      <td>30</td>\n",
       "      <td>0.800</td>\n",
       "      <td>15</td>\n",
       "      <td>42</td>\n",
       "      <td>57</td>\n",
       "      <td>38</td>\n",
       "      <td>13</td>\n",
       "      <td>5</td>\n",
       "      <td>17</td>\n",
       "      <td>27</td>\n",
       "      <td>140</td>\n",
       "      <td>36</td>\n",
       "      <td>21</td>\n",
       "      <td>41</td>\n",
       "      <td>38</td>\n",
       "      <td>40</td>\n",
       "      <td>W</td>\n",
       "      <td>1</td>\n",
       "      <td>POR</td>\n",
       "      <td>GSW</td>\n",
       "      <td>home</td>\n",
       "      <td>240:00</td>\n",
       "      <td>36</td>\n",
       "      <td>92</td>\n",
       "      <td>0.391</td>\n",
       "      <td>8</td>\n",
       "      <td>34</td>\n",
       "      <td>0.235</td>\n",
       "      <td>24</td>\n",
       "      <td>30</td>\n",
       "      <td>0.800</td>\n",
       "      <td>13</td>\n",
       "      <td>29</td>\n",
       "      <td>42</td>\n",
       "      <td>21</td>\n",
       "      <td>10</td>\n",
       "      <td>4</td>\n",
       "      <td>17</td>\n",
       "      <td>22</td>\n",
       "      <td>104</td>\n",
       "      <td>-36</td>\n",
       "      <td>21</td>\n",
       "      <td>29</td>\n",
       "      <td>22</td>\n",
       "      <td>32</td>\n",
       "      <td>L</td>\n",
       "    </tr>\n",
       "    <tr>\n",
       "      <th>1</th>\n",
       "      <td>2</td>\n",
       "      <td>GSW</td>\n",
       "      <td>UTA</td>\n",
       "      <td>away</td>\n",
       "      <td>2024-10-25</td>\n",
       "      <td>240:00</td>\n",
       "      <td>51</td>\n",
       "      <td>106</td>\n",
       "      <td>0.481</td>\n",
       "      <td>20</td>\n",
       "      <td>50</td>\n",
       "      <td>0.400</td>\n",
       "      <td>5</td>\n",
       "      <td>6</td>\n",
       "      <td>0.833</td>\n",
       "      <td>19</td>\n",
       "      <td>41</td>\n",
       "      <td>60</td>\n",
       "      <td>35</td>\n",
       "      <td>15</td>\n",
       "      <td>6</td>\n",
       "      <td>13</td>\n",
       "      <td>25</td>\n",
       "      <td>127</td>\n",
       "      <td>41</td>\n",
       "      <td>32</td>\n",
       "      <td>24</td>\n",
       "      <td>38</td>\n",
       "      <td>33</td>\n",
       "      <td>W</td>\n",
       "      <td>3</td>\n",
       "      <td>UTA</td>\n",
       "      <td>GSW</td>\n",
       "      <td>home</td>\n",
       "      <td>240:00</td>\n",
       "      <td>29</td>\n",
       "      <td>92</td>\n",
       "      <td>0.315</td>\n",
       "      <td>9</td>\n",
       "      <td>42</td>\n",
       "      <td>0.214</td>\n",
       "      <td>19</td>\n",
       "      <td>26</td>\n",
       "      <td>0.731</td>\n",
       "      <td>14</td>\n",
       "      <td>31</td>\n",
       "      <td>45</td>\n",
       "      <td>18</td>\n",
       "      <td>8</td>\n",
       "      <td>5</td>\n",
       "      <td>22</td>\n",
       "      <td>11</td>\n",
       "      <td>86</td>\n",
       "      <td>-41</td>\n",
       "      <td>24</td>\n",
       "      <td>18</td>\n",
       "      <td>28</td>\n",
       "      <td>16</td>\n",
       "      <td>L</td>\n",
       "    </tr>\n",
       "  </tbody>\n",
       "</table>\n",
       "</div>"
      ],
      "text/plain": [
       "   Unnamed: 0_GSW TEAM_GSW OPP_GSW STATUS_GSW        DATE MIN_GSW  FGM_GSW  \\\n",
       "0               0      GSW     POR       away  2024-10-23  240:00       48   \n",
       "1               2      GSW     UTA       away  2024-10-25  240:00       51   \n",
       "\n",
       "   FGA_GSW  FG%_GSW  3PM_GSW  3PA_GSW  3P%_GSW  FTM_GSW  FTA_GSW  FT%_GSW  \\\n",
       "0       93    0.516       20       48    0.417       24       30    0.800   \n",
       "1      106    0.481       20       50    0.400        5        6    0.833   \n",
       "\n",
       "   OREB_GSW  DREB_GSW  TREB_GSW  AST_GSW  STL_GSW  BLK_GSW  TOV_GSW  PF_GSW  \\\n",
       "0        15        42        57       38       13        5       17      27   \n",
       "1        19        41        60       35       15        6       13      25   \n",
       "\n",
       "   PTS_GSW  +/-_GSW  Q1_GSW  Q2_GSW  Q3_GSW  Q4_GSW W/L_GSW  Unnamed: 0_OPP  \\\n",
       "0      140       36      21      41      38      40       W               1   \n",
       "1      127       41      32      24      38      33       W               3   \n",
       "\n",
       "  TEAM_OPP OPP_OPP STATUS_OPP MIN_OPP  FGM_OPP  FGA_OPP  FG%_OPP  3PM_OPP  \\\n",
       "0      POR     GSW       home  240:00       36       92    0.391        8   \n",
       "1      UTA     GSW       home  240:00       29       92    0.315        9   \n",
       "\n",
       "   3PA_OPP  3P%_OPP  FTM_OPP  FTA_OPP  FT%_OPP  OREB_OPP  DREB_OPP  TREB_OPP  \\\n",
       "0       34    0.235       24       30    0.800        13        29        42   \n",
       "1       42    0.214       19       26    0.731        14        31        45   \n",
       "\n",
       "   AST_OPP  STL_OPP  BLK_OPP  TOV_OPP  PF_OPP  PTS_OPP  +/-_OPP  Q1_OPP  \\\n",
       "0       21       10        4       17      22      104      -36      21   \n",
       "1       18        8        5       22      11       86      -41      24   \n",
       "\n",
       "   Q2_OPP  Q3_OPP  Q4_OPP W/L_OPP  \n",
       "0      29      22      32       L  \n",
       "1      18      28      16       L  "
      ]
     },
     "execution_count": 36,
     "metadata": {},
     "output_type": "execute_result"
    }
   ],
   "source": [
    "# Merge by date so that each game has both teams' stats in one row\n",
    "merged_df = pd.merge(gsw_all_games_df, opp_all_games_df, on=\"DATE\", suffixes=(\"_GSW\", \"_OPP\"))\n",
    "merged_df.head(2)"
   ]
  },
  {
   "cell_type": "code",
   "execution_count": 37,
   "metadata": {},
   "outputs": [],
   "source": [
    "# Apply the filtering condition\n",
    "gsw_down_after_q3_won_game = merged_df[\n",
    "    (merged_df[\"Q1_GSW\"] + merged_df[\"Q2_GSW\"] + merged_df[\"Q3_GSW\"] <\n",
    "     merged_df[\"Q1_OPP\"] + merged_df[\"Q2_OPP\"] + merged_df[\"Q3_OPP\"]) &\n",
    "    (merged_df[\"W/L_GSW\"] == \"W\")\n",
    "]"
   ]
  },
  {
   "cell_type": "code",
   "execution_count": 38,
   "metadata": {},
   "outputs": [
    {
     "name": "stdout",
     "output_type": "stream",
     "text": [
      "Games where GSW were down going into Q4, but won the game:\n",
      "    TEAM_GSW OPP_GSW        DATE W/L_GSW STATUS_GSW\n",
      "30      GSW     PHX  2024-12-28       W       home\n",
      "62      GSW     BKN  2025-03-06       W       away\n",
      "63      GSW     DET  2025-03-08       W       home\n"
     ]
    }
   ],
   "source": [
    "# Display the relevant columns\n",
    "print(\"Games where GSW were down going into Q4, but won the game:\\n\", gsw_down_after_q3_won_game[[\"TEAM_GSW\", \"OPP_GSW\", \"DATE\", \"W/L_GSW\", \"STATUS_GSW\"]])"
   ]
  },
  {
   "cell_type": "markdown",
   "metadata": {},
   "source": [
    "### Show games where GSW were up going into Q4, but lost the game"
   ]
  },
  {
   "cell_type": "code",
   "execution_count": 42,
   "metadata": {},
   "outputs": [
    {
     "name": "stdout",
     "output_type": "stream",
     "text": [
      "Games where GSW had the lead going into Q4, but lost the game:\n",
      "    TEAM_GSW OPP_GSW        DATE W/L_GSW STATUS_GSW\n",
      "15      GSW     SAS  2024-11-23       L       away\n",
      "16      GSW     BKN  2024-11-25       L       home\n",
      "23      GSW     HOU  2024-12-11       L       away\n",
      "38      GSW     TOR  2025-01-13       L       away\n",
      "79      GSW     SAS  2025-04-09       L       home\n"
     ]
    }
   ],
   "source": [
    "gsw_up_after_q3_lost_game = merged_df[\n",
    "    (merged_df[\"Q1_GSW\"] + merged_df[\"Q2_GSW\"] + merged_df[\"Q3_GSW\"] >\n",
    "     merged_df[\"Q1_OPP\"] + merged_df[\"Q2_OPP\"] + merged_df[\"Q3_OPP\"]) &\n",
    "    (merged_df[\"W/L_GSW\"] == \"L\")\n",
    "]\n",
    "print(\"Games where GSW had the lead going into Q4, but lost the game:\\n\", gsw_up_after_q3_lost_game[[\"TEAM_GSW\", \"OPP_GSW\", \"DATE\", \"W/L_GSW\", \"STATUS_GSW\"]])"
   ]
  },
  {
   "cell_type": "markdown",
   "metadata": {},
   "source": [
    "### Show games where GSW were up going into Q4, and won the game"
   ]
  },
  {
   "cell_type": "code",
   "execution_count": 48,
   "metadata": {},
   "outputs": [
    {
     "name": "stdout",
     "output_type": "stream",
     "text": [
      "Number of games '43'\n",
      "Games where GSW had the lead going into Q4, and won the game:\n",
      "    TEAM_GSW OPP_GSW        DATE W/L_GSW STATUS_GSW\n",
      "0       GSW     POR  2024-10-23       W       away\n",
      "1       GSW     UTA  2024-10-25       W       away\n",
      "3       GSW     NOP  2024-10-29       W       home\n",
      "4       GSW     NOP  2024-10-30       W       home\n",
      "5       GSW     HOU  2024-11-02       W       away\n",
      "6       GSW     WAS  2024-11-04       W       away\n",
      "7       GSW     BOS  2024-11-06       W       away\n",
      "9       GSW     OKC  2024-11-10       W       away\n",
      "10      GSW     DAL  2024-11-12       W       home\n",
      "11      GSW     MEM  2024-11-15       W       home\n",
      "13      GSW     ATL  2024-11-20       W       home\n",
      "14      GSW     NOP  2024-11-22       W       away\n",
      "20      GSW     HOU  2024-12-05       W       home\n",
      "22      GSW     MIN  2024-12-08       W       home\n",
      "26      GSW     MIN  2024-12-21       W       away\n",
      "32      GSW     PHI  2025-01-02       W       home\n",
      "33      GSW     MEM  2025-01-04       W       home\n",
      "36      GSW     DET  2025-01-09       W       away\n",
      "39      GSW     MIN  2025-01-15       W       away\n",
      "40      GSW     WAS  2025-01-18       W       home\n",
      "43      GSW     CHI  2025-01-23       W       home\n",
      "45      GSW     UTA  2025-01-28       W       home\n",
      "48      GSW     ORL  2025-02-03       W       home\n",
      "51      GSW     CHI  2025-02-08       W       away\n",
      "52      GSW     MIL  2025-02-10       W       away\n",
      "54      GSW     HOU  2025-02-13       W       away\n",
      "55      GSW     SAC  2025-02-21       W       away\n",
      "56      GSW     DAL  2025-02-23       W       home\n",
      "57      GSW     CHA  2025-02-25       W       home\n",
      "58      GSW     ORL  2025-02-27       W       away\n",
      "60      GSW     CHA  2025-03-03       W       away\n",
      "61      GSW     NYK  2025-03-04       W       away\n",
      "64      GSW     POR  2025-03-10       W       home\n",
      "65      GSW     SAC  2025-03-13       W       home\n",
      "66      GSW     NYK  2025-03-15       W       home\n",
      "68      GSW     MIL  2025-03-18       W       home\n",
      "69      GSW     TOR  2025-03-20       W       home\n",
      "72      GSW     NOP  2025-03-28       W       away\n",
      "73      GSW     SAS  2025-03-30       W       away\n",
      "75      GSW     LAL  2025-04-03       W       away\n",
      "76      GSW     DEN  2025-04-04       W       home\n",
      "78      GSW     PHX  2025-04-08       W       away\n",
      "80      GSW     POR  2025-04-11       W       away\n"
     ]
    }
   ],
   "source": [
    "gsw_up_after_q3_won_game = merged_df[\n",
    "    (merged_df[\"Q1_GSW\"] + merged_df[\"Q2_GSW\"] + merged_df[\"Q3_GSW\"] >\n",
    "     merged_df[\"Q1_OPP\"] + merged_df[\"Q2_OPP\"] + merged_df[\"Q3_OPP\"]) &\n",
    "    (merged_df[\"W/L_GSW\"] == \"W\")\n",
    "]\n",
    "print(f\"Number of games '{gsw_up_after_q3_won_game.shape[0]}'\")\n",
    "print(\"Games where GSW had the lead going into Q4, and won the game:\\n\", gsw_up_after_q3_won_game[[\"TEAM_GSW\", \"OPP_GSW\", \"DATE\", \"W/L_GSW\", \"STATUS_GSW\"]])"
   ]
  },
  {
   "cell_type": "markdown",
   "metadata": {},
   "source": [
    "---"
   ]
  }
 ],
 "metadata": {
  "kernelspec": {
   "display_name": ".venv_nba",
   "language": "python",
   "name": "python3"
  },
  "language_info": {
   "codemirror_mode": {
    "name": "ipython",
    "version": 3
   },
   "file_extension": ".py",
   "mimetype": "text/x-python",
   "name": "python",
   "nbconvert_exporter": "python",
   "pygments_lexer": "ipython3",
   "version": "3.11.2"
  }
 },
 "nbformat": 4,
 "nbformat_minor": 2
}
