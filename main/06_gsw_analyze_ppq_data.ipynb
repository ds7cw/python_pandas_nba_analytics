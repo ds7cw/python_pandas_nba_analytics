{
 "cells": [
  {
   "cell_type": "markdown",
   "metadata": {},
   "source": [
    "## GSW Points Per Quarter Data"
   ]
  },
  {
   "cell_type": "code",
   "execution_count": 3,
   "metadata": {},
   "outputs": [],
   "source": [
    "import pandas as pd\n",
    "pd.set_option('display.max_columns', None)\n",
    "\n",
    "\n",
    "df = pd.read_excel('../data/gsw_box_score_team_stats.xlsx')"
   ]
  },
  {
   "cell_type": "code",
   "execution_count": 24,
   "metadata": {},
   "outputs": [],
   "source": [
    "gsw_all_games_df = df[df['TEAM'] == 'GSW']"
   ]
  },
  {
   "cell_type": "code",
   "execution_count": 33,
   "metadata": {},
   "outputs": [
    {
     "name": "stdout",
     "output_type": "stream",
     "text": [
      "Q1: 26.7 PPG\n",
      "Q2: 27.58 PPG\n",
      "Q3: 30.37 PPG\n",
      "Q4: 28.21 PPG\n"
     ]
    }
   ],
   "source": [
    "def show_quarters_ppg(data):\n",
    "    for i in range(1, 5):\n",
    "        print(f\"Q{i}: {round(data[f'Q{i}'].mean(), 2)} PPG\")\n",
    "\n",
    "show_quarters_ppg(gsw_all_games_df) # All GSW games"
   ]
  },
  {
   "cell_type": "code",
   "execution_count": 37,
   "metadata": {},
   "outputs": [
    {
     "name": "stdout",
     "output_type": "stream",
     "text": [
      "Q1: 27.51 PPG\n",
      "Q2: 27.57 PPG\n",
      "Q3: 30.54 PPG\n",
      "Q4: 27.03 PPG\n"
     ]
    }
   ],
   "source": [
    "gsw_all_home_games_df = gsw_all_games_df[gsw_all_games_df['STATUS'] == 'home']\n",
    "show_quarters_ppg(gsw_all_home_games_df) # All GSW home games"
   ]
  },
  {
   "cell_type": "markdown",
   "metadata": {},
   "source": [
    "GSW score more points in the 1st quarter when they are at home."
   ]
  },
  {
   "cell_type": "code",
   "execution_count": 38,
   "metadata": {},
   "outputs": [
    {
     "name": "stdout",
     "output_type": "stream",
     "text": [
      "Q1: 25.86 PPG\n",
      "Q2: 27.58 PPG\n",
      "Q3: 30.19 PPG\n",
      "Q4: 29.42 PPG\n"
     ]
    }
   ],
   "source": [
    "gsw_all_away_games_df = gsw_all_games_df[gsw_all_games_df['STATUS'] == 'away']\n",
    "show_quarters_ppg(gsw_all_away_games_df) # All GSW away games"
   ]
  },
  {
   "cell_type": "markdown",
   "metadata": {},
   "source": [
    "GSW score more points in the 4th quarter when they are on the road."
   ]
  },
  {
   "cell_type": "code",
   "execution_count": 41,
   "metadata": {},
   "outputs": [],
   "source": [
    "JIMMY_TRADE = '2025-02-08'\n",
    "gsw_df_pre_jimmy = gsw_all_games_df[gsw_all_games_df['DATE'] < JIMMY_TRADE]\n",
    "gsw_df_with_jimmy = gsw_all_games_df[gsw_all_games_df['DATE'] >= JIMMY_TRADE]"
   ]
  },
  {
   "cell_type": "code",
   "execution_count": 45,
   "metadata": {},
   "outputs": [
    {
     "name": "stdout",
     "output_type": "stream",
     "text": [
      "Q1: 26.31 PPG\n",
      "Q2: 27.08 PPG\n",
      "Q3: 30.16 PPG\n",
      "Q4: 27.8 PPG\n"
     ]
    }
   ],
   "source": [
    "show_quarters_ppg(gsw_df_pre_jimmy) # GSW games before Jimmy Butler trade"
   ]
  },
  {
   "cell_type": "code",
   "execution_count": 47,
   "metadata": {},
   "outputs": [
    {
     "name": "stdout",
     "output_type": "stream",
     "text": [
      "Q1: 27.59 PPG\n",
      "Q2: 28.73 PPG\n",
      "Q3: 30.86 PPG\n",
      "Q4: 29.14 PPG\n"
     ]
    }
   ],
   "source": [
    "show_quarters_ppg(gsw_df_with_jimmy) # GSW games since Jimmy Butler trade"
   ]
  },
  {
   "cell_type": "code",
   "execution_count": 50,
   "metadata": {},
   "outputs": [
    {
     "name": "stdout",
     "output_type": "stream",
     "text": [
      "Q1: 29.67 PPG\n",
      "Q2: 28.78 PPG\n",
      "Q3: 30.67 PPG\n",
      "Q4: 27.78 PPG\n"
     ]
    }
   ],
   "source": [
    "show_quarters_ppg(gsw_df_with_jimmy[gsw_df_with_jimmy['STATUS'] == 'home']) # GSW home games since Jimmy Butler trade"
   ]
  },
  {
   "cell_type": "code",
   "execution_count": 51,
   "metadata": {},
   "outputs": [
    {
     "name": "stdout",
     "output_type": "stream",
     "text": [
      "Q1: 26.15 PPG\n",
      "Q2: 28.69 PPG\n",
      "Q3: 31.0 PPG\n",
      "Q4: 30.08 PPG\n"
     ]
    }
   ],
   "source": [
    "show_quarters_ppg(gsw_df_with_jimmy[gsw_df_with_jimmy['STATUS'] == 'away']) # GSW away games since Jimmy Butler trade"
   ]
  },
  {
   "cell_type": "markdown",
   "metadata": {},
   "source": [
    "---"
   ]
  },
  {
   "cell_type": "code",
   "execution_count": 75,
   "metadata": {},
   "outputs": [
    {
     "name": "stdout",
     "output_type": "stream",
     "text": [
      "GSW's record at home is 23 wins and 14 losses\n"
     ]
    }
   ],
   "source": [
    "home_wins = gsw_all_home_games_df[gsw_all_home_games_df['W/L']=='W'].shape[0]\n",
    "home_losses = gsw_all_home_games_df[gsw_all_home_games_df['W/L']=='L'].shape[0]\n",
    "print(f\"GSW's record at home is {home_wins} wins and {home_losses} losses\")"
   ]
  },
  {
   "cell_type": "code",
   "execution_count": 76,
   "metadata": {},
   "outputs": [
    {
     "name": "stdout",
     "output_type": "stream",
     "text": [
      "GSW's record on the road is 19 wins and 17 losses\n"
     ]
    }
   ],
   "source": [
    "away_wins = gsw_all_away_games_df[gsw_all_away_games_df['W/L']=='W'].shape[0]\n",
    "away_losses = gsw_all_away_games_df[gsw_all_away_games_df['W/L']=='L'].shape[0]\n",
    "print(f\"GSW's record on the road is {away_wins} wins and {away_losses} losses\")"
   ]
  },
  {
   "cell_type": "markdown",
   "metadata": {},
   "source": [
    "---"
   ]
  }
 ],
 "metadata": {
  "kernelspec": {
   "display_name": ".venv_nba",
   "language": "python",
   "name": "python3"
  },
  "language_info": {
   "codemirror_mode": {
    "name": "ipython",
    "version": 3
   },
   "file_extension": ".py",
   "mimetype": "text/x-python",
   "name": "python",
   "nbconvert_exporter": "python",
   "pygments_lexer": "ipython3",
   "version": "3.11.2"
  }
 },
 "nbformat": 4,
 "nbformat_minor": 2
}
