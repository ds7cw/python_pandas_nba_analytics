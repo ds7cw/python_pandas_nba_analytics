{
 "cells": [
  {
   "cell_type": "markdown",
   "metadata": {},
   "source": [
    "## GSW Points Per Quarter Data"
   ]
  },
  {
   "cell_type": "code",
   "execution_count": 1,
   "metadata": {},
   "outputs": [],
   "source": [
    "import pandas as pd\n",
    "pd.set_option('display.max_columns', None)\n",
    "\n",
    "\n",
    "df = pd.read_excel('../data/gsw_box_score_team_stats.xlsx')"
   ]
  },
  {
   "cell_type": "code",
   "execution_count": 2,
   "metadata": {},
   "outputs": [],
   "source": [
    "gsw_all_games_df = df[df['TEAM'] == 'GSW']"
   ]
  },
  {
   "cell_type": "code",
   "execution_count": 3,
   "metadata": {},
   "outputs": [
    {
     "name": "stdout",
     "output_type": "stream",
     "text": [
      "Q1: 27.25 PPG\n",
      "Q2: 27.69 PPG\n",
      "Q3: 30.48 PPG\n",
      "Q4: 28.36 PPG\n"
     ]
    }
   ],
   "source": [
    "def show_quarters_ppg(data):\n",
    "    for i in range(1, 5):\n",
    "        print(f\"Q{i}: {round(data[f'Q{i}'].mean(), 2)} PPG\")\n",
    "\n",
    "show_quarters_ppg(gsw_all_games_df) # All GSW games"
   ]
  },
  {
   "cell_type": "code",
   "execution_count": 4,
   "metadata": {},
   "outputs": [
    {
     "name": "stdout",
     "output_type": "stream",
     "text": [
      "Q1: 27.68 PPG\n",
      "Q2: 27.68 PPG\n",
      "Q3: 30.53 PPG\n",
      "Q4: 26.89 PPG\n"
     ]
    }
   ],
   "source": [
    "gsw_all_home_games_df = gsw_all_games_df[gsw_all_games_df['STATUS'] == 'home']\n",
    "show_quarters_ppg(gsw_all_home_games_df) # All GSW home games"
   ]
  },
  {
   "cell_type": "markdown",
   "metadata": {},
   "source": [
    "GSW score more points in the 1st quarter when they are at home."
   ]
  },
  {
   "cell_type": "code",
   "execution_count": 5,
   "metadata": {},
   "outputs": [
    {
     "name": "stdout",
     "output_type": "stream",
     "text": [
      "Q1: 26.82 PPG\n",
      "Q2: 27.69 PPG\n",
      "Q3: 30.44 PPG\n",
      "Q4: 29.79 PPG\n"
     ]
    }
   ],
   "source": [
    "gsw_all_away_games_df = gsw_all_games_df[gsw_all_games_df['STATUS'] == 'away']\n",
    "show_quarters_ppg(gsw_all_away_games_df) # All GSW away games"
   ]
  },
  {
   "cell_type": "markdown",
   "metadata": {},
   "source": [
    "GSW score more points in the 4th quarter when they are on the road."
   ]
  },
  {
   "cell_type": "code",
   "execution_count": 6,
   "metadata": {},
   "outputs": [],
   "source": [
    "JIMMY_TRADE = '2025-02-08'\n",
    "gsw_df_pre_jimmy = gsw_all_games_df[gsw_all_games_df['DATE'] < JIMMY_TRADE]\n",
    "gsw_df_with_jimmy = gsw_all_games_df[gsw_all_games_df['DATE'] >= JIMMY_TRADE]"
   ]
  },
  {
   "cell_type": "code",
   "execution_count": 7,
   "metadata": {},
   "outputs": [
    {
     "name": "stdout",
     "output_type": "stream",
     "text": [
      "Q1: 26.31 PPG\n",
      "Q2: 27.08 PPG\n",
      "Q3: 30.16 PPG\n",
      "Q4: 27.8 PPG\n"
     ]
    }
   ],
   "source": [
    "show_quarters_ppg(gsw_df_pre_jimmy) # GSW games before Jimmy Butler trade"
   ]
  },
  {
   "cell_type": "code",
   "execution_count": 8,
   "metadata": {},
   "outputs": [
    {
     "name": "stdout",
     "output_type": "stream",
     "text": [
      "Q1: 29.08 PPG\n",
      "Q2: 28.88 PPG\n",
      "Q3: 31.12 PPG\n",
      "Q4: 29.46 PPG\n"
     ]
    }
   ],
   "source": [
    "show_quarters_ppg(gsw_df_with_jimmy) # GSW games since Jimmy Butler trade"
   ]
  },
  {
   "cell_type": "code",
   "execution_count": 9,
   "metadata": {},
   "outputs": [
    {
     "name": "stdout",
     "output_type": "stream",
     "text": [
      "Q1: 30.1 PPG\n",
      "Q2: 29.1 PPG\n",
      "Q3: 30.6 PPG\n",
      "Q4: 27.2 PPG\n"
     ]
    }
   ],
   "source": [
    "show_quarters_ppg(gsw_df_with_jimmy[gsw_df_with_jimmy['STATUS'] == 'home']) # GSW home games since Jimmy Butler trade"
   ]
  },
  {
   "cell_type": "code",
   "execution_count": 10,
   "metadata": {},
   "outputs": [
    {
     "name": "stdout",
     "output_type": "stream",
     "text": [
      "Q1: 28.44 PPG\n",
      "Q2: 28.75 PPG\n",
      "Q3: 31.44 PPG\n",
      "Q4: 30.88 PPG\n"
     ]
    }
   ],
   "source": [
    "show_quarters_ppg(gsw_df_with_jimmy[gsw_df_with_jimmy['STATUS'] == 'away']) # GSW away games since Jimmy Butler trade"
   ]
  },
  {
   "cell_type": "markdown",
   "metadata": {},
   "source": [
    "---"
   ]
  },
  {
   "cell_type": "code",
   "execution_count": 11,
   "metadata": {},
   "outputs": [
    {
     "name": "stdout",
     "output_type": "stream",
     "text": [
      "GSW's record at home is 24 wins and 14 losses\n"
     ]
    }
   ],
   "source": [
    "home_wins = gsw_all_home_games_df[gsw_all_home_games_df['W/L']=='W'].shape[0]\n",
    "home_losses = gsw_all_home_games_df[gsw_all_home_games_df['W/L']=='L'].shape[0]\n",
    "print(f\"GSW's record at home is {home_wins} wins and {home_losses} losses\")"
   ]
  },
  {
   "cell_type": "code",
   "execution_count": 12,
   "metadata": {},
   "outputs": [
    {
     "name": "stdout",
     "output_type": "stream",
     "text": [
      "GSW's record on the road is 22 wins and 17 losses\n"
     ]
    }
   ],
   "source": [
    "away_wins = gsw_all_away_games_df[gsw_all_away_games_df['W/L']=='W'].shape[0]\n",
    "away_losses = gsw_all_away_games_df[gsw_all_away_games_df['W/L']=='L'].shape[0]\n",
    "print(f\"GSW's record on the road is {away_wins} wins and {away_losses} losses\")"
   ]
  },
  {
   "cell_type": "markdown",
   "metadata": {},
   "source": [
    "---"
   ]
  },
  {
   "cell_type": "code",
   "execution_count": 22,
   "metadata": {},
   "outputs": [],
   "source": [
    "opp_all_games_df = df[df['TEAM'] != 'GSW']"
   ]
  },
  {
   "cell_type": "code",
   "execution_count": null,
   "metadata": {},
   "outputs": [],
   "source": [
    "def get_highest_lowest_opp_quarter_pts(q_num: int, lowest: bool) -> None:\n",
    "    highest_lowest_str = 'Lowest' if lowest else 'Highest'\n",
    "    opp_quarter_pts = opp_all_games_df.sort_values(by=f'Q{q_num}', ascending=lowest).head(5)\n",
    "    print(f'\\nQuarter {q_num} {highest_lowest_str} PTS scored by opponent team against GSW')\n",
    "    print(opp_quarter_pts[['TEAM', 'STATUS', 'DATE', f'Q{q_num}', 'W/L']])"
   ]
  },
  {
   "cell_type": "code",
   "execution_count": 44,
   "metadata": {},
   "outputs": [
    {
     "name": "stdout",
     "output_type": "stream",
     "text": [
      "\n",
      "Quarter 1 Highest PTS scored by opponent team against GSW\n",
      "    TEAM STATUS        DATE  Q1 W/L\n",
      "48   DAL   away  2024-12-15  46   W\n",
      "152  DEN   away  2025-04-04  44   L\n",
      "141  ATL   home  2025-03-22  40   W\n",
      "34   OKC   away  2024-11-27  39   W\n",
      "17   CLE   home  2024-11-08  39   W\n",
      "\n",
      "Quarter 1 Lowest PTS scored by opponent team against GSW\n",
      "    TEAM STATUS        DATE  Q1 W/L\n",
      "79   MIN   home  2025-01-15  12   L\n",
      "53   MIN   home  2024-12-21  15   L\n",
      "31   SAS   home  2024-11-23  17   W\n",
      "114  CHA   away  2025-02-25  18   L\n",
      "112  DAL   away  2025-02-23  18   L\n"
     ]
    }
   ],
   "source": [
    "get_highest_lowest_opp_quarter_pts(q_num=1, lowest=False)\n",
    "get_highest_lowest_opp_quarter_pts(q_num=1, lowest=True)"
   ]
  },
  {
   "cell_type": "code",
   "execution_count": 43,
   "metadata": {},
   "outputs": [
    {
     "name": "stdout",
     "output_type": "stream",
     "text": [
      "\n",
      "Quarter 2 Highest PTS scored by opponent team against GSW\n",
      "    TEAM STATUS        DATE  Q2 W/L\n",
      "17   CLE   home  2024-11-08  44   W\n",
      "68   SAC   away  2025-01-05  39   W\n",
      "60   PHX   away  2024-12-28  38   L\n",
      "103  CHI   home  2025-02-08  38   L\n",
      "119  PHI   home  2025-03-01  37   W\n",
      "\n",
      "Quarter 2 Lowest PTS scored by opponent team against GSW\n",
      "    TEAM STATUS        DATE  Q2 W/L\n",
      "15   BOS   home  2024-11-06  16   L\n",
      "152  DEN   away  2025-04-04  16   L\n",
      "136  MIL   away  2025-03-18  17   L\n",
      "96   ORL   away  2025-02-03  17   L\n",
      "147  SAS   home  2025-03-30  17   L\n"
     ]
    }
   ],
   "source": [
    "get_highest_lowest_opp_quarter_pts(q_num=2, lowest=False)\n",
    "get_highest_lowest_opp_quarter_pts(q_num=2, lowest=True)"
   ]
  },
  {
   "cell_type": "code",
   "execution_count": 41,
   "metadata": {},
   "outputs": [
    {
     "name": "stdout",
     "output_type": "stream",
     "text": [
      "\n",
      "Quarter 3 Highest PTS scored by opponent team against GSW\n",
      "    TEAM STATUS        DATE  Q3 W/L\n",
      "82   BOS   away  2025-01-20  43   W\n",
      "128  POR   away  2025-03-10  43   L\n",
      "15   BOS   home  2024-11-06  41   L\n",
      "51   MEM   home  2024-12-19  40   W\n",
      "53   MIN   home  2024-12-21  38   L\n",
      "\n",
      "Quarter 3 Lowest PTS scored by opponent team against GSW\n",
      "    TEAM STATUS        DATE  Q3 W/L\n",
      "86   CHI   away  2025-01-23  16   L\n",
      "25   LAC   home  2024-11-18  19   W\n",
      "37   PHX   home  2024-11-30  19   W\n",
      "29   NOP   home  2024-11-22  21   L\n",
      "101  LAL   home  2025-02-06  21   W\n"
     ]
    }
   ],
   "source": [
    "get_highest_lowest_opp_quarter_pts(q_num=3, lowest=False)\n",
    "get_highest_lowest_opp_quarter_pts(q_num=3, lowest=True)"
   ]
  },
  {
   "cell_type": "code",
   "execution_count": 42,
   "metadata": {},
   "outputs": [
    {
     "name": "stdout",
     "output_type": "stream",
     "text": [
      "\n",
      "Quarter 4 Highest PTS scored by opponent team against GSW\n",
      "    TEAM STATUS        DATE  Q4 W/L\n",
      "99   UTA   home  2025-02-05  44   W\n",
      "32   BKN   away  2024-11-25  41   W\n",
      "22   MEM   away  2024-11-15  40   L\n",
      "11   HOU   home  2024-11-02  39   L\n",
      "151  LAL   home  2025-04-03  39   L\n",
      "\n",
      "Quarter 4 Lowest PTS scored by opponent team against GSW\n",
      "    TEAM STATUS        DATE  Q4 W/L\n",
      "145  NOP   home  2025-03-28  13   L\n",
      "3    UTA   home  2024-10-25  16   L\n",
      "44   MIN   away  2024-12-08  16   L\n",
      "103  CHI   home  2025-02-08  17   L\n",
      "136  MIL   away  2025-03-18  17   L\n"
     ]
    }
   ],
   "source": [
    "get_highest_lowest_opp_quarter_pts(q_num=4, lowest=False)\n",
    "get_highest_lowest_opp_quarter_pts(q_num=4, lowest=True)"
   ]
  },
  {
   "cell_type": "markdown",
   "metadata": {},
   "source": [
    "---"
   ]
  }
 ],
 "metadata": {
  "kernelspec": {
   "display_name": ".venv_nba",
   "language": "python",
   "name": "python3"
  },
  "language_info": {
   "codemirror_mode": {
    "name": "ipython",
    "version": 3
   },
   "file_extension": ".py",
   "mimetype": "text/x-python",
   "name": "python",
   "nbconvert_exporter": "python",
   "pygments_lexer": "ipython3",
   "version": "3.11.2"
  }
 },
 "nbformat": 4,
 "nbformat_minor": 2
}
