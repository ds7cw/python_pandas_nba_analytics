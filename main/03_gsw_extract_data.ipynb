{
 "cells": [
  {
   "cell_type": "code",
   "execution_count": 1,
   "metadata": {},
   "outputs": [],
   "source": [
    "import pandas as pd\n",
    "import json\n",
    "pd.set_option('display.max_columns', None)\n",
    "\n",
    "\n",
    "with open('../data/gsw_box_scores_full.json', encoding=\"utf8\") as file:\n",
    "    game_data = json.load(file)"
   ]
  },
  {
   "cell_type": "markdown",
   "metadata": {},
   "source": [
    "**Process each player's stats for a game as an individual row**"
   ]
  },
  {
   "cell_type": "code",
   "execution_count": 2,
   "metadata": {},
   "outputs": [],
   "source": [
    "def process_player_data(team_data, team_type, date_et, self_team, other_team):\n",
    "    players = team_data['players']\n",
    "    processed_data = []\n",
    "\n",
    "    for player in players:\n",
    "        player_data = {\n",
    "            \"ID\": player.get('personId'),\n",
    "            \"NAME\": player.get('firstName') + ' ' + player.get('familyName'),\n",
    "            \"TEAM\": self_team,\n",
    "            \"OPP\": other_team,\n",
    "            \"STATUS\": team_type,\n",
    "            \"DATE\": date_et,\n",
    "        }\n",
    "\n",
    "        player_data.update(player.get('statistics', {}))\n",
    "        processed_data.append(player_data)\n",
    "\n",
    "    return processed_data\n",
    "\n",
    "\n",
    "def player_data_processor(game_data):\n",
    "    all_players_data = []\n",
    "    for game in game_data['games']:\n",
    "        date_et = game['gameEt'][:10]\n",
    "        away_team_code = game['awayTeam']['teamTricode']\n",
    "        home_team_code = game['homeTeam']['teamTricode']\n",
    "        away_team_data = process_player_data(game['awayTeam'], 'away', date_et, away_team_code, home_team_code)\n",
    "        home_team_data = process_player_data(game['homeTeam'], 'home', date_et, home_team_code, away_team_code)\n",
    "        all_players_data += away_team_data + home_team_data\n",
    "\n",
    "    return all_players_data"
   ]
  },
  {
   "cell_type": "markdown",
   "metadata": {},
   "source": [
    "**Create players stats spreadsheet**"
   ]
  },
  {
   "cell_type": "code",
   "execution_count": 6,
   "metadata": {},
   "outputs": [
    {
     "name": "stdout",
     "output_type": "stream",
     "text": [
      "Player Stats DataFrame: (2175, 26)\n"
     ]
    }
   ],
   "source": [
    "all_players_data = player_data_processor(game_data=game_data)\n",
    "df = pd.DataFrame(all_players_data)\n",
    "print(\"Player Stats DataFrame:\", df.shape)\n",
    "\n",
    "df.to_excel('../data/gsw_box_score_player_stats.xlsx')"
   ]
  },
  {
   "cell_type": "markdown",
   "metadata": {},
   "source": [
    "**Process each team's total stats for a game as an individual row**"
   ]
  },
  {
   "cell_type": "code",
   "execution_count": 3,
   "metadata": {},
   "outputs": [],
   "source": [
    "def process_team_data(team_data, team_type, date_et, self_team, other_team):\n",
    "    team_stats = {\n",
    "        \"TEAM\": self_team,\n",
    "        \"OPP\": other_team,\n",
    "        \"STATUS\": team_type,\n",
    "        \"DATE\": date_et,\n",
    "    }\n",
    "    team_stats.update(team_data['statistics'])\n",
    "    for i in range (4):\n",
    "        team_stats[f'Q{i+1}'] = team_data['periods'][i]['score']\n",
    "\n",
    "    return team_stats\n",
    "\n",
    "\n",
    "def team_data_processor(game_data):\n",
    "    all_team_data = []\n",
    "    for game in game_data['games']:\n",
    "        date_et = game['gameEt'][:10]\n",
    "        away_team_code = game['awayTeam']['teamTricode']\n",
    "        home_team_code = game['homeTeam']['teamTricode']\n",
    "        away_team_data = process_team_data(game['awayTeam'], 'away', date_et, away_team_code, home_team_code)\n",
    "        home_team_data = process_team_data(game['homeTeam'], 'home', date_et, home_team_code, away_team_code)\n",
    "        away_team_data['W/L'] = 'W' if away_team_data['PTS'] > home_team_data['PTS'] else 'L'\n",
    "        home_team_data['W/L'] = 'W' if home_team_data['PTS'] > away_team_data['PTS'] else 'L'\n",
    "        all_team_data.append(away_team_data)\n",
    "        all_team_data.append(home_team_data)\n",
    "\n",
    "    return all_team_data"
   ]
  },
  {
   "cell_type": "markdown",
   "metadata": {},
   "source": [
    "**Create team stats spreadsheet**"
   ]
  },
  {
   "cell_type": "code",
   "execution_count": 7,
   "metadata": {},
   "outputs": [
    {
     "name": "stdout",
     "output_type": "stream",
     "text": [
      "Team Stats DataFrame: (164, 29)\n"
     ]
    }
   ],
   "source": [
    "all_teams_data = team_data_processor(game_data=game_data)\n",
    "df2 = pd.DataFrame(all_teams_data)\n",
    "print(\"Team Stats DataFrame:\", df2.shape)\n",
    "\n",
    "df2.to_excel('../data/gsw_box_score_team_stats.xlsx')"
   ]
  },
  {
   "cell_type": "markdown",
   "metadata": {},
   "source": [
    "---"
   ]
  },
  {
   "cell_type": "markdown",
   "metadata": {},
   "source": [
    "## PLAYOFFS"
   ]
  },
  {
   "cell_type": "markdown",
   "metadata": {},
   "source": [
    "**Create Playoffs players stats spreadsheet**"
   ]
  },
  {
   "cell_type": "code",
   "execution_count": 4,
   "metadata": {},
   "outputs": [],
   "source": [
    "with open('../data/gsw_box_scores_playoffs_full.json', encoding=\"utf8\") as file:\n",
    "    playoffs_data = json.load(file)"
   ]
  },
  {
   "cell_type": "code",
   "execution_count": 5,
   "metadata": {},
   "outputs": [
    {
     "name": "stdout",
     "output_type": "stream",
     "text": [
      "Playoffs Player Stats DataFrame: (358, 26)\n"
     ]
    }
   ],
   "source": [
    "all_playoffs_players_data = player_data_processor(game_data=playoffs_data)\n",
    "df3 = pd.DataFrame(all_playoffs_players_data)\n",
    "print(\"Playoffs Player Stats DataFrame:\", df3.shape)\n",
    "\n",
    "df3.to_excel('../data/gsw_box_score_player_playoffs_stats.xlsx')"
   ]
  },
  {
   "cell_type": "markdown",
   "metadata": {},
   "source": [
    "**Create Playoffs team stats spreadsheet**"
   ]
  },
  {
   "cell_type": "code",
   "execution_count": 6,
   "metadata": {},
   "outputs": [
    {
     "name": "stdout",
     "output_type": "stream",
     "text": [
      "Playoffs Team Stats DataFrame: (24, 29)\n"
     ]
    }
   ],
   "source": [
    "all_playoffs_teams_data = team_data_processor(game_data=playoffs_data)\n",
    "df4 = pd.DataFrame(all_playoffs_teams_data)\n",
    "print(\"Playoffs Team Stats DataFrame:\", df4.shape)\n",
    "\n",
    "df4.to_excel('../data/gsw_box_score_team_playoffs_stats.xlsx')"
   ]
  },
  {
   "cell_type": "markdown",
   "metadata": {},
   "source": [
    "---"
   ]
  }
 ],
 "metadata": {
  "kernelspec": {
   "display_name": ".venv_nba",
   "language": "python",
   "name": "python3"
  },
  "language_info": {
   "codemirror_mode": {
    "name": "ipython",
    "version": 3
   },
   "file_extension": ".py",
   "mimetype": "text/x-python",
   "name": "python",
   "nbconvert_exporter": "python",
   "pygments_lexer": "ipython3",
   "version": "3.11.2"
  }
 },
 "nbformat": 4,
 "nbformat_minor": 2
}
