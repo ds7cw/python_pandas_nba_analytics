{
 "cells": [
  {
   "cell_type": "code",
   "execution_count": 51,
   "metadata": {},
   "outputs": [],
   "source": [
    "import pandas as pd\n",
    "import json\n",
    "pd.set_option('display.max_columns', None)\n",
    "\n",
    "\n",
    "with open('../data/gsw_box_scores_full.json', encoding=\"utf8\") as file:\n",
    "    game_data = json.load(file)"
   ]
  },
  {
   "cell_type": "markdown",
   "metadata": {},
   "source": [
    "**Process each player's stats for a game as an individual row**"
   ]
  },
  {
   "cell_type": "code",
   "execution_count": 52,
   "metadata": {},
   "outputs": [],
   "source": [
    "def process_player_data(team_data, team_type, date_et):\n",
    "    players = team_data['players']\n",
    "    team_tricode = team_data['teamTricode']\n",
    "    processed_data = []\n",
    "\n",
    "    for player in players:\n",
    "        player_data = {\n",
    "            \"NAME\": player.get('firstName') + ' ' + player.get('familyName'),\n",
    "            \"TEAM\": team_tricode,\n",
    "            \"STATUS\": team_type,\n",
    "            \"DATE\": date_et,\n",
    "        }\n",
    "\n",
    "        player_data.update(player.get('statistics', {}))\n",
    "        processed_data.append(player_data)\n",
    "\n",
    "    return processed_data\n",
    "\n",
    "\n",
    "def player_data_processor(game_data):\n",
    "    all_players_data = []\n",
    "    for game in game_data['games']:\n",
    "        date_et = game['gameEt'][:10]\n",
    "        away_team_data = process_player_data(game['awayTeam'], 'away', date_et)\n",
    "        home_team_data = process_player_data(game['homeTeam'], 'home', date_et)\n",
    "        all_players_data += away_team_data + home_team_data\n",
    "\n",
    "    return all_players_data"
   ]
  },
  {
   "cell_type": "markdown",
   "metadata": {},
   "source": [
    "**Create players stats spreadsheet**"
   ]
  },
  {
   "cell_type": "code",
   "execution_count": 53,
   "metadata": {},
   "outputs": [],
   "source": [
    "all_players_data = player_data_processor(game_data=game_data)\n",
    "df = pd.DataFrame(all_players_data)\n",
    "\n",
    "df.to_excel('../data/gsw_box_score_player_stats.xlsx')"
   ]
  },
  {
   "cell_type": "markdown",
   "metadata": {},
   "source": [
    "**Process each team's total stats for a game as an individual row**"
   ]
  },
  {
   "cell_type": "code",
   "execution_count": 54,
   "metadata": {},
   "outputs": [],
   "source": [
    "def process_team_data(team_data, team_type, date_et):\n",
    "    team_tricode = team_data['teamTricode']\n",
    "    team_stats = {\n",
    "        \"TEAM\": team_tricode,\n",
    "        \"STATUS\": team_type,\n",
    "        \"DATE\": date_et,\n",
    "    }\n",
    "    team_stats.update(team_data['statistics'])\n",
    "\n",
    "    return team_stats\n",
    "\n",
    "\n",
    "def team_data_processor(game_data):\n",
    "    all_team_data = []\n",
    "    for game in game_data['games']:\n",
    "        date_et = game['gameEt'][:10]\n",
    "        away_team_data = process_team_data(game['awayTeam'], 'away', date_et)\n",
    "        home_team_data = process_team_data(game['homeTeam'], 'home', date_et)\n",
    "        all_team_data.append(away_team_data)\n",
    "        all_team_data.append(home_team_data)\n",
    "\n",
    "    return all_team_data"
   ]
  },
  {
   "cell_type": "markdown",
   "metadata": {},
   "source": [
    "**Create team stats spreadsheet**"
   ]
  },
  {
   "cell_type": "code",
   "execution_count": 55,
   "metadata": {},
   "outputs": [],
   "source": [
    "all_teams_data = team_data_processor(game_data=game_data)\n",
    "df2 = pd.DataFrame(all_teams_data)\n",
    "\n",
    "df2.to_excel('../data/gsw_box_score_team_stats.xlsx')"
   ]
  }
 ],
 "metadata": {
  "kernelspec": {
   "display_name": ".nba_venv",
   "language": "python",
   "name": "python3"
  },
  "language_info": {
   "codemirror_mode": {
    "name": "ipython",
    "version": 3
   },
   "file_extension": ".py",
   "mimetype": "text/x-python",
   "name": "python",
   "nbconvert_exporter": "python",
   "pygments_lexer": "ipython3",
   "version": "3.12.6"
  }
 },
 "nbformat": 4,
 "nbformat_minor": 2
}
