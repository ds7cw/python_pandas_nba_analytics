{
 "cells": [
  {
   "cell_type": "code",
   "execution_count": 3,
   "metadata": {},
   "outputs": [],
   "source": [
    "import pandas as pd\n",
    "pd.set_option('display.max_columns', None)"
   ]
  },
  {
   "cell_type": "code",
   "execution_count": 4,
   "metadata": {},
   "outputs": [
    {
     "name": "stdout",
     "output_type": "stream",
     "text": [
      "gsw_df.shape: (64, 24)\t\tgsw_df.TEAM.nunique(): 1\n",
      "opponent_df.shape: (64, 24)\topponent_df.TEAM.nunique(): 29\n"
     ]
    }
   ],
   "source": [
    "df = pd.read_excel('../data/gsw_box_score_team_stats.xlsx')\n",
    "\n",
    "gsw_df = df[df['TEAM']=='GSW']\n",
    "opponent_df = df[df['TEAM']!='GSW']\n",
    "\n",
    "print(f'gsw_df.shape: {gsw_df.shape}\\t\\tgsw_df.TEAM.nunique(): {gsw_df.TEAM.nunique()}')\n",
    "print(f'opponent_df.shape: {opponent_df.shape}\\topponent_df.TEAM.nunique(): {opponent_df.TEAM.nunique()}')"
   ]
  },
  {
   "cell_type": "code",
   "execution_count": 5,
   "metadata": {},
   "outputs": [],
   "source": [
    "JIMMY_TRADE = '2025-02-08'\n",
    "\n",
    "gsw_df_pre_jimmy = gsw_df[gsw_df['DATE'] < JIMMY_TRADE]\n",
    "gsw_df_with_jimmy = gsw_df[gsw_df['DATE'] >= JIMMY_TRADE]\n",
    "\n",
    "opp_df_pre_jimmy = opponent_df[opponent_df['DATE'] < JIMMY_TRADE]\n",
    "opp_df_with_jimmy = opponent_df[opponent_df['DATE'] >= JIMMY_TRADE]"
   ]
  },
  {
   "cell_type": "code",
   "execution_count": 6,
   "metadata": {},
   "outputs": [
    {
     "name": "stdout",
     "output_type": "stream",
     "text": [
      "GSW PTS AVG with Jimmy: 120.31; GSW PTS AVG before Jimmy: 111.51\n",
      "Opponents PTS AVG with Jimmy: 108.15; Opponents PTS AVG before Jimmy: 111.92\n"
     ]
    }
   ],
   "source": [
    "gsw_pts_avg_with_jimmy = round(gsw_df_with_jimmy.PTS.mean(), 2)\n",
    "gsw_pts_avg_pre_jimmy = round(gsw_df_pre_jimmy.PTS.mean(), 2)\n",
    "print(f\"GSW PTS AVG with Jimmy: {gsw_pts_avg_with_jimmy}; GSW PTS AVG before Jimmy: {gsw_pts_avg_pre_jimmy}\")\n",
    "\n",
    "opp_pts_avg_with_jimmy = round(opp_df_with_jimmy.PTS.mean(), 2)\n",
    "opp_pts_avg_pre_jimmy = round(opp_df_pre_jimmy.PTS.mean(), 2)\n",
    "print(f\"Opponents PTS AVG with Jimmy: {opp_pts_avg_with_jimmy}; Opponents PTS AVG before Jimmy: {opp_pts_avg_pre_jimmy}\")"
   ]
  },
  {
   "cell_type": "code",
   "execution_count": 7,
   "metadata": {},
   "outputs": [],
   "source": [
    "avg_columns = [\n",
    "    'FGM', 'FGA','3PM', '3PA', 'FTM', 'FTA', 'OREB', 'DREB',\n",
    "    'TREB', 'AST', 'STL', 'BLK', 'TOV', 'PF', 'PTS', '+/-']\n",
    "\n",
    "gsw_df_pre_jimmy_avg = pd.DataFrame(gsw_df_pre_jimmy[avg_columns].mean()).transpose()\n",
    "gsw_df_with_jimmy_avg = pd.DataFrame(gsw_df_with_jimmy[avg_columns].mean()).transpose()"
   ]
  },
  {
   "cell_type": "code",
   "execution_count": 8,
   "metadata": {},
   "outputs": [
    {
     "data": {
      "text/html": [
       "<div>\n",
       "<style scoped>\n",
       "    .dataframe tbody tr th:only-of-type {\n",
       "        vertical-align: middle;\n",
       "    }\n",
       "\n",
       "    .dataframe tbody tr th {\n",
       "        vertical-align: top;\n",
       "    }\n",
       "\n",
       "    .dataframe thead th {\n",
       "        text-align: right;\n",
       "    }\n",
       "</style>\n",
       "<table border=\"1\" class=\"dataframe\">\n",
       "  <thead>\n",
       "    <tr style=\"text-align: right;\">\n",
       "      <th></th>\n",
       "      <th>FGM</th>\n",
       "      <th>FGA</th>\n",
       "      <th>3PM</th>\n",
       "      <th>3PA</th>\n",
       "      <th>FTM</th>\n",
       "      <th>FTA</th>\n",
       "      <th>OREB</th>\n",
       "      <th>DREB</th>\n",
       "      <th>TREB</th>\n",
       "      <th>AST</th>\n",
       "      <th>STL</th>\n",
       "      <th>BLK</th>\n",
       "      <th>TOV</th>\n",
       "      <th>PF</th>\n",
       "      <th>PTS</th>\n",
       "      <th>+/-</th>\n",
       "    </tr>\n",
       "  </thead>\n",
       "  <tbody>\n",
       "    <tr>\n",
       "      <th>0</th>\n",
       "      <td>40.705882</td>\n",
       "      <td>91.627451</td>\n",
       "      <td>15.411765</td>\n",
       "      <td>42.549020</td>\n",
       "      <td>14.686275</td>\n",
       "      <td>20.392157</td>\n",
       "      <td>12.607843</td>\n",
       "      <td>33.392157</td>\n",
       "      <td>46.000000</td>\n",
       "      <td>28.607843</td>\n",
       "      <td>8.607843</td>\n",
       "      <td>4.980392</td>\n",
       "      <td>13.254902</td>\n",
       "      <td>19.568627</td>\n",
       "      <td>111.509804</td>\n",
       "      <td>-0.411765</td>\n",
       "    </tr>\n",
       "    <tr>\n",
       "      <th>0</th>\n",
       "      <td>42.153846</td>\n",
       "      <td>91.307692</td>\n",
       "      <td>14.307692</td>\n",
       "      <td>41.615385</td>\n",
       "      <td>21.692308</td>\n",
       "      <td>25.538462</td>\n",
       "      <td>13.692308</td>\n",
       "      <td>32.461538</td>\n",
       "      <td>46.153846</td>\n",
       "      <td>31.153846</td>\n",
       "      <td>10.153846</td>\n",
       "      <td>5.000000</td>\n",
       "      <td>12.307692</td>\n",
       "      <td>19.692308</td>\n",
       "      <td>120.307692</td>\n",
       "      <td>12.153846</td>\n",
       "    </tr>\n",
       "  </tbody>\n",
       "</table>\n",
       "</div>"
      ],
      "text/plain": [
       "         FGM        FGA        3PM        3PA        FTM        FTA  \\\n",
       "0  40.705882  91.627451  15.411765  42.549020  14.686275  20.392157   \n",
       "0  42.153846  91.307692  14.307692  41.615385  21.692308  25.538462   \n",
       "\n",
       "        OREB       DREB       TREB        AST        STL       BLK        TOV  \\\n",
       "0  12.607843  33.392157  46.000000  28.607843   8.607843  4.980392  13.254902   \n",
       "0  13.692308  32.461538  46.153846  31.153846  10.153846  5.000000  12.307692   \n",
       "\n",
       "          PF         PTS        +/-  \n",
       "0  19.568627  111.509804  -0.411765  \n",
       "0  19.692308  120.307692  12.153846  "
      ]
     },
     "execution_count": 8,
     "metadata": {},
     "output_type": "execute_result"
    }
   ],
   "source": [
    "gsw_avg_combined_df = pd.concat([gsw_df_pre_jimmy_avg, gsw_df_with_jimmy_avg], axis=0)\n",
    "gsw_avg_combined_df"
   ]
  },
  {
   "cell_type": "code",
   "execution_count": 14,
   "metadata": {},
   "outputs": [],
   "source": [
    "opp_df_pre_jimmy_avg = pd.DataFrame(opp_df_pre_jimmy[avg_columns].mean()).transpose()\n",
    "opp_df_with_jimmy_avg = pd.DataFrame(opp_df_with_jimmy[avg_columns].mean()).transpose()\n",
    "\n",
    "opp_avg_combined_df = pd.concat([opp_df_pre_jimmy_avg, opp_df_with_jimmy_avg], axis=0)\n",
    "opp_avg_combined_df['Descr']=['before','after']"
   ]
  },
  {
   "cell_type": "code",
   "execution_count": 15,
   "metadata": {},
   "outputs": [
    {
     "data": {
      "text/html": [
       "<div>\n",
       "<style scoped>\n",
       "    .dataframe tbody tr th:only-of-type {\n",
       "        vertical-align: middle;\n",
       "    }\n",
       "\n",
       "    .dataframe tbody tr th {\n",
       "        vertical-align: top;\n",
       "    }\n",
       "\n",
       "    .dataframe thead th {\n",
       "        text-align: right;\n",
       "    }\n",
       "</style>\n",
       "<table border=\"1\" class=\"dataframe\">\n",
       "  <thead>\n",
       "    <tr style=\"text-align: right;\">\n",
       "      <th></th>\n",
       "      <th>FGM</th>\n",
       "      <th>FGA</th>\n",
       "      <th>3PM</th>\n",
       "      <th>3PA</th>\n",
       "      <th>FTM</th>\n",
       "      <th>FTA</th>\n",
       "      <th>OREB</th>\n",
       "      <th>DREB</th>\n",
       "      <th>TREB</th>\n",
       "      <th>AST</th>\n",
       "      <th>STL</th>\n",
       "      <th>BLK</th>\n",
       "      <th>TOV</th>\n",
       "      <th>PF</th>\n",
       "      <th>PTS</th>\n",
       "      <th>+/-</th>\n",
       "      <th>Descr</th>\n",
       "    </tr>\n",
       "  </thead>\n",
       "  <tbody>\n",
       "    <tr>\n",
       "      <th>0</th>\n",
       "      <td>40.803922</td>\n",
       "      <td>88.215686</td>\n",
       "      <td>13.352941</td>\n",
       "      <td>37.352941</td>\n",
       "      <td>16.960784</td>\n",
       "      <td>21.784314</td>\n",
       "      <td>10.549020</td>\n",
       "      <td>34.647059</td>\n",
       "      <td>45.196078</td>\n",
       "      <td>26.549020</td>\n",
       "      <td>7.549020</td>\n",
       "      <td>5.862745</td>\n",
       "      <td>13.725490</td>\n",
       "      <td>17.784314</td>\n",
       "      <td>111.921569</td>\n",
       "      <td>0.411765</td>\n",
       "      <td>before</td>\n",
       "    </tr>\n",
       "    <tr>\n",
       "      <th>0</th>\n",
       "      <td>39.384615</td>\n",
       "      <td>85.307692</td>\n",
       "      <td>12.153846</td>\n",
       "      <td>33.692308</td>\n",
       "      <td>17.230769</td>\n",
       "      <td>23.153846</td>\n",
       "      <td>10.692308</td>\n",
       "      <td>30.846154</td>\n",
       "      <td>41.538462</td>\n",
       "      <td>22.846154</td>\n",
       "      <td>7.230769</td>\n",
       "      <td>4.538462</td>\n",
       "      <td>17.461538</td>\n",
       "      <td>20.461538</td>\n",
       "      <td>108.153846</td>\n",
       "      <td>-12.153846</td>\n",
       "      <td>after</td>\n",
       "    </tr>\n",
       "  </tbody>\n",
       "</table>\n",
       "</div>"
      ],
      "text/plain": [
       "         FGM        FGA        3PM        3PA        FTM        FTA  \\\n",
       "0  40.803922  88.215686  13.352941  37.352941  16.960784  21.784314   \n",
       "0  39.384615  85.307692  12.153846  33.692308  17.230769  23.153846   \n",
       "\n",
       "        OREB       DREB       TREB        AST       STL       BLK        TOV  \\\n",
       "0  10.549020  34.647059  45.196078  26.549020  7.549020  5.862745  13.725490   \n",
       "0  10.692308  30.846154  41.538462  22.846154  7.230769  4.538462  17.461538   \n",
       "\n",
       "          PF         PTS        +/-   Descr  \n",
       "0  17.784314  111.921569   0.411765  before  \n",
       "0  20.461538  108.153846 -12.153846   after  "
      ]
     },
     "execution_count": 15,
     "metadata": {},
     "output_type": "execute_result"
    }
   ],
   "source": [
    "opp_avg_combined_df\n"
   ]
  },
  {
   "cell_type": "code",
   "execution_count": null,
   "metadata": {},
   "outputs": [],
   "source": [
    "import numpy as np\n",
    "\n",
    "# ts = pd.DataFrame(gsw_df_pre_jimmy.PTS, index=gsw_df_pre_jimmy.DATE)\n",
    "# ts\n",
    "ts = gsw_df#.cumsum()\n",
    "ts.plot(y=['PTS'], x='DATE', kind='bar')\n",
    "\n"
   ]
  }
 ],
 "metadata": {
  "kernelspec": {
   "display_name": ".nba_venv",
   "language": "python",
   "name": "python3"
  },
  "language_info": {
   "codemirror_mode": {
    "name": "ipython",
    "version": 3
   },
   "file_extension": ".py",
   "mimetype": "text/x-python",
   "name": "python",
   "nbconvert_exporter": "python",
   "pygments_lexer": "ipython3",
   "version": "3.12.6"
  }
 },
 "nbformat": 4,
 "nbformat_minor": 2
}
